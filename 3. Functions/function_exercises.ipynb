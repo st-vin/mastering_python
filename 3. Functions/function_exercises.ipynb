{
 "cells": [
  {
   "cell_type": "markdown",
   "id": "ad9fbf08",
   "metadata": {},
   "source": [
    "# Exercise: Python Functions"
   ]
  },
  {
   "cell_type": "markdown",
   "id": "ceb39153",
   "metadata": {},
   "source": [
    "## Level 1: Fundamentals – Definitions, Returns, Scope"
   ]
  },
  {
   "cell_type": "markdown",
   "id": "fcb5f63e",
   "metadata": {},
   "source": [
    "### 1. Basic Function Creation\n",
    "\n",
    "```python\n",
    "# Write a function `greet(name)` that returns \"Hello, <name>!\"\n",
    "```"
   ]
  },
  {
   "cell_type": "code",
   "execution_count": null,
   "id": "94c3ea41",
   "metadata": {},
   "outputs": [
    {
     "data": {
      "text/plain": [
       "'Hello, Makena!'"
      ]
     },
     "execution_count": 7,
     "metadata": {},
     "output_type": "execute_result"
    }
   ],
   "source": [
    "def greet(name):\n",
    "    return f\"Hello, {name}!\"\n",
    "\n",
    "greet(\"Makena\")\n",
    "\n",
    "# Return lets you use the result elsewhere (vs. print)."
   ]
  },
  {
   "cell_type": "markdown",
   "id": "531d2fd7",
   "metadata": {},
   "source": [
    "### 2. Return vs Print\n",
    "\n",
    "```python\n",
    "# Modify this function to return a value instead of printing it\n",
    "def square(x):\n",
    "    print(x * x)\n",
    "```"
   ]
  },
  {
   "cell_type": "code",
   "execution_count": 12,
   "id": "993e92f4",
   "metadata": {},
   "outputs": [
    {
     "data": {
      "text/plain": [
       "32"
      ]
     },
     "execution_count": 12,
     "metadata": {},
     "output_type": "execute_result"
    }
   ],
   "source": [
    "def square(x):\n",
    "    return x * x\n",
    "\n",
    "# print() sends to console, return sends value back to caller.\n",
    "result = square(4)\n",
    "result * 2 # if you use print() this would result in a \"TypeError: unsupported operand type(s) for *: 'NoneType' and 'int'\""
   ]
  },
  {
   "cell_type": "markdown",
   "id": "bbf093b9",
   "metadata": {},
   "source": [
    "### 3. Scope Insight\n",
    "\n",
    "```python\n",
    "x = 5\n",
    "def change_x():\n",
    "    x = 10\n",
    "change_x()\n",
    "print(x)  # Predict the output. Why? \n",
    "```"
   ]
  },
  {
   "cell_type": "code",
   "execution_count": null,
   "id": "1c0cf8e3",
   "metadata": {},
   "outputs": [
    {
     "name": "stdout",
     "output_type": "stream",
     "text": [
      "5\n"
     ]
    }
   ],
   "source": [
    "x = 5\n",
    "def change_x():\n",
    "    x = 10  # Local x, doesn't affect global x\n",
    "\n",
    "change_x()\n",
    "print(x)  # Output: 5\n",
    "\n",
    "# Why: Without global keyword, Python uses local scope for x inside function."
   ]
  },
  {
   "cell_type": "markdown",
   "id": "3745c17d",
   "metadata": {},
   "source": [
    "### 4. Global Keyword\n",
    "\n",
    "```python\n",
    "x = 3\n",
    "def modify():\n",
    "    global x\n",
    "    x += 7\n",
    "modify()\n",
    "print(x)\n",
    "```"
   ]
  },
  {
   "cell_type": "code",
   "execution_count": 16,
   "id": "552c3278",
   "metadata": {},
   "outputs": [
    {
     "name": "stdout",
     "output_type": "stream",
     "text": [
      "10\n"
     ]
    }
   ],
   "source": [
    "x = 3\n",
    "def modify():\n",
    "    global x\n",
    "    x += 7\n",
    "\n",
    "modify()\n",
    "print(x)  # Output: 10\n",
    "# global makes the function change the global x."
   ]
  },
  {
   "cell_type": "markdown",
   "id": "a55d0694",
   "metadata": {},
   "source": [
    "## Level 2: Arguments – Default, Keyword, Positional-Only, Mutability"
   ]
  },
  {
   "cell_type": "markdown",
   "id": "3e0221b3",
   "metadata": {},
   "source": [
    "### 5. Default Argument Trap\n",
    "\n",
    "```python\n",
    "def append_to_list(val, my_list=[]):\n",
    "    my_list.append(val)\n",
    "    return my_list\n",
    "\n",
    "# Call this function three times and explain the output.\n",
    "```"
   ]
  },
  {
   "cell_type": "markdown",
   "id": "04f3c4eb",
   "metadata": {},
   "source": [
    "The Default Argument Trap Explained\n",
    "\n",
    "The \"default argument trap\" happens because Python passes the value of the default argument to the function. When a mutable object (like a list) is used as a default argument, the function doesn't create a new object. Instead, it passes a reference to the same object that was created when the function was defined. This is why modifying the list in the function also affects the list outside the function."
   ]
  },
  {
   "cell_type": "code",
   "execution_count": null,
   "id": "fc6b24df",
   "metadata": {},
   "outputs": [
    {
     "data": {
      "text/plain": [
       "[10, 11, 12]"
      ]
     },
     "execution_count": 33,
     "metadata": {},
     "output_type": "execute_result"
    }
   ],
   "source": [
    "def append_to_list(val, my_list=[]): # The default argument my_list is initialized to [] (an empty list) when the function is defined. This means that all calls to the function share the same list object.\n",
    "    my_list.append(val)\n",
    "    return my_list\n",
    "\n",
    "append_to_list(10)\n",
    "append_to_list(11)\n",
    "append_to_list(12)\n"
   ]
  },
  {
   "cell_type": "code",
   "execution_count": 36,
   "id": "0c4ef2a7",
   "metadata": {},
   "outputs": [
    {
     "name": "stdout",
     "output_type": "stream",
     "text": [
      "[10]\n",
      "[15]\n"
     ]
    }
   ],
   "source": [
    "def append_to_list(val, my_list=None): #  This is a default argument. If the function is called without providing a value for my_list, it will default to None.\n",
    "    if my_list is None:\n",
    "        my_list = []\n",
    "    my_list.append(val)\n",
    "    return my_list\n",
    "print(append_to_list(10))\n",
    "print(append_to_list(15))"
   ]
  },
  {
   "cell_type": "markdown",
   "id": "ba7e27f9",
   "metadata": {},
   "source": [
    "### 6. Keyword vs Positional\n",
    "\n",
    "```python\n",
    "def report(name, age, /, *, city):\n",
    "    return f\"{name}, {age} years old, lives in {city}\"\n",
    "\n",
    "# Try calling report(\"Ali\", 22, city=\"Nairobi\")\n",
    "# Now try: report(name=\"Ali\", age=22, city=\"Nairobi\") → Why does one fail?"
   ]
  },
  {
   "cell_type": "code",
   "execution_count": 43,
   "id": "29758d9f",
   "metadata": {},
   "outputs": [
    {
     "name": "stdout",
     "output_type": "stream",
     "text": [
      "Ali, 22 years old, lives in Nairobi\n"
     ]
    }
   ],
   "source": [
    "def report(name, age, /, *, city):\n",
    "    return f\"{name}, {age} years old, lives in {city}\"\n",
    "\n",
    "# Try calling report(\"Ali\", 22, city=\"Nairobi\")\n",
    "# Now try: report(name=\"Ali\", age=22, city=\"Nairobi\") → Why does one fail?\n",
    "print(report(\"Ali\", 22, city=\"Nairobi\"))\n",
    "# print(report(name=\"Ali\", age=22, city=\"Nairobi\"))\n",
    "# / means name and age must be positional only"
   ]
  },
  {
   "cell_type": "markdown",
   "id": "8f361da5",
   "metadata": {},
   "source": [
    "The code defines a function called `report` that is designed to create a string summarizing a person's information.\n",
    "\n",
    "```python\n",
    "def report(name, age, /, *, city):\n",
    "    return f\"{name}, {age} years old, lives in {city}\"\n",
    "```\n",
    "\n",
    "*   **`def report(name, age, /, *, city):`**: This line defines the function `report`.\n",
    "    *   `name`: This is a regular argument. When you call the function, you *must* provide a value for `name`.\n",
    "    *   `age`: This is also a regular argument that must be supplied.\n",
    "    *   `/`: This slash `/` is crucial.  It signifies that the following arguments (`city` in this case) are *non-keyword* arguments.\n",
    "    *   `*,`: This asterisk `*` indicates that the arguments following it are *keyword-only* arguments.  This means you *must* specify the argument name when calling the function, you cannot use just the position like you would with positional arguments.\n",
    "    *   `city`: This is a keyword-only argument.\n",
    "\n",
    "*   `return f\"{name}, {age} years old, lives in {city}\"`:  This line constructs a formatted string using an f-string. The string includes the provided `name`, `age`, and `city` values.\n",
    "\n",
    "*   `print(report(\"Ali\", 22, city=\"Nairobi\"))` : This line calls the `report` function, passing \"Ali\" for `name`, 22 for `age`, and \"Nairobi\" for `city`. Because `city` is a keyword-only argument, we are explicitly naming the city argument when calling the function.\n",
    "*   `# report(name=\"Ali\", age=22, city=\"Nairobi\") ❌ TypeError`: This is a comment showing an example of an incorrect call to the function.  It illustrates the `TypeError` that would occur if you tried to pass the arguments in a positional manner, because `city` is a keyword-only argument.\n",
    "\n",
    "**Positional vs. Keyword Arguments**\n",
    "\n",
    "Now, let's clarify the difference between positional and keyword arguments.\n",
    "\n",
    "1.  **Positional Arguments:**\n",
    "    *   When you call a function with positional arguments, the order of the arguments you provide *matters*.  The first argument corresponds to the first parameter in the function definition, the second to the second, and so on.\n",
    "    *   In the example `print(report(\"Ali\", 22, city=\"Nairobi\"))`, the string `\"Ali\"` is assigned to the `name` parameter, `22` to the `age` parameter, and `\"Nairobi\"` to the `city` parameter, based on their positions in the function call.\n",
    "\n",
    "2.  **Keyword Arguments:**\n",
    "    *   With keyword arguments, you explicitly specify the name of each parameter when you pass the value. This makes the code more readable, especially when a function has many parameters.\n",
    "    *   In the valid call `print(report(\"Ali\", 22, city=\"Nairobi\"))`, you are telling Python that the string \"Ali\" represents the `name` parameter, 22 the `age` parameter, and \"Nairobi\" the `city` parameter.  You are explicitly naming the arguments.\n",
    "    *   The `*` in the function definition is the key. It's saying, \"After these first arguments (`name`, `age`), any subsequent arguments *must* be passed using their names (keyword arguments).\"\n",
    "\n",
    "**Why is this Useful?**\n",
    "\n",
    "*   **Readability:** Keyword arguments improve readability, particularly when a function has many arguments.\n",
    "*   **Flexibility:** They allow you to change the order of arguments without affecting the code's behavior.  You can rearrange the arguments in the function call as long as you use the correct keyword names.\n",
    "*   **Avoiding Errors:** They help prevent mistakes when a function has multiple arguments with similar types.\n",
    "\n"
   ]
  },
  {
   "cell_type": "markdown",
   "id": "ee368144",
   "metadata": {},
   "source": [
    "## Level 3: *args, **kwargs, Special Parameters"
   ]
  },
  {
   "cell_type": "markdown",
   "id": "8ae6a6bd",
   "metadata": {},
   "source": [
    "### 7. Sum All Numbers\n",
    "\n",
    "```python\n",
    "def total_sum(*args):\n",
    "    # Return the sum of all positional arguments\n",
    "```"
   ]
  },
  {
   "cell_type": "code",
   "execution_count": 53,
   "id": "255f98c5",
   "metadata": {},
   "outputs": [
    {
     "name": "stdout",
     "output_type": "stream",
     "text": [
      "<class 'tuple'>\n",
      "10\n"
     ]
    }
   ],
   "source": [
    "def total_sum(*args):\n",
    "    print(type(args))\n",
    "    return sum(args)\n",
    "\n",
    "print(total_sum(1, 2, 3, 4))  # 10\n",
    "# *args collects positional arguments into a tuple.\n"
   ]
  },
  {
   "cell_type": "markdown",
   "id": "522a5c96",
   "metadata": {},
   "source": [
    "\n",
    "**Line-by-Line Explanation:**\n",
    "\n",
    "1.  `def total_sum(*args):`\n",
    "    *   `def` keyword: This signifies that we are defining a function named `total_sum`.\n",
    "    *   `total_sum`: This is the name of the function.\n",
    "    *   `(*args)`: This is the crucial part. It's how we handle a variable number of arguments.\n",
    "        *   `*`: The asterisk (`*`) is the special symbol that indicates the function can accept a variable number of positional arguments.\n",
    "        *   `args`: This is the name we've given to the *tuple* that will hold all the arguments passed to the function that aren't explicitly named.\n",
    "\n",
    "2.  `return sum(args)`\n",
    "    *   `sum(args)`: The `sum()` is a built-in Python function that calculates the sum of all the numbers in an iterable (like a list or a tuple).  It takes the `args` tuple, which contains all the numbers we passed, and calculates their sum.\n",
    "    *   `return`: The `return` statement sends the result of the `sum()` function back to the place where the function was called.\n",
    "\n",
    "3.  `print(total_sum(1, 2, 3, 4))`\n",
    "    *   `total_sum(1, 2, 3, 4)`: This calls the `total_sum` function and passes the numbers 1, 2, 3, and 4 as arguments.\n",
    "    *   `print(...)`: This `print` statement then displays the value that the `total_sum` function returned, which is the sum (10).\n",
    "\n",
    "**How *args is Used**\n",
    "\n",
    "The `*args` syntax is a powerful feature in Python that allows a function to accept an arbitrary number of positional arguments.  Here's a breakdown of what it does:\n",
    "\n",
    "1.  **Collecting Positional Arguments:** When you call the function, any extra positional arguments beyond the explicitly defined ones are automatically collected into a tuple named `args`.\n",
    "\n",
    "2.  **Tuple Creation:**  Python creates a tuple called `args` and assigns it all the extra positional arguments.\n",
    "\n",
    "3.  **Passing as a Tuple:** The function then receives `args` as a tuple.  The `sum()` function can then work with this tuple just as it would with a list or another iterable.\n",
    "\n",
    "**Key Takeaway:**  `*args` is a convenient way to create functions that can handle a variable number of inputs.  It's especially useful when you don't know in advance how many arguments a user might provide."
   ]
  },
  {
   "cell_type": "markdown",
   "id": "3d0ba32f",
   "metadata": {},
   "source": [
    "### 8. Config Loader\n",
    "\n",
    "```python\n",
    "def load_config(**kwargs):\n",
    "    # Return a string showing all config key=value pairs\n",
    "    # e.g., load_config(debug=True, mode=\"test\") → \"debug=True, mode=test\"\n",
    "```"
   ]
  },
  {
   "cell_type": "code",
   "execution_count": 55,
   "id": "385abd7c",
   "metadata": {},
   "outputs": [
    {
     "name": "stdout",
     "output_type": "stream",
     "text": [
      "<class 'dict'>\n",
      "debug=True, mode=test\n"
     ]
    }
   ],
   "source": [
    "def load_config(**kwargs):\n",
    "    print(type(kwargs))\n",
    "    return \", \".join(f\"{k}={v}\" for k, v in kwargs.items())\n",
    "\n",
    "print(load_config(debug=True, mode=\"test\"))\n",
    "# Output: \"debug=True, mode=test\"\n"
   ]
  },
  {
   "cell_type": "markdown",
   "id": "d3c9d2c2",
   "metadata": {},
   "source": [
    "**Line-by-Line Explanation:**\n",
    "\n",
    "1.  `def load_config(**kwargs):`\n",
    "    *   This line defines a function named `load_config`.\n",
    "    *   The `**kwargs` part is the key. It declares that the function can accept an arbitrary number of *keyword arguments* as a dictionary.\n",
    "\n",
    "2.  `return \", \".join(f\"{k}={v}\" for k, v in kwargs.items())`\n",
    "    *   This line is the core of the function. Let's break it down:\n",
    "        *   `kwargs.items()`: This method of a dictionary returns a view object that yields key-value pairs (tuples) from the `kwargs` dictionary.  For example, if `kwargs` is `{'debug': True, 'mode': 'test'}`, `kwargs.items()` would yield `('debug', True)` and `('mode', 'test')`.\n",
    "        *   `for k, v in kwargs.items()`:  This is a `for` loop that iterates through each key-value pair provided in the `kwargs` dictionary. `k` represents the key, and `v` represents the value for each pair.\n",
    "        *   `f\"{k}={v}\"`: This is an f-string (formatted string literal). It creates a string in the format \"key=value\" for each key-value pair.  For example, if `k` is \"debug\" and `v` is `True`, it would create the string \"debug=True\".\n",
    "        *   `, `.join(...)`: This is a string method. It takes a list of strings (the ones created by the f-string) and joins them together into a single string, separated by \", \".  So, if the list of strings is `[\"debug=True\", \"mode=test\"]`, the `join` method will return `\"debug=True, mode=test\"`.\n",
    "\n",
    "3.  `print(load_config(debug=True, mode=\"test\"))`\n",
    "    *   This line calls the `load_config` function with two keyword arguments: `debug=True` and `mode=\"test\"`. These arguments are passed directly to the function.\n",
    "\n",
    "4.  `# Output: \"debug=True, mode=test\"`\n",
    "    *   This is a comment indicating the expected output of the code.\n",
    "\n",
    "5. ` # `**kwargs` collects keyword arguments into a dict.`\n",
    "    * This is a comment explaining the purpose of `**kwargs`.\n",
    "\n",
    "**Concept Explanation: `*args` and `**kwargs`**\n",
    "\n",
    "*   `*args`:  This is used to pass a variable number of *positional arguments* to a function.  These arguments are collected into a tuple named `args`.  You typically use it when you don't know in advance how many positional arguments the function might need.\n",
    "\n",
    "*   `**kwargs`: This is used to pass a variable number of *keyword arguments* to a function.  These arguments are collected into a dictionary named `kwargs`. The `**` symbol is essential here.  It tells Python to treat the following keyword arguments as a dictionary.\n",
    "\n",
    "**Special Parameters (args and kwargs):**\n",
    "\n",
    "`*args` and `**kwargs` are examples of *special parameters*. They are special variables that Python automatically creates when you define a function. They allow you to handle flexible input when defining functions.\n",
    "\n",
    "**Why use `**kwargs`?**\n",
    "\n",
    "*   **Flexibility:** It makes your functions more adaptable to different situations.  You don't need to hardcode every possible configuration option.\n",
    "*   **Readability:** It often makes the code more readable because you're explicitly passing the configuration as key-value pairs.\n",
    "\n",
    "**Example with `*args` (For completeness):**\n",
    "\n",
    "```python\n",
    "def my_function(*args, **kwargs):\n",
    "  print(\"Positional arguments:\", args)\n",
    "  print(\"Keyword arguments:\", kwargs)\n",
    "\n",
    "my_function(1, 2, 3, debug=True, mode=\"test\")\n",
    "# Output:\n",
    "# Positional arguments: (1, 2, 3)\n",
    "# Keyword arguments: {'debug': True, 'mode': 'test'}\n",
    "```\n",
    "\n",
    "In this example, `args` is a tuple containing the positional arguments, and `kwargs` is a dictionary containing the keyword arguments.\n",
    "\n"
   ]
  },
  {
   "cell_type": "markdown",
   "id": "338ad6c6",
   "metadata": {},
   "source": [
    "### 9. Special Parameters\n",
    "\n",
    "```python\n",
    "def custom_func(x, /, y, *, z):\n",
    "    return x + y + z\n",
    "\n",
    "# What are legal vs illegal calls here?\n",
    "```"
   ]
  },
  {
   "cell_type": "code",
   "execution_count": null,
   "id": "e46abf6f",
   "metadata": {},
   "outputs": [
    {
     "name": "stdout",
     "output_type": "stream",
     "text": [
      "6\n"
     ]
    }
   ],
   "source": [
    "def custom_func(x, /, y, *, z):\n",
    "    return x + y + z\n",
    "\n",
    "# Legal:\n",
    "print(custom_func(1, 2, z=3))  # 6\n",
    "\n",
    "# Illegal:\n",
    "# custom_func(x=1, y=2, z=3)  # ❌ TypeError: x is positional-only\n",
    "# / enforces positional, * enforces keyword."
   ]
  },
  {
   "cell_type": "markdown",
   "id": "8c8ea987",
   "metadata": {},
   "source": [
    "**Line-by-Line Explanation:**\n",
    "\n",
    "1.  **`def custom_func(x, /, y, *, z):`**\n",
    "    *   This defines a function named `custom_func`. This is the core of the example.  The function is designed to take specific arguments and return a value based on them.\n",
    "\n",
    "2.  **`x, /`**:\n",
    "    *   `x` is a regular positional argument.  When you call the function, you *must* provide a value for `x`. This is a standard argument, passed based on its position.\n",
    "    *   `/` after `x` is a *typing hint*.  It tells the programmer and static analysis tools (like linters and type checkers) that `x` is a regular, non-keyword argument. It means that `x` *cannot* be passed as a keyword argument (i.e., `x=1` is not allowed).\n",
    "\n",
    "3.  **`y, *`**:\n",
    "    *   `y` is another regular positional argument, just like `x`.\n",
    "\n",
    "    *   `*` after `y` is another typing hint. It indicates that `y` is a regular, non-keyword argument.  You pass `y` based on its position, just like `x`.\n",
    "\n",
    "4.  **`*, z`**:\n",
    "    *   `z` is a *named* or *keyword* argument. This is the crucial part.\n",
    "    *   `*` after `z` signifies that `z` is a *keyword-only* argument. This means that when you *call* the function, you *must* provide the value for `z` using its name (i.e., `z=3`). You cannot pass `z` as a positional argument.\n",
    "\n",
    "5.  **`return x + y + z`**:\n",
    "    *   This is the body of the function. It calculates the sum of `x`, `y`, and `z` and returns the result.\n",
    "\n",
    "6.  **`# Legal:`**  This comment indicates a valid call to the function.\n",
    "\n",
    "7.  **`print(custom_func(1, 2, z=3))`**\n",
    "    *   This is a legal call to `custom_func`. The arguments are passed in the correct order:\n",
    "        *   `1` is assigned to `x` (position 1).\n",
    "        *   `2` is assigned to `y` (position 2).\n",
    "        *   `3` is assigned to `z` (using the keyword `z=3`).\n",
    "    *   The function calculates `1 + 2 + 3 = 6` and prints the result.\n",
    "\n",
    "8.  **`# Illegal:`** This comment indicates an illegal call to the function.\n",
    "\n",
    "9.  **`# custom_func(x=1, y=2, z=3)`**\n",
    "    *   This call is *illegal*.  It tries to pass the arguments in a way that violates the function's signature.  Specifically:\n",
    "        *   `x=1` tries to pass `1` as the first argument (position 1), but the function's signature requires that `x` be a positional argument and *not* a keyword argument.\n",
    "        *   `y=2` and `z=3` are also incorrect because `y` is a positional argument and `z` is a keyword-only argument.\n",
    "\n",
    "10. **`# ❌ TypeError: x is positional-only`**\n",
    "    *   This is the error message that Python will raise when you try to execute the illegal call. The error clearly states that `x` is \"positional-only,\" meaning it can only be passed as a positional argument, not as a keyword argument.\n",
    "\n",
    "*   **Keyword-Only Arguments (`*`):**\n",
    "    *   These are arguments that *must* be passed using their names (keyword arguments). You cannot pass them as positional arguments.  Using keyword-only arguments helps to improve code readability and prevent errors caused by accidentally passing arguments in the wrong order.\n",
    "\n",
    "**In summary,**  the examples illustrate how Python allows you to create flexible functions that can handle varying numbers of arguments, with careful design to enforce argument usage for clarity and correctness.\n",
    "\n",
    "Let me know if you'd like more details on any specific aspect, or if you want to explore examples using `*args` and `**kwargs`."
   ]
  },
  {
   "cell_type": "markdown",
   "id": "c274e877",
   "metadata": {},
   "source": [
    "## Level 4: Function Objects, Higher-Order Functions, Lambdas"
   ]
  },
  {
   "cell_type": "markdown",
   "id": "5ae32f6c",
   "metadata": {},
   "source": [
    "### 10. Assigning Functions\n",
    "\n",
    "```python\n",
    "def shout(text):\n",
    "    return text.upper()\n",
    "\n",
    "speak = shout\n",
    "print(speak(\"hello\"))  # What happens here?\n",
    "```"
   ]
  },
  {
   "cell_type": "code",
   "execution_count": 62,
   "id": "16f9d71c",
   "metadata": {},
   "outputs": [
    {
     "name": "stdout",
     "output_type": "stream",
     "text": [
      "HELLO\n"
     ]
    }
   ],
   "source": [
    "def shout(text):\n",
    "    return text.upper()\n",
    "\n",
    "speak = shout\n",
    "print(speak(\"hello\"))  # Output: \"HELLO\"\n"
   ]
  },
  {
   "cell_type": "markdown",
   "id": "3ea379e3",
   "metadata": {},
   "source": [
    "### 11. Sorting by Custom Key\n",
    "\n",
    "```python\n",
    "data = [\"apple\", \"banana\", \"grape\", \"kiwi\"]\n",
    "# Sort by string length using lambda\n",
    "```"
   ]
  },
  {
   "cell_type": "code",
   "execution_count": null,
   "id": "fda4b700",
   "metadata": {},
   "outputs": [
    {
     "name": "stdout",
     "output_type": "stream",
     "text": [
      "['kiwi', 'apple', 'grape', 'banana']\n"
     ]
    }
   ],
   "source": [
    "data = [\"apple\", \"banana\", \"grape\", \"kiwi\"]\n",
    "data.sort(key=lambda x: len(x))\n",
    "print(data)  # ['kiwi', 'apple', 'grape', 'banana']\n",
    "# key= expects a function; lambda is anonymous and concise."
   ]
  },
  {
   "cell_type": "markdown",
   "id": "25a3f63a",
   "metadata": {},
   "source": [
    "**Code Explanation:**\n",
    "\n",
    "1.  `data = [\"apple\", \"banana\", \"grape\", \"kiwi\"]`\n",
    "    *   This line creates a list named `data` containing four strings: \"apple\", \"banana\", \"grape\", and \"kiwi\". This is our initial dataset.\n",
    "\n",
    "2.  `data.sort(key=lambda x: len(x))`\n",
    "    *   This is the core of the example. It uses the `sort()` method of the list object `data` to sort the list *in place* (meaning it modifies the original `data` list directly).\n",
    "    *   The `key` argument of the `sort()` method is the most important part.  The `key` argument *specifies a function* that determines the sorting order.  This function is applied to each element of the list before comparisons are made.\n",
    "    *   `lambda x: len(x)`: This is a lambda function. Let's dissect it:\n",
    "        *   `lambda`:  This keyword introduces a lambda function, which is a small, anonymous (unnamed) function.\n",
    "        *   `x`:  This is the parameter of the lambda function. `x` represents the *current element* being considered for sorting in the list.\n",
    "        *   `: len(x)`: This is the expression that the lambda function evaluates and returns.  `len(x)` calculates the *length* (number of characters) of the current element `x`.  The returned length is what `sort()` uses to compare elements.\n",
    "\n",
    "    *   In essence, for each string in the list, the lambda function `lambda x: len(x)` calculates the length of the string. The `sort()` method then uses these lengths to arrange the strings in ascending order.\n",
    "\n",
    "3.  `print(data)`  # ['kiwi', 'apple', 'grape', 'banana']\n",
    "    *   This line prints the sorted `data` list to the console. The output confirms that the list has been sorted based on the lengths of the strings.\n",
    "\n",
    "**Explanation of Lambda Functions and Their Use:**\n",
    "\n",
    "*   **What is a Lambda Function?**\n",
    "    *   A lambda function is a concise way to define a small, single-expression function *without* using the `def` keyword and a formal function name. They are often used for simple operations, particularly when you need to pass a function as an argument to another function (like in this case, as the `key` argument to `sort()`).\n",
    "\n",
    "*   **Why Use a Lambda Here?**\n",
    "    *   In this example, the sorting criteria is very simple: sort by string length.  A lambda function perfectly fits this scenario because:\n",
    "        *   It's short and easy to read.\n",
    "        *   It avoids the need to define a regular function with a name (e.g., `def string_length(x): return len(x)`).\n",
    "        *   It's often preferred for inline, one-off operations where a full function definition would be overkill.\n",
    "\n",
    "*   **How `key` Works:**\n",
    "    *   The `key` argument in the `sort()` method expects a function that takes a single argument (an element from the list) and returns a value that can be used for comparison.\n",
    "    *   The `sort()` method then uses these returned values to determine the order.\n",
    "\n",
    "**In summary:**  The code uses a lambda function to provide a custom sorting key. The lambda function calculates the length of each string in the list and uses those lengths to order the strings. This is a common and powerful technique for customizing sorting in Python.\n",
    "\n"
   ]
  },
  {
   "cell_type": "markdown",
   "id": "9afe01a7",
   "metadata": {},
   "source": [
    "### 12. Returning Functions\n",
    "\n",
    "```python\n",
    "def multiplier(n):\n",
    "    return lambda x: x * n\n",
    "\n",
    "double = multiplier(2)\n",
    "print(double(10))  # What's happening under the hood?\n",
    "```"
   ]
  },
  {
   "cell_type": "code",
   "execution_count": null,
   "id": "a97ea845",
   "metadata": {},
   "outputs": [
    {
     "name": "stdout",
     "output_type": "stream",
     "text": [
      "20\n"
     ]
    }
   ],
   "source": [
    "def multiplier(n):\n",
    "    return lambda x: x * n\n",
    "\n",
    "double = multiplier(2)\n",
    "print(double(10))  # 20\n",
    "# Closures – the inner lambda remembers the outer n"
   ]
  },
  {
   "cell_type": "markdown",
   "id": "a2d159f0",
   "metadata": {},
   "source": [
    "*   **`def multiplier(n):`**: This line defines a function named `multiplier` that takes one argument, `n`. The intention of this function is to create a function that multiplies its input by `n`.\n",
    "*   **`return lambda x: x * n`**:  This is the core of the function. It *returns* another function. Let's break this inner function down:\n",
    "    *   **`lambda x: x * n`**: This is an *anonymous function* (a function without a name).  It takes a single argument, `x`, and returns the value of `x` multiplied by the `n` that was passed to the `multiplier` function. This inner function is the one that actually does the multiplication.\n",
    "    *   The `return` statement sends this inner lambda function back to the caller of `multiplier`.\n",
    "\n",
    "**`double = multiplier(2)`**\n",
    "\n",
    "*   **`double = multiplier(2)`**: This line calls the `multiplier` function with the argument `2`.\n",
    "*   The `multiplier(2)` function returns the lambda function `lambda x: x * 2`.\n",
    "*   This returned lambda function is assigned to the variable `double`.  Therefore, `double` now holds a function that multiplies its input by 2.\n",
    "\n",
    "**`print(double(10))`  # 20**\n",
    "\n",
    "*   **`print(double(10))`**: This line calls the function that `double` refers to.\n",
    "*   `double(10)`:  The lambda function (which multiplies by 2) is executed with the argument `10`.\n",
    "*   The lambda function calculates `10 * 2` which is `20`.\n",
    "*   The `print()` function then displays the result, `20`.\n",
    "\n",
    "**# Closures – the inner lambda remembers the outer n**\n",
    "\n",
    "*   The comment explains a crucial concept:  *closures*.\n",
    "\n",
    "**What is a Closure?**\n",
    "\n",
    "A closure is a function object that remembers values in the enclosing scope, even if that enclosing scope has finished executing.  In this example:\n",
    "\n",
    "1.  **Inner Function's Memory:** The lambda function `lambda x: x * n` \"closes over\" the variable `n` from the `multiplier` function's scope. This means the lambda function retains access to the value of `n` even after the `multiplier` function has finished executing.\n",
    "\n",
    "2.  **How it's Used:** The `multiplier` function creates a *factory* that generates multiplication functions. Each multiplication function created by `multiplier` has its own, independent value of `n`.\n",
    "\n",
    "**In essence:**\n",
    "\n",
    "*   The `multiplier` function creates a new multiplication function each time it's called.\n",
    "*   Each of these multiplication functions is a closure – they \"remember\" the value of `n` that was used when they were created.\n",
    "\n",
    "**Why is this useful?**\n",
    "\n",
    "Closures are frequently used to create specialized functions or function factories.  They allow you to customize the behavior of a function based on the context in which it was created.  This pattern is common in functional programming and can lead to more concise and maintainable code.\n",
    "\n",
    "**Example Scenario:**\n",
    "\n",
    "Imagine you need to create a set of multiplication functions, each multiplying by a different factor.  You could use this `multiplier` pattern to generate those functions on the fly."
   ]
  },
  {
   "cell_type": "markdown",
   "id": "f7a432c0",
   "metadata": {},
   "source": [
    "## Level 5: Argument Unpacking, Design Patterns"
   ]
  },
  {
   "cell_type": "markdown",
   "id": "9ac7921a",
   "metadata": {},
   "source": [
    "### 13. Unpacking Sequences\n",
    "\n",
    "```python\n",
    "def stats(a, b, c):\n",
    "    return a + b + c\n",
    "\n",
    "vals = [1, 2, 3]\n",
    "# Call stats using unpacking\n",
    "```"
   ]
  },
  {
   "cell_type": "code",
   "execution_count": 66,
   "id": "ea7d867f",
   "metadata": {},
   "outputs": [
    {
     "name": "stdout",
     "output_type": "stream",
     "text": [
      "6\n"
     ]
    }
   ],
   "source": [
    "def stats(a, b, c):\n",
    "    return a + b + c\n",
    "\n",
    "vals = [1, 2, 3]\n",
    "print(stats(*vals))  # 6\n",
    "# * unpacks list elements into separate arguments."
   ]
  },
  {
   "cell_type": "markdown",
   "id": "7b894358",
   "metadata": {},
   "source": [
    "\n",
    "*   **`def stats(a, b, c):`**: This line defines a function named `stats`. This function takes three arguments, `a`, `b`, and `c`. These arguments are expected to be numbers (like integers or floats) because we're performing addition.\n",
    "*   **`return a + b + c`**:  Inside the function, this line adds the three input arguments together and returns the result.\n",
    "\n",
    "```python\n",
    "vals = [1, 2, 3]\n",
    "print(stats(*vals))  # 6\n",
    "# * unpacks list elements into separate arguments.\n",
    "```\n",
    "\n",
    "*   **`vals = [1, 2, 3]`**: This line creates a list named `vals` and initializes it with the numbers 1, 2, and 3. This is our input sequence.\n",
    "*   **`print(stats(*vals))`**:  This is the key line demonstrating sequence unpacking.\n",
    "    *   **`stats(*vals)`**: Let's break this down further:\n",
    "        *   `stats(vals)`:  If we were to call the function directly like this, we’d need to provide the arguments `a`, `b`, and `c` individually, like this: `stats(1, 2, 3)`.  It's less convenient.\n",
    "        *   `*`: The asterisk (`*`) is the \"unpacking operator.\" It's used to unpack the elements of the `vals` list and pass them as individual arguments to the `stats` function. \n",
    "        *   So, `*vals` is equivalent to passing `1, 2, 3` as separate arguments.\n",
    "    *   **`print(...)`**: The `print` function then displays the result returned by the `stats` function.\n",
    "\n",
    "**Concept of Sequence Unpacking**\n",
    "\n",
    "Sequence unpacking is a powerful Python feature that allows you to expand the elements of a sequence (like a list, tuple, string, or other iterable) into individual arguments for a function.  \n",
    "\n",
    "In the example:\n",
    "\n",
    "1.  The `*` operator \"unpacks\" the `vals` list.\n",
    "2.  It creates a new tuple `(1, 2, 3)` (implicitly).\n",
    "3.  The `stats` function receives `1`, `2`, and `3` as separate arguments.\n",
    "4.  The function then adds these values together and returns `6`.\n",
    "\n",
    "**Why is sequence unpacking useful?**\n",
    "\n",
    "*   **Readability:** It makes your code more concise and readable, especially when dealing with sequences of multiple elements.\n",
    "*   **Flexibility:** You can pass a sequence of any length to a function that expects a specific number of arguments.\n",
    "*   **Argument Matching:** It simplifies argument matching in function calls.\n",
    "\n",
    "**In summary:** This code snippet demonstrates how sequence unpacking provides a neat way to pass the elements of a list (or any sequence) as individual arguments to a function. It's a fundamental and frequently used Python technique."
   ]
  },
  {
   "cell_type": "markdown",
   "id": "b1359e47",
   "metadata": {},
   "source": [
    "### 14. Keyword Unpacking\n",
    "\n",
    "```python\n",
    "params = {\"a\": 2, \"b\": 4, \"c\": 6}\n",
    "# Call stats(**params)\n",
    "```"
   ]
  },
  {
   "cell_type": "code",
   "execution_count": 67,
   "id": "3679a98d",
   "metadata": {},
   "outputs": [
    {
     "name": "stdout",
     "output_type": "stream",
     "text": [
      "12\n"
     ]
    }
   ],
   "source": [
    "params = {\"a\": 2, \"b\": 4, \"c\": 6}\n",
    "print(stats(**params))  # 12\n",
    "# ** unpacks dictionary keys as parameter names."
   ]
  },
  {
   "cell_type": "markdown",
   "id": "9e426eb3",
   "metadata": {},
   "source": [
    "**Code Breakdown:**\n",
    "\n",
    "1.  `params = {\"a\": 2, \"b\": 4, \"c\": 6}`\n",
    "    *   This line creates a dictionary named `params`. This dictionary contains three key-value pairs:\n",
    "        *   `\"a\": 2`\n",
    "        *   `\"b\": 4`\n",
    "        *   `\"c\": 6`\n",
    "\n",
    "2.  `print(stats(**params))`\n",
    "    *   This line calls a function named `stats` and prints the value returned by that function. Crucially, the `**` operator is used before the `params` dictionary.\n",
    "    *   This is where the unpacking happens.\n",
    "\n",
    "**Unpacking Dictionaries with `**`**\n",
    "\n",
    "*   The `**` operator is the \"dictionary unpacking\" operator in Python. It's used to pass the *keys* of a dictionary as keyword arguments to a function.\n",
    "*   In this code, `**params` effectively expands the dictionary into individual keyword arguments.\n",
    "*   Let's visualize it:  `**params` is equivalent to saying:\n",
    "    `stats(a=2, b=4, c=6)`\n",
    "\n",
    "*   So, the `stats` function is being called with `a=2`, `b=4`, and `c=6` as its arguments.\n",
    "\n",
    "**Concept Explanation:**\n",
    "\n",
    "Unpacking dictionaries is a concise way to pass multiple arguments to a function when the function expects keyword arguments.  It avoids having to create a list of individual arguments or create a new dictionary with the same keys and values.\n",
    "\n",
    "**How it's used in this program:**\n",
    "\n",
    "The code implicitly demonstrates how you might use unpacking when a function expects parameters by name (keyword arguments). This is often encountered when:\n",
    "\n",
    "*   **Function Signature:** The `stats` function (which is not defined in the given code snippet, but we can assume it exists) is designed to accept parameters named `a`, `b`, and `c`.\n",
    "\n",
    "*   **Readability & Clarity:**  Unpacking makes the code more readable, especially when the function has many optional parameters. It clearly shows which parameter is being set to which value.\n",
    "\n",
    "*   **Flexibility:** If you wanted to pass different values to the parameters, you could simply change the values in the `params` dictionary.\n",
    "\n"
   ]
  },
  {
   "cell_type": "markdown",
   "id": "849a7784",
   "metadata": {},
   "source": [
    "### 15. API Guardrails\n",
    "\n",
    "```python\n",
    "def api_call(resource, /, *, token=None):\n",
    "    if token is None:\n",
    "        raise ValueError(\"Token required\")\n",
    "    return f\"Accessing {resource} with token {token}\"\n",
    "\n",
    "# Call with both correct and incorrect patterns\n",
    "```"
   ]
  },
  {
   "cell_type": "code",
   "execution_count": 69,
   "id": "c5e348c4",
   "metadata": {},
   "outputs": [
    {
     "name": "stdout",
     "output_type": "stream",
     "text": [
      "Accessing users with token abc123\n"
     ]
    }
   ],
   "source": [
    "def api_call(resource, /, *, token=None):\n",
    "    if token is None:\n",
    "        raise ValueError(\"Token required\")\n",
    "    return f\"Accessing {resource} with token {token}\"\n",
    "\n",
    "print(api_call(\"users\", token=\"abc123\"))  # ✅ Works\n",
    "\n",
    "# api_call(resource=\"users\", token=\"abc123\") ❌ TypeError\n",
    "# Use / to prevent breaking API contracts if you change param names later."
   ]
  },
  {
   "cell_type": "markdown",
   "id": "81f6f9a6",
   "metadata": {},
   "source": [
    "**Code Explanation**\n",
    "\n",
    "1. **`def api_call(resource, /, *, token=None):`**\n",
    "   - This defines a function named `api_call`.\n",
    "   - `resource`: This is a regular parameter.  It's the resource being accessed (e.g., \"users\", \"products\", etc.).\n",
    "   - `*,`: This is a crucial part.  The `*` indicates that any parameters following it are *keyword-only* arguments. This means you *must* pass them explicitly using their names (e.g., `token=...`).\n",
    "   - `token=None`: This is the `token` parameter, which is optional and defaults to `None`.\n",
    "\n",
    "2. **`if token is None:`**\n",
    "   - This line checks if a token was provided when the function was called.\n",
    "\n",
    "3. **`raise ValueError(\"Token required\")`**\n",
    "   - If no token is provided, this raises a `ValueError` with a helpful message. This is a mechanism to prevent the function from proceeding without the necessary authentication information.\n",
    "\n",
    "4. **`return f\"Accessing {resource} with token {token}\"`**\n",
    "   - If a token *was* provided, this line constructs a formatted string that indicates the resource being accessed and the token used. This is just a placeholder, in a real application, this would actually make the API call.\n",
    "\n",
    "5. **`print(api_call(\"users\", token=\"abc123\"))  # ✅ Works`**\n",
    "   - This line calls the `api_call` function with the `resource` set to \"users\" and the `token` set to \"abc123\". Because the token is provided, the function executes successfully and prints the output.\n",
    "\n",
    "6. **`# api_call(resource=\"users\", token=\"abc123\") ❌ TypeError`**\n",
    "   - This is a comment indicating what happens if you call the function without using keyword arguments. The function expects `token` to be passed as a keyword argument. Passing it as a regular argument will result in a `TypeError`.\n",
    "\n",
    "7. **`# Use / to prevent breaking API contracts if you change param names later.`**\n",
    "   - This is a key comment explaining the use of the `/` notation.\n",
    "\n",
    "\n",
    "\n",
    "**API Guard Rails and How They're Used in This Code**\n",
    "\n",
    "**What are API Guard Rails?**\n",
    "\n",
    "API guard rails are design patterns and coding techniques used to enforce rules and constraints on how an API is used. They're essentially safeguards that prevent misuse, unexpected behavior, and ensure consistency between different parts of your system. They are primarily used to protect the API. \n",
    "\n",
    "**How the Code Demonstrates Guard Rails**\n",
    "\n",
    "* **Keyword-Only Arguments ( `/`):** This is the primary guard rail being used.  The `*` and `/` together tell Python that the `token` parameter *must* be passed as a keyword argument.\n",
    "\n",
    "   - **Purpose:**  This prevents a developer from accidentally passing `token` as a regular argument.  It forces them to use the correct syntax, which helps ensure that the code is used in the intended way.\n",
    "   - **Flexibility:**  Even if you decide to rename the `token` parameter to something like `authentication_token` in the future, the `*` and `/`  will still prevent code that currently uses `token` from breaking. You can refactor the code and the guard rail will keep the function working as expected.\n",
    "\n",
    "* **Error Handling ( `ValueError`):** Raising a `ValueError` when the token is missing is another guard rail. It ensures that the API doesn't proceed with incomplete or invalid data.\n",
    "\n",
    "**Benefits of Using API Guard Rails**\n",
    "\n",
    "* **Prevent Misuse:**  Guard rails make it harder for developers to misuse the API and make incorrect calls.\n",
    "* **Maintainability:**  They make your API more stable and easier to maintain over time. Changes to the API's implementation won't inadvertently break code that relies on its public interface.\n",
    "* **Contract Enforcement:** They help enforce the contract between the API and its consumers.\n",
    "* **Future-Proofing:** You can change the API’s internal workings without breaking existing code that uses it, as long as the public interface (the parameters and return values) remain consistent.\n"
   ]
  },
  {
   "cell_type": "markdown",
   "id": "ff64b941",
   "metadata": {},
   "source": [
    "### 16. Mutable Default Fix\n",
    "\n",
    "```python\n",
    "def add_item(item, container=[]):\n",
    "    container.append(item)\n",
    "    return container\n",
    "\n",
    "# Call: add_item(\"apple\") → call again → Explain the problem and fix it\n",
    "```"
   ]
  },
  {
   "cell_type": "code",
   "execution_count": null,
   "id": "5edff864",
   "metadata": {},
   "outputs": [
    {
     "name": "stdout",
     "output_type": "stream",
     "text": [
      "['apple']\n",
      "['banana']\n"
     ]
    }
   ],
   "source": [
    "def add_item(item, container=None):\n",
    "    if container is None:\n",
    "        container = []\n",
    "    container.append(item)\n",
    "    return container\n",
    "\n",
    "print(add_item(\"apple\"))  # ['apple']\n",
    "print(add_item(\"banana\"))  # ['banana']\n",
    "# Using None avoids sharing the default mutable list across calls."
   ]
  },
  {
   "cell_type": "markdown",
   "id": "4f6aaed6",
   "metadata": {},
   "source": [
    "### 17. Flexible Calculator\n",
    "📌 Define a function calculate(op, *args) that performs the given operation (\"add\", \"subtract\", \"multiply\", \"divide\") on any number of positional arguments.\n",
    "\n",
    "🎯 Example:\n",
    "\n",
    "```python\n",
    "calculate(\"add\", 1, 2, 3)       # 6\n",
    "calculate(\"multiply\", 2, 3, 4)  # 24\n",
    "calculate(\"subtract\", 10, 2, 1) # 7\n",
    "```\n",
    "🧠 Tests: *args, flow control, handling edge cases (0 args, invalid ops)"
   ]
  },
  {
   "cell_type": "code",
   "execution_count": null,
   "id": "061faf2f",
   "metadata": {},
   "outputs": [
    {
     "name": "stdout",
     "output_type": "stream",
     "text": [
      "6\n",
      "24\n",
      "7\n"
     ]
    },
    {
     "data": {
      "text/plain": [
       "'Division By Zero error'"
      ]
     },
     "execution_count": 112,
     "metadata": {},
     "output_type": "execute_result"
    }
   ],
   "source": [
    "def calculate(op, *args):\n",
    "    if not args:\n",
    "        return \"No values provided\"\n",
    "    match op:\n",
    "        case \"add\":\n",
    "            print(sum(args))\n",
    "        case \"multiply\":\n",
    "            result = 1 \n",
    "            for num in args:\n",
    "                result = result * num\n",
    "            print(result)\n",
    "        case \"subtract\":\n",
    "            result = args[0]\n",
    "            for num in args[1:]:\n",
    "                result = result - num\n",
    "            print(result)\n",
    "        case \"divide\":\n",
    "            result = args[0]\n",
    "            for num in args[1:]:\n",
    "                if num == 0:\n",
    "                    return \"Division By Zero error\"\n",
    "                result = result / num\n",
    "            print(f\"{result:.2f}\")        \n",
    "        case _:\n",
    "            print(f\"Unknown Operation: {op}\")\n",
    "calculate(\"add\", 1, 2, 3)\n",
    "calculate(\"multiply\", 2, 3, 4)\n",
    "calculate(\"subtract\", 10, 2, 1) # 7\n",
    "calculate(\"divide\", 20,2,0)\n",
    "\n"
   ]
  },
  {
   "cell_type": "markdown",
   "id": "d94357b4",
   "metadata": {},
   "source": [
    "**Strengths**:\n",
    "\n",
    "Correct Function Definition: The code defines the calculate function with the correct input parameters op and *args.\n",
    "\n",
    "Handles Multiple Arguments: The code correctly iterates through *args to perform operations on multiple numbers.\n",
    "\n",
    "Handles the “add” Case Correctly: The sum(args) approach for addition is a concise and efficient way to calculate the sum.\n",
    "\n",
    "Handles the “multiply” Case Correctly: The code uses a loop to multiply all numbers.\n",
    "\n",
    "Division by Zero Handling: The if num == 0: check for division by zero is a good practice, and the function returns an informative error message.\n",
    "\n",
    "Clear and Readable Code: The code is generally well-structured and relatively easy to understand.\n",
    "\n",
    "**Weaknesses & Areas for Improvement**:\n",
    "\n",
    "Missing Return Values: The current implementation prints the results but doesn’t return them. In a real-world scenario, a function like this should return the calculated value. Returning a value allows the caller to use the result in further calculations or store it.\n",
    "\n",
    "Inconsistent Calculation Methods: The subtract function is unnecessarily complex. It iterates through args and updates result in each step. A simpler approach is to initialize result to the first argument and then subtract the remaining arguments.\n",
    "\n",
    "Lack of Error Handling for Type Errors: The code doesn't perform any type checking to ensure that the *args are numbers. If a non-numeric argument is passed, it would raise a TypeError, which isn’t desirable.\n",
    "\n",
    "Unnecessary Print Statements: While print statements are helpful during development, in a production environment, you’d typically return values instead of printing them within the function.\n",
    "\n",
    "case _: Redundancy: The case _: is very generic. It’s better to be more specific about what constitutes an invalid operation. A better approach would be to raise a more informative exception (e.g., ValueError) if an unrecognized operation is provided."
   ]
  },
  {
   "cell_type": "code",
   "execution_count": 116,
   "id": "64009897",
   "metadata": {},
   "outputs": [
    {
     "name": "stdout",
     "output_type": "stream",
     "text": [
      "6\n",
      "24\n",
      "7\n",
      "5.0\n"
     ]
    }
   ],
   "source": [
    "def calculate(op, *args):\n",
    "    if not args:\n",
    "        return \"No values provided\"\n",
    "    \n",
    "    if op == \"add\":\n",
    "        result = sum(args)\n",
    "    elif op == \"subtract\":\n",
    "        result = args[0]\n",
    "        for num in args[1:]:\n",
    "            result -= num\n",
    "    elif op == \"multiply\":\n",
    "        result = 1\n",
    "        for num in args:\n",
    "            result *= num\n",
    "    elif op == \"divide\":\n",
    "        result = args[0]\n",
    "        for num in args[1:]:\n",
    "            if num == 0:\n",
    "                return \"Division by zero error\"\n",
    "            result /= num\n",
    "    else:\n",
    "        return f\"Unknown operation: {op}\"\n",
    "    \n",
    "    return result\n",
    "\n",
    "print(calculate(\"add\", 1, 2, 3))\n",
    "print(calculate(\"multiply\", 2, 3, 4))\n",
    "print(calculate(\"subtract\", 10, 2, 1))\n",
    "print(calculate(\"divide\", 20,2,2))"
   ]
  },
  {
   "cell_type": "markdown",
   "id": "8bcdadae",
   "metadata": {},
   "source": [
    "**Strengths**:\n",
    "\n",
    "Correctness : The code does solve the problem according to the provided examples. It handles all the specified operations (add, subtract, multiply, divide) correctly. It also handles the \"no arguments\" edge case.\n",
    "\n",
    "Clear Structure : The if/elif/else structure is reasonably well-organized and easy to follow. The use of sum() for addition is a concise and effective choice.\n",
    "\n",
    "Handles Edge Case : Correctly handles the division by zero error – a critical consideration.\n",
    "\n",
    "**Weaknesses**:\n",
    "\n",
    "Efficiency/Design : The subtract and divide operations are unnecessarily complex. The loop-based implementation of subtraction iterates through all arguments, even though only the second argument onwards are needed. Similarly, the divide calculation could be simplified.\n",
    "\n",
    "Error Handling - Specific Cases : While you handle the Division by zero error you don’t handle other potential errors like TypeError if a non-numeric argument is passed. Adding a check to ensure all arguments are numbers would significantly improve robustness."
   ]
  },
  {
   "cell_type": "code",
   "execution_count": 117,
   "id": "45ce070f",
   "metadata": {},
   "outputs": [
    {
     "name": "stdout",
     "output_type": "stream",
     "text": [
      "6.0\n",
      "24.0\n",
      "7.0\n",
      "5.0\n"
     ]
    }
   ],
   "source": [
    "def calculate(op, *args):\n",
    "    \"\"\"\n",
    "    Performs a mathematical operation on a variable number of arguments.\n",
    "\n",
    "    Args:\n",
    "        op (str): The operation to perform (\"add\", \"subtract\", \"multiply\", \"divide\").\n",
    "        *args: A variable number of numerical arguments.\n",
    "\n",
    "    Returns:\n",
    "        float: The result of the operation.\n",
    "        str: An error message if the operation is invalid or if there is a division by zero.\n",
    "    \"\"\"\n",
    "    if not args:\n",
    "        return \"No values provided\"\n",
    "\n",
    "    try:\n",
    "        for arg in args:\n",
    "            if not isinstance(arg, (int, float)):\n",
    "                raise TypeError(\"All arguments must be numbers (int or float)\")\n",
    "    except TypeError as e:\n",
    "        return str(e)  # Return the error message\n",
    "\n",
    "    if op == \"add\":\n",
    "        result = sum(args)\n",
    "    elif op == \"subtract\":\n",
    "        result = args[0]\n",
    "        for num in args[1:]:\n",
    "            result -= num\n",
    "    elif op == \"multiply\":\n",
    "        result = 1\n",
    "        for num in args:\n",
    "            result *= num\n",
    "    elif op == \"divide\":\n",
    "        if args[0] == 0:\n",
    "            return \"Division by zero error\"\n",
    "        result = args[0]\n",
    "        for num in args[1:]:\n",
    "            result /= num\n",
    "    else:\n",
    "        return f\"Unknown operation: {op}\"\n",
    "\n",
    "    return float(result) # Ensure result is always a float for consistency\n",
    "\n",
    "print(calculate(\"add\", 1, 2, 3))\n",
    "print(calculate(\"multiply\", 2, 3, 4))\n",
    "print(calculate(\"subtract\", 10, 2, 1))\n",
    "print(calculate(\"divide\", 20,2,2))"
   ]
  },
  {
   "cell_type": "markdown",
   "id": "cdb41a80",
   "metadata": {},
   "source": [
    "**Key Changes & Explanations**:\n",
    "\n",
    "Error Handling (Robustness):\n",
    "Type Checking: A try...except block now catches TypeError if any of the arguments aren't numbers. This prevents the program from crashing and provides a user-friendly error message.\n",
    "\n",
    "Division by Zero: The divide operation explicitly checks for division by zero and returns an appropriate error message.\n",
    "\n",
    "Return Type Consistency (Robustness):\n",
    "float(result): The return statement now explicitly converts the result to a float. This ensures that the function always returns a float, regardless of the input data types. This makes the function’s output more predictable.\n",
    "\n",
    "Docstring: Added a comprehensive docstring explaining the function's purpose, arguments, and return values. Good documentation is crucial in any code.\n",
    "\n",
    "Code Clarity: Minor formatting changes for better readability.\n",
    "\n",
    "**Why these changes are important**:\n",
    "\n",
    "Demonstrates understanding of potential issues: Recognizing and handling edge cases (like division by zero and invalid input types) shows that you're thinking about potential problems and how to prevent them.\n",
    "\n",
    "Robustness: Writing code that handles errors gracefully is a fundamental skill in software development.\n",
    "\n",
    "Testability: The consistent return type (float) makes the function easier to test."
   ]
  },
  {
   "cell_type": "markdown",
   "id": "b94d035b",
   "metadata": {},
   "source": [
    "### 18. Advanced Logger with **kwargs\n",
    "📌 Build a log_event(event_type, **kwargs) function that logs custom events.\n",
    "\n",
    "🎯 Example:\n",
    "\n",
    "```python\n",
    "log_event(\"LOGIN\", user=\"alice\", ip=\"192.168.1.1\")\n",
    "\n",
    "# Output:\n",
    "# [LOGIN] user=alice, ip=192.168.1.1\n",
    "```\n",
    "🧠 Tests: **kwargs, dict unpacking, custom formatting"
   ]
  },
  {
   "cell_type": "code",
   "execution_count": 3,
   "id": "83712398",
   "metadata": {},
   "outputs": [
    {
     "name": "stdout",
     "output_type": "stream",
     "text": [
      "[LOGIN] user=alice, ip=192.168.1.1\n"
     ]
    }
   ],
   "source": [
    "def log_event(event_type, **kwargs):\n",
    "    details = \", \".join(f\"{k}={v}\" for k, v in kwargs.items())\n",
    "    print(f\"[{event_type}] {details}\")\n",
    "\n",
    "\n",
    "log_event(\"LOGIN\", user=\"alice\", ip=\"192.168.1.1\")"
   ]
  },
  {
   "cell_type": "markdown",
   "id": "edcf749f",
   "metadata": {},
   "source": [
    "details = \", \".join(f\"{k}={v}\" for k, v in kwargs.items())\n",
    "\n",
    "This line constructs a string representing the details of the event. Let's break this down further:\n",
    "\n",
    "kwargs.items(): This method returns a view object that yields key-value pairs from the kwargs dictionary. Each pair is a tuple of the form (key, value).\n",
    "\n",
    "for k, v in kwargs.items(): This iterates through each key-value pair obtained from kwargs.items(). k represents the key (e.g., \"user\") and v represents the value (e.g., \"alice\").\n",
    "\n",
    "f\"{k}={v}\": This is an f-string (formatted string literal). It inserts the values of k and v into the string \"k=v\". For example, if k is \"user\" and v is \"alice\", this part creates the string \"user=alice\".\n",
    "\n",
    ", \".join(...): The join() method takes an iterable of strings and concatenates them into a single string, using the string it's called on (in this case, \", \") as a separator between the strings. So, if the output of the generator expression is [\"user=alice\", \"ip=192.168.1.1\"], the join() method combines them into \"user=alice\", \"ip=192.168.1.1\"."
   ]
  },
  {
   "cell_type": "code",
   "execution_count": 12,
   "id": "61b41209",
   "metadata": {},
   "outputs": [
    {
     "name": "stdout",
     "output_type": "stream",
     "text": [
      "[LOGIN] user=alice, ip=192.168.1.1\n"
     ]
    }
   ],
   "source": [
    "def log_event(event_type, **kwargs):\n",
    "    \"\"\"\n",
    "    Logs an event with details.  Handles potential errors and offers\n",
    "    more control over the output.\n",
    "    \"\"\"\n",
    "    details = []\n",
    "    for key, value in kwargs.items():\n",
    "        if isinstance(value, str):  # Ensure value is a string\n",
    "            details.append(f\"{key}={value}\")\n",
    "        else:\n",
    "            print(f\"Warning: Ignoring non-string value for key '{key}'\")  # Handle non-string values\n",
    "    \n",
    "    if details:\n",
    "        print(f\"[{event_type}] {', '.join(details)}\")\n",
    "    else:\n",
    "        print(f\"[{event_type}] No details provided.\")\n",
    "        \n",
    "log_event(\"LOGIN\", user=\"alice\", ip=\"192.168.1.1\")\n"
   ]
  },
  {
   "cell_type": "markdown",
   "id": "0de6d9d1",
   "metadata": {},
   "source": [
    "if `isinstance(value, str)`:\n",
    "\n",
    "This if statement checks if the value is a string. `isinstance()` is a built-in Python function that checks the type of an object. This is important because we are expecting strings to be logged, and other types might cause errors or unexpected behavior."
   ]
  },
  {
   "cell_type": "markdown",
   "id": "04b0f036",
   "metadata": {},
   "source": [
    "### 19. Function Signature Checker\n",
    "📌 Write a function check_signature(f, /, *, min_args=0, max_args=None) that checks how many arguments a function f can take using inspect.\n",
    "\n",
    "🎯 Example:\n",
    "\n",
    "```python\n",
    "def foo(a, b=2, *, c=3): pass\n",
    "\n",
    "check_signature(foo, min_args=1, max_args=3)  # ✅ OK\n",
    "check_signature(foo, min_args=2, max_args=2)  # ❌ Too many args\n",
    "```\n",
    "🧠 Tests: Positional-only, keyword-only, optional/defaulted args; introspection\n"
   ]
  },
  {
   "cell_type": "code",
   "execution_count": 5,
   "id": "ed2923f9",
   "metadata": {},
   "outputs": [
    {
     "data": {
      "text/plain": [
       "'Too few required args (expected at least 2)'"
      ]
     },
     "execution_count": 5,
     "metadata": {},
     "output_type": "execute_result"
    }
   ],
   "source": [
    "import inspect\n",
    "\n",
    "def check_signature(f, /, *, min_args=0, max_args=None):\n",
    "    sig = inspect.signature(f)\n",
    "    params = sig.parameters.values()\n",
    "    \n",
    "    required = [p for p in params if p.default is inspect._empty and\n",
    "                p.kind in (p.POSITIONAL_ONLY, p.POSITIONAL_OR_KEYWORD)]\n",
    "    \n",
    "    total_possible = sum(\n",
    "        1 for p in params\n",
    "        if p.kind in (p.POSITIONAL_ONLY, p.POSITIONAL_OR_KEYWORD, p.KEYWORD_ONLY)\n",
    "    )\n",
    "\n",
    "    if len(required) < min_args:\n",
    "        return f\"Too few required args (expected at least {min_args})\"\n",
    "    if max_args is not None and total_possible > max_args:\n",
    "        return f\"Too many arguments (max {max_args})\"\n",
    "    return \"OK\"\n",
    "def foo(a, b=2, *, c=3): pass\n",
    "\n",
    "check_signature(foo, min_args=1, max_args=3)\n",
    "check_signature(foo, min_args=2, max_args=2)"
   ]
  },
  {
   "cell_type": "markdown",
   "id": "fd2f252c",
   "metadata": {},
   "source": [
    "**1. Explanation of Each Line:**\n",
    "\n",
    "*   `import inspect`: This line imports the `inspect` module, which provides tools for introspection – examining the internal state of Python objects, including functions, classes, and modules.  It’s essentially a way to \"peek\" under the hood.\n",
    "*   `def check_signature(f, /, *, min_args=0, max_args=None):`: This defines a function named `check_signature`.\n",
    "    *   `f`: This is the function object being examined.  It's the first argument to the function.\n",
    "    *   `/, /, *`: These are *annotations*.  They specify how the function's parameters can be passed.\n",
    "        *   `/` means the function takes regular positional arguments (passed by position).\n",
    "        *   `*` means the function takes keyword-only arguments.  Keyword-only arguments can only be passed using the parameter name (e.g., `c=3` instead of `c=3` directly within the function definition).\n",
    "    *   `min_args=0`:  This sets the minimum number of *required* arguments the function should have. It defaults to 0.\n",
    "    *   `max_args=None`: This sets the maximum number of arguments the function can accept. If `None`, there is no upper limit.\n",
    "*   `sig = inspect.signature(f)`: This line uses `inspect.signature()` to get a `Signature` object representing the function's signature (its parameter types and default values).  The `Signature` object is a convenient way to access the parameter information.\n",
    "*   `params = sig.parameters.values()`: This retrieves a list of all the parameter objects contained within the `Signature` object.  Each `Parameter` object represents a single parameter in the function definition.\n",
    "*   `required = [p for p in params if p.default is inspect._empty and p.kind in (p.POSITIONAL_ONLY, p.POSITIONAL_OR_KEYWORD)]`: This is a list comprehension that filters the `params` list to identify the *required* parameters.\n",
    "    *   `p.default is inspect._empty`: Checks if a parameter has a default value.  `inspect._empty` is a special value used by `inspect` to indicate that a parameter does *not* have a default value.\n",
    "    *   `p.kind in (p.POSITIONAL_ONLY, p.POSITIONAL_OR_KEYWORD)`:  Checks if the parameter is either a *positional-only* parameter (passed by position only) or a *positional-or-keyword* parameter (passed either by position or by name).  This distinguishes between parameters that *must* be passed by position and those that can be passed either way.\n",
    "*   `total_possible = sum(1 for p in params if p.kind in (p.POSITIONAL_ONLY, p.POSITIONAL_OR_KEYWORD, p.KEYWORD_ONLY))`: This calculates the *total possible* number of arguments the function can accept.  It counts the parameters that are either positional-only, positional-or-keyword, or keyword-only.\n",
    "*   `if len(required) < min_args:`: This checks if the number of required arguments is less than the minimum specified (`min_args`).  If it is, the function returns an error message indicating that too few arguments were provided.\n",
    "*   `if max_args is not None and total_possible > max_args:`: This checks if a maximum argument limit was specified (`max_args is not None`) and if the total number of possible arguments exceeds this limit. If so, it returns an error message.\n",
    "*   `return \"OK\"`: If both checks pass (enough arguments and within the limit), the function returns \"OK\", indicating that the function signature is valid.\n",
    "\n",
    "**2. Core Concept:  Function Signature Analysis**\n",
    "\n",
    "The core concept being used is **Function Signature Analysis**. This involves inspecting a function's definition to determine:\n",
    "\n",
    "*   The number and types of its parameters.\n",
    "*   Whether any parameters have default values.\n",
    "*   The order in which arguments are expected to be passed.\n",
    "*   Whether the number of arguments passed to the function conforms to the expected signature.\n",
    "\n",
    "\n",
    "\n",
    "**3. Analysis of Application - Correctly or Incorrectly**\n",
    "\n",
    "The code correctly implements function signature analysis. It uses the `inspect` module to gather information about a function's signature and then checks if the number and types of arguments passed to the function match the expected signature. \n",
    "\n",
    "The code handles the following aspects:\n",
    "\n",
    "*   It identifies required arguments (those without default values and which are positional-only or positional-or-keyword).\n",
    "*   It correctly accounts for the possibility of keyword arguments.\n",
    "*   It enforces both a minimum and potentially a maximum argument count.\n",
    "\n",
    "**4. Flaw, Failure, or Limitation & Improvement**\n",
    "\n",
    "*   **Limitation:** The code *doesn't actually verify the types* of the arguments passed to the function. It only checks the *number* and the *order* of the arguments. This means that the function could be called with arguments of the wrong types, and the code would simply return \"OK,\" masking a potential error.\n",
    "\n",
    "*   **Why it failed:** The code focuses solely on positional and keyword argument counts and types.  It lacks type checking, which is crucial for robust function calls.\n",
    "\n",
    "*   **Better Approach:** To improve this, we could add type checking.  The `inspect` module provides tools to determine parameter types.  However, it's more common to use type hints (the `typing` module). We can add type hints to the function signature and then use a type checker (like MyPy) to verify that the types of the arguments passed to the function match the types specified in the signature.  However, for this example, let's add a simple check with `isinstance` for the most basic type validation.\n",
    "\n",
    "\n",
    "In this improved version, we added a type check inside the loop that iterates through the parameters.  We check if the annotation of the parameter (`p.annotation`) is not empty.  If it is not, we use `isinstance` to check if the default value of the parameter is of the expected type.  If not, it returns an error message. Note that this is just basic type checking, and a real-world implementation would likely involve a more sophisticated type system (e.g., using type hints with MyPy).\n",
    "\n",
    "**5. Intuition Building:**\n",
    "\n",
    "The key to understanding this code is to think about what a function's \"signature\" represents. It's not just the function's name; it’s the complete description of what the function expects as input. This code provides a mechanism for *verifying* that the arguments passed to a function match this description.  Without this verification, a function could be called with incorrect arguments, leading to unexpected behavior or errors.  By analyzing the signature, we can ensure that the function receives the arguments it needs to operate correctly."
   ]
  },
  {
   "cell_type": "code",
   "execution_count": 26,
   "id": "82ce7cec",
   "metadata": {},
   "outputs": [
    {
     "name": "stdout",
     "output_type": "stream",
     "text": [
      "OK\n",
      "Too few required args (expected at least 2)\n",
      "Too many arguments (max 1)\n"
     ]
    }
   ],
   "source": [
    "import inspect\n",
    "import typing\n",
    "\n",
    "def check_signature(f, /, *, min_args=0, max_args=None):\n",
    "    sig = inspect.signature(f)\n",
    "    params = sig.parameters.values()\n",
    "\n",
    "    required = [p for p in params if p.default is inspect._empty and\n",
    "                p.kind in (p.POSITIONAL_ONLY, p.POSITIONAL_OR_KEYWORD)]\n",
    "\n",
    "    total_possible = sum(\n",
    "        1 for p in params\n",
    "        if p.kind in (p.POSITIONAL_ONLY, p.POSITIONAL_OR_KEYWORD, p.KEYWORD_ONLY)\n",
    "    )\n",
    "\n",
    "    if len(required) < min_args:\n",
    "        return f\"Too few required args (expected at least {min_args})\"\n",
    "\n",
    "    if max_args is not None and total_possible > max_args:\n",
    "        return f\"Too many arguments (max {max_args})\"\n",
    "\n",
    "    for p in params:\n",
    "        if p.annotation is not inspect._empty and not isinstance(f.__defaults__[0] if p.default is inspect._empty else p.default, p.annotation):\n",
    "            return f\"Type mismatch for parameter {p.name} (expected {p.annotation}, got {type(f.__defaults__[0] if p.default is inspect._empty else p.default)})\"\n",
    "    return \"OK\"\n",
    "\n",
    "def foo(a, b=2, *, c=3): pass\n",
    "\n",
    "print(check_signature(foo, min_args=1, max_args=3))\n",
    "print(check_signature(foo, min_args=2, max_args=2))\n",
    "print(check_signature(foo, min_args=1, max_args=1))  #This will now raise an error."
   ]
  },
  {
   "cell_type": "markdown",
   "id": "b570a5e3",
   "metadata": {},
   "source": [
    "### 20. Named Configuration Dispatcher\n",
    "📌 Implement a build_model(model_type, /, **kwargs) function that dispatches configuration for different models like \"SVM\", \"RandomForest\", \"NeuralNet\", etc.\n",
    "\n",
    "🎯 Each config uses different kwargs. Raise exceptions for unknown keys.\n",
    "\n",
    "```python\n",
    "build_model(\"SVM\", C=1.0, kernel=\"linear\")\n",
    "build_model(\"NeuralNet\", layers=3, dropout=0.2)\n",
    "```\n",
    "🧠 Tests: **kwargs, validation, structured error handling"
   ]
  },
  {
   "cell_type": "code",
   "execution_count": null,
   "id": "64c10a54",
   "metadata": {},
   "outputs": [
    {
     "name": "stdout",
     "output_type": "stream",
     "text": [
      "SVM config: C=1.0, kernel=linear\n",
      "NeuralNet config: layers=3, dropout=0.2\n"
     ]
    }
   ],
   "source": [
    "def build_model(model_type, /, **kwargs):\n",
    "    if model_type == \"SVM\":\n",
    "        required = {\"C\", \"kernel\"}\n",
    "    elif model_type == \"NeuralNet\":\n",
    "        required = {\"layers\", \"dropout\"}\n",
    "    else:\n",
    "        raise ValueError(\"Unknown model type\")\n",
    "    \n",
    "    missing = required - kwargs.keys()\n",
    "    if missing:\n",
    "        raise ValueError(f\"Missing required params: {missing}\")\n",
    "    \n",
    "    return f\"{model_type} config: \" + \", \".join(f\"{k}={v}\" for k, v in kwargs.items())\n",
    "\n",
    "print(build_model(\"SVM\", C=1.0, kernel=\"linear\"))\n",
    "print(build_model(\"NeuralNet\", layers=3, dropout=0.2))\n",
    "\n",
    "# Uses / to enforce model_type as positional and validates required keys."
   ]
  },
  {
   "cell_type": "code",
   "execution_count": null,
   "id": "814849d2",
   "metadata": {},
   "outputs": [],
   "source": []
  },
  {
   "cell_type": "markdown",
   "id": "7c066a9c",
   "metadata": {},
   "source": [
    "### 21. Safe Mutable Default Generator\n",
    "📌 Fix this code with a solid idiom:\n",
    "\n",
    "```python\n",
    "def add_event(event, log=[]):  # BAD\n",
    "    log.append(event)\n",
    "    return log\n",
    "```\n",
    "🧠 Tests: Mutable default traps, memory leaks, shared state"
   ]
  },
  {
   "cell_type": "code",
   "execution_count": 20,
   "id": "1ebb22bd",
   "metadata": {},
   "outputs": [
    {
     "data": {
      "text/plain": [
       "['success',\n",
       " '5.12.12',\n",
       " <IPython.core.autocall.ZMQExitAutocall at 0x25a04914ad0>]"
      ]
     },
     "execution_count": 20,
     "metadata": {},
     "output_type": "execute_result"
    }
   ],
   "source": [
    "def add_event(event, log=None):\n",
    "    if log is None:\n",
    "        log = []\n",
    "    log.append(event)\n",
    "    return log\n",
    "\n",
    "add_event(exit, [\"success\", \"5.12.12\"])"
   ]
  },
  {
   "cell_type": "markdown",
   "id": "3f82f2d7",
   "metadata": {},
   "source": [
    "### 22. Function Combiner\n",
    "📌 Create a function combine_functions(*funcs) that returns a new function that applies each of the input functions in sequence.\n",
    "\n",
    "🎯 Example:\n",
    "\n",
    "```python\n",
    "def double(x): return x * 2\n",
    "def square(x): return x ** 2\n",
    "\n",
    "f = combine_functions(double, square)\n",
    "print(f(3))  # square(double(3)) = square(6) = 36\n",
    "```\n",
    "🧠 Tests: Closures, *args, higher-order functions"
   ]
  },
  {
   "cell_type": "code",
   "execution_count": 21,
   "id": "fab284e5",
   "metadata": {},
   "outputs": [
    {
     "name": "stdout",
     "output_type": "stream",
     "text": [
      "36\n"
     ]
    }
   ],
   "source": [
    "def combine_functions(*funcs):\n",
    "    def combined(x):\n",
    "        for f in funcs:\n",
    "            x = f(x)\n",
    "        return x\n",
    "    return combined\n",
    "\n",
    "# Usage\n",
    "def double(x): return x * 2\n",
    "def square(x): return x ** 2\n",
    "\n",
    "f = combine_functions(double, square)\n",
    "print(f(3))  # Output: 36 → square(double(3)) = square(6) = 36\n"
   ]
  },
  {
   "cell_type": "markdown",
   "id": "b55c4b72",
   "metadata": {},
   "source": [
    "### 23. Smart Router Function\n",
    "📌 Write a route(path, /, *, method=\"GET\", **params) function to simulate a web server route handler.\n",
    "\n",
    "🎯 Example:\n",
    "\n",
    "```python\n",
    "route(\"/users\", method=\"GET\", page=1)\n",
    "route(\"/auth\", method=\"POST\", username=\"admin\", password=\"123\")\n",
    "Bonus: Reject unknown method types and enforce \"POST\" requires username and password.\n",
    "```\n",
    "\n",
    "🧠 Tests: API design with /, *, **kwargs, argument validation"
   ]
  },
  {
   "cell_type": "code",
   "execution_count": 22,
   "id": "2ecbf837",
   "metadata": {},
   "outputs": [],
   "source": [
    "def route(path, /, *, method=\"GET\", **params):\n",
    "    if method not in {\"GET\", \"POST\"}:\n",
    "        raise ValueError(\"Unsupported method\")\n",
    "    \n",
    "    if method == \"POST\":\n",
    "        if \"username\" not in params or \"password\" not in params:\n",
    "            raise ValueError(\"POST requires username and password\")\n",
    "    \n",
    "    return f\"{method} request to {path} with {params}\"\n"
   ]
  },
  {
   "cell_type": "markdown",
   "id": "2ef98ba7",
   "metadata": {},
   "source": [
    "### 24. Data Transformation Pipeline\n",
    "📌 Build pipeline(data, *functions) to apply a sequence of transformations to a dataset.\n",
    "\n",
    "🎯 Example:\n",
    "\n",
    "```python\n",
    "pipeline([1, 2, 3],\n",
    "         lambda x: [i + 1 for i in x],\n",
    "         lambda x: [i * 2 for i in x])\n",
    "# Output: [4, 6, 8]\n",
    "```\n",
    "🧠 Tests: Higher-order functions, function composition, *args unpacking"
   ]
  },
  {
   "cell_type": "code",
   "execution_count": 23,
   "id": "f23a0e7e",
   "metadata": {},
   "outputs": [
    {
     "name": "stdout",
     "output_type": "stream",
     "text": [
      "[4, 6, 8]\n"
     ]
    }
   ],
   "source": [
    "def pipeline(data, *functions):\n",
    "    for f in functions:\n",
    "        data = f(data)\n",
    "    return data\n",
    "\n",
    "# Example\n",
    "result = pipeline([1, 2, 3],\n",
    "                  lambda x: [i + 1 for i in x],\n",
    "                  lambda x: [i * 2 for i in x])\n",
    "print(result)  # [4, 6, 8]\n"
   ]
  },
  {
   "cell_type": "markdown",
   "id": "5092479a",
   "metadata": {},
   "source": [
    "**1. Explanation of Each Line:**\n",
    "\n",
    "*   `def pipeline(data, *functions):`\n",
    "    *   This line defines a function named `pipeline`. It accepts one required argument, `data`, and a variable number of *optional* arguments called `functions`. The `*` before `functions` means that the function can receive any number of arguments after `data`, and they will be packaged into a tuple named `functions`.\n",
    "\n",
    "*   `for f in functions:`\n",
    "    *   This line starts a `for` loop.  In each iteration, the loop variable `f` will take on the value of one of the functions passed into the `pipeline` function.\n",
    "\n",
    "*   `data = f(data)`\n",
    "    *   This is the core of the function's operation.  It calls the function `f` (which is one of the functions provided as input) *with* `data` as its argument. The result of `f(data)` is then assigned back to the variable `data`.  Essentially, this applies the function `f` to the current `data` and updates `data` with the transformed value.  This creates a chain of operations.\n",
    "\n",
    "*   `return data`\n",
    "    *   After the loop has finished executing (meaning `f` has been applied to `data` for each function in the `functions` list), the function returns the final value of `data`. This final `data` has been transformed through all the functions in the pipeline.\n",
    "\n",
    "*   `# Example`\n",
    "    *   This is a comment indicating that the following lines are a usage example.\n",
    "\n",
    "*   `result = pipeline([1, 2, 3],`\n",
    "    *   This line calls the `pipeline` function with a list of numbers `[1, 2, 3]` as the initial `data`.  It also passes two lambda functions as arguments.\n",
    "\n",
    "*   `lambda x: [i + 1 for i in x]`\n",
    "    *   This is a lambda function (an anonymous, inline function). It takes a list `x` as input and uses a list comprehension to create a new list where each element is the original element plus 1.  This function adds 1 to each element of the input list.\n",
    "\n",
    "*   `lambda x: [i * 2 for i in x]`\n",
    "    *   This is another lambda function, also anonymous. It takes a list `x` as input and creates a new list where each element is twice the original element. This function multiplies each element of the input list by 2.\n",
    "\n",
    "*   `print(result)`\n",
    "    *   This line prints the final value of the `result` variable, which is the output of the entire `pipeline`.\n",
    "\n",
    "\n",
    "**2. Core Concept: Higher-Order Functions**\n",
    "\n",
    "The code uses the concept of *higher-order functions*. A higher-order function is a function that either:\n",
    "\n",
    "*   Takes another function as an argument.\n",
    "*   Returns a function as its output.\n",
    "\n",
    "In this case, `pipeline` is a higher-order function because it takes a list of functions (`functions`) as an argument. This allows you to chain together multiple functions to perform a sequence of operations on the data.  The lambda functions are, themselves, higher-order functions – they take a list as input.\n",
    "\n",
    "**3. Analysis of Correctness**\n",
    "\n",
    "In this example, the use of higher-order functions is *correct* and effectively demonstrates the power of this approach.  The pipeline design is well-suited for composing functions that operate on data.\n",
    "\n",
    "The code accurately implements a chain of transformations.  First, each element of the input list is incremented by 1. Then, each of the resulting elements is multiplied by 2. The code executes as expected, producing the output `[4, 6, 8]`.\n",
    "\n",
    "**4.  Flaws, Failures, and Limitations (Not Applicable)**\n",
    "\n",
    "There are no flaws, failures, or limitations in the code as it stands.  The example provided is simple and perfectly illustrates the usage of higher-order functions to create a pipeline.\n",
    "\n",
    "**5.  Intuition-Building Explanation**\n",
    "\n",
    "Think of the `pipeline` function as a factory for processing data.  It receives raw data, and then it passes that data through a series of assembly lines (the functions) to produce a finished product.  Each assembly line performs a specific transformation.  The function allows you to define the order in which these transformations occur.  It's a highly flexible and composable way to handle data processing. This approach is particularly useful when you have several related operations that you want to apply to data in a well-defined sequence.\n"
   ]
  },
  {
   "cell_type": "markdown",
   "id": "14c69e38",
   "metadata": {},
   "source": [
    "### 25. Keyword-Only Audit Trail\n",
    "📌 Enforce usage of keyword-only arguments in a security audit function:\n",
    "\n",
    "```python\n",
    "def audit(action, *, user, timestamp):\n",
    "    return f\"{timestamp}: {user} performed {action}\"\n",
    "🎯 Make sure positional-only arguments and keyword-only enforcement is correctly used.\n",
    "```\n",
    "🧠 Tests: /, * boundary use, signature design clarity"
   ]
  },
  {
   "cell_type": "code",
   "execution_count": 24,
   "id": "a737d289",
   "metadata": {},
   "outputs": [
    {
     "name": "stdout",
     "output_type": "stream",
     "text": [
      "2025-07-14: alice performed delete_file\n"
     ]
    }
   ],
   "source": [
    "def audit(action, *, user, timestamp):\n",
    "    return f\"{timestamp}: {user} performed {action}\"\n",
    "\n",
    "# Correct usage\n",
    "print(audit(\"delete_file\", user=\"alice\", timestamp=\"2025-07-14\"))\n",
    "\n",
    "# audit(\"delete_file\", \"alice\", \"2025-07-14\")  # ❌ Error: user, timestamp must be keyword\n"
   ]
  },
  {
   "cell_type": "markdown",
   "id": "dcc9d911",
   "metadata": {},
   "source": [
    "### 26. Multi-Target Function Broadcaster\n",
    "📌 Write broadcast(value, *funcs, **kwargs) that sends value to each function in funcs, optionally using **kwargs.\n",
    "\n",
    "🎯 Example:\n",
    "\n",
    "```python\n",
    "def log(x, prefix=\"\"): print(prefix + str(x))\n",
    "def save(x): return x**2\n",
    "\n",
    "broadcast(5, log, save, prefix=\"Result: \")\n",
    "```\n",
    "🧠 Tests: Combining *args + **kwargs dispatch, functional broadcasting"
   ]
  },
  {
   "cell_type": "code",
   "execution_count": 25,
   "id": "ba2a32f7",
   "metadata": {},
   "outputs": [
    {
     "name": "stdout",
     "output_type": "stream",
     "text": [
      "Value: 5\n"
     ]
    },
    {
     "data": {
      "text/plain": [
       "[None, 25]"
      ]
     },
     "execution_count": 25,
     "metadata": {},
     "output_type": "execute_result"
    }
   ],
   "source": [
    "def broadcast(value, *funcs, **kwargs):\n",
    "    results = []\n",
    "    for f in funcs:\n",
    "        try:\n",
    "            results.append(f(value, **kwargs))\n",
    "        except TypeError:\n",
    "            # Function might not accept kwargs; try again without them\n",
    "            results.append(f(value))\n",
    "    return results\n",
    "\n",
    "# Usage\n",
    "def log(x, prefix=\"\"): print(prefix + str(x))\n",
    "def square(x): return x ** 2\n",
    "\n",
    "broadcast(5, log, square, prefix=\"Value: \")  # prints \"Value: 5\", returns [None, 25]\n"
   ]
  }
 ],
 "metadata": {
  "kernelspec": {
   "display_name": "Python 3",
   "language": "python",
   "name": "python3"
  },
  "language_info": {
   "codemirror_mode": {
    "name": "ipython",
    "version": 3
   },
   "file_extension": ".py",
   "mimetype": "text/x-python",
   "name": "python",
   "nbconvert_exporter": "python",
   "pygments_lexer": "ipython3",
   "version": "3.13.5"
  }
 },
 "nbformat": 4,
 "nbformat_minor": 5
}
