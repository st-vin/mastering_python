{
 "cells": [
  {
   "cell_type": "markdown",
   "id": "3084fab2",
   "metadata": {},
   "source": [
    "# Definition\n",
    "The keyword def introduces a function definition. It must be followed by the function name and the parenthesized list of formal parameters. The statements that form the body of the function start at the next line, and must be indented.\n",
    "\n",
    "The first statement of the function body can optionally be a string literal; this string literal is the function’s documentation string, or docstring. (More about docstrings can be found in the section Documentation Strings.) There are tools which use docstrings to automatically produce online or printed documentation, or to let the user interactively browse through code; it’s good practice to include docstrings in code that you write, so make a habit of it."
   ]
  },
  {
   "cell_type": "code",
   "execution_count": 31,
   "id": "d4a2e3d9",
   "metadata": {},
   "outputs": [
    {
     "name": "stdout",
     "output_type": "stream",
     "text": [
      "0 1 1 2 3 5 8 13 21 34 55 89 144 \n"
     ]
    }
   ],
   "source": [
    "def fib(n):    # write Fibonacci series less than n\n",
    "    \"\"\"Print a Fibonacci series less than n.\"\"\"\n",
    "    a, b = 0, 1\n",
    "    while a < n:\n",
    "        print(a, end=' ')\n",
    "        a, b = b, a+b\n",
    "    print()\n",
    "\n",
    "# Now call the function we just defined:\n",
    "fib(200)"
   ]
  },
  {
   "cell_type": "markdown",
   "id": "0e4839d7",
   "metadata": {},
   "source": [
    "A function definition associates the function name with the function object in the current symbol table. The interpreter recognizes the object pointed to by that name as a user-defined function. Other names can also point to that same function object and can also be used to access the function:"
   ]
  },
  {
   "cell_type": "code",
   "execution_count": 41,
   "id": "077f6b01",
   "metadata": {},
   "outputs": [
    {
     "name": "stdout",
     "output_type": "stream",
     "text": [
      "0 1 1 2 3 5 8 13 21 34 55 89 \n"
     ]
    },
    {
     "data": {
      "text/plain": [
       "True"
      ]
     },
     "execution_count": 41,
     "metadata": {},
     "output_type": "execute_result"
    }
   ],
   "source": [
    "fib\n",
    "\n",
    "f = fib\n",
    "f(100)\n",
    "id(f) == id (fib)"
   ]
  },
  {
   "cell_type": "markdown",
   "id": "28b4f3d0",
   "metadata": {},
   "source": [
    "It is simple to write a function that returns a list of the numbers of the Fibonacci series, instead of printing it:"
   ]
  },
  {
   "cell_type": "code",
   "execution_count": 46,
   "id": "a9a5f13c",
   "metadata": {},
   "outputs": [
    {
     "data": {
      "text/plain": [
       "[0, 1, 1, 2, 3, 5, 8, 13, 21, 34, 55, 89]"
      ]
     },
     "execution_count": 46,
     "metadata": {},
     "output_type": "execute_result"
    }
   ],
   "source": [
    "def fib2(n):  # return Fibonacci series up to n\n",
    "    \"\"\"Return a list containing the Fibonacci series up to n.\"\"\"\n",
    "    result = []\n",
    "    a, b = 0, 1\n",
    "    while a < n:\n",
    "        result.append(a)    # see below\n",
    "        a, b = b, a+b\n",
    "    return result\n",
    "\n",
    "f100 = fib2(100)    # call it\n",
    "f100                # write the result"
   ]
  },
  {
   "cell_type": "markdown",
   "id": "950a9962",
   "metadata": {},
   "source": [
    "This example, as usual, demonstrates some new Python features:\n",
    "\n",
    "The return statement returns with a value from a function. return without an expression argument returns None. Falling off the end of a function also returns None.\n",
    "\n",
    "The statement result.append(a) calls a method of the list object result. A method is a function that ‘belongs’ to an object and is named obj.methodname, where obj is some object (this may be an expression), and methodname is the name of a method that is defined by the object’s type. Different types define different methods. Methods of different types may have the same name without causing ambiguity. (It is possible to define your own object types and methods, using classes, see Classes) The method append() shown in the example is defined for list objects; it adds a new element at the end of the list. In this example it is equivalent to result = result + [a], but more efficient."
   ]
  },
  {
   "cell_type": "markdown",
   "id": "8d2982b0",
   "metadata": {},
   "source": [
    "Okay, let's break down this Python documentation in a way that's easier to grasp, using a more intuitive explanation.\n",
    "\n",
    "**Think of it like this: Functions have their own little notebooks.**\n",
    "\n",
    "1. **Function Notebooks (Symbol Tables):**\n",
    "   - When you define a function in Python, it creates its own separate \"notebook\" called a *symbol table*. This notebook is used to store all the temporary information the function needs – specifically, the variables it creates and uses *inside* itself.\n",
    "\n",
    "2. **Variable Access – The Search Process:**\n",
    "   - **Local First:** When a variable is *assigned* a value *inside* a function, that value gets written into that function’s notebook.\n",
    "   - **Searching for Variables:**  If a function needs to use a variable, it checks these places in order:\n",
    "     1. **Its own notebook:**  First, it looks in its own notebook for the variable.\n",
    "     2. **Enclosing Notebooks:**  If it doesn't find it there, it looks in the notebooks of any functions that \"contain\" it (the functions that called it).  Think of this like a hierarchy – if a function is inside another function, it can see variables from the outer function.\n",
    "     3. **Global Notebook:**  Then, it checks the *global* notebook (the one that holds variables defined outside of any function).\n",
    "     4. **Built-in Names:** Finally, it checks the built-in names – things like `print`, `len`, etc.\n",
    "\n",
    "3. **“Call by Value” – Passing Arguments:**\n",
    "   - When you call a function (e.g., `my_function(x, y)`), the *arguments* you pass (`x` and `y`) are copied into a temporary section of the function’s notebook.\n",
    "   - **Important:** This isn’t copying the *value* of the object; it's copying the *reference* to the object.  So, if you change the object itself inside the function, the change will be reflected outside the function too, because both the function and the caller are working with the same object reference.\n",
    "\n",
    "4. **`global` and `nonlocal`:**\n",
    "   - **`global`:** If you want to *change* a global variable inside a function, you need to use the `global` keyword. This tells the function to use the global variable instead of creating a new one.\n",
    "   - **`nonlocal`:** If you want to modify a variable from an enclosing function (a function nested inside another), you use the `nonlocal` keyword.  This allows you to modify the variable from the enclosing function's scope.\n",
    "\n",
    "\n",
    "\n",
    "**Example to Illustrate:**\n",
    "\n",
    "```python\n",
    "global_var = 10  # Global variable\n",
    "\n",
    "def outer_function():\n",
    "  global global_var # Declare intention to modify global\n",
    "  print(\"Inside outer_function:\")\n",
    "  print(\"global_var:\", global_var)\n",
    "\n",
    "  def inner_function():\n",
    "    global global_var\n",
    "    print(\"Inside inner_function:\")\n",
    "    print(\"global_var:\", global_var)\n",
    "    global_var = 20 # Modifies global variable\n",
    "    print(\"global_var after modification:\", global_var)\n",
    "\n",
    "  inner_function()\n",
    "  print(\"global_var after inner_function:\", global_var)\n",
    "\n",
    "outer_function()\n",
    "print(\"global_var after outer_function:\", global_var)\n",
    "```\n",
    "\n",
    "**Key Takeaway:**  Understanding symbol tables and how Python handles variable scope is crucial for writing correct and predictable code.\n",
    "\n",
    "Do you want me to:\n",
    "\n",
    "*   Explain a specific part of the documentation in more detail?\n",
    "*   Provide another example?\n",
    "*   Answer a particular question you have about this concept?"
   ]
  },
  {
   "cell_type": "code",
   "execution_count": 37,
   "id": "bce43f77",
   "metadata": {},
   "outputs": [
    {
     "name": "stdout",
     "output_type": "stream",
     "text": [
      "Inside outer_function:\n",
      "global_var: 10\n",
      "Inside inner_function:\n",
      "global_var: 10\n",
      "global_var after modification: 20\n",
      "global_var after inner_function: 20\n",
      "global_var after outer_function: 20\n"
     ]
    }
   ],
   "source": [
    "global_var = 10  # Global variable\n",
    "\n",
    "def outer_function():\n",
    "  global global_var # Declare intention to modify global\n",
    "  print(\"Inside outer_function:\")\n",
    "  print(\"global_var:\", global_var)\n",
    "\n",
    "  def inner_function():\n",
    "    global global_var\n",
    "    print(\"Inside inner_function:\")\n",
    "    print(\"global_var:\", global_var)\n",
    "    global_var = 20 # Modifies global variable\n",
    "    print(\"global_var after modification:\", global_var)\n",
    "\n",
    "  inner_function()\n",
    "  print(\"global_var after inner_function:\", global_var)\n",
    "\n",
    "outer_function()\n",
    "print(\"global_var after outer_function:\", global_var)"
   ]
  },
  {
   "cell_type": "markdown",
   "id": "95de4948",
   "metadata": {},
   "source": [
    "## More on Defining Functions\n",
    "It is also possible to define functions with a variable number of arguments. There are three forms, which can be combined."
   ]
  },
  {
   "cell_type": "markdown",
   "id": "b77f9955",
   "metadata": {},
   "source": [
    "### Default Argument Values¶\n",
    "The most useful form is to specify a default value for one or more arguments. This creates a function that can be called with fewer arguments than it is defined to allow. For example:"
   ]
  },
  {
   "cell_type": "code",
   "execution_count": 50,
   "id": "439fa577",
   "metadata": {},
   "outputs": [],
   "source": [
    "def ask_ok(prompt, retries=4, reminder='Please try again!'):\n",
    "    while True:\n",
    "        reply = input(prompt)\n",
    "        if reply in {'y', 'ye', 'yes'}:\n",
    "            return True\n",
    "        if reply in {'n', 'no', 'nop', 'nope'}:\n",
    "            return False\n",
    "        retries = retries - 1\n",
    "        if retries < 0:\n",
    "            raise ValueError('invalid user response')\n",
    "        print(reminder)\n",
    "        "
   ]
  },
  {
   "cell_type": "code",
   "execution_count": 54,
   "id": "42280d1d",
   "metadata": {},
   "outputs": [
    {
     "data": {
      "text/plain": [
       "False"
      ]
     },
     "execution_count": 54,
     "metadata": {},
     "output_type": "execute_result"
    }
   ],
   "source": [
    "ask_ok('Do you really want to quit?')"
   ]
  },
  {
   "cell_type": "code",
   "execution_count": 59,
   "id": "65dd9eaa",
   "metadata": {},
   "outputs": [
    {
     "data": {
      "text/plain": [
       "True"
      ]
     },
     "execution_count": 59,
     "metadata": {},
     "output_type": "execute_result"
    }
   ],
   "source": [
    "ask_ok('OK to overwrite the file?', 2)"
   ]
  },
  {
   "cell_type": "code",
   "execution_count": 60,
   "id": "dd0937f3",
   "metadata": {},
   "outputs": [
    {
     "data": {
      "text/plain": [
       "False"
      ]
     },
     "execution_count": 60,
     "metadata": {},
     "output_type": "execute_result"
    }
   ],
   "source": [
    "ask_ok('OK to overwrite the file?', 2, 'Come on, only yes or no!')"
   ]
  },
  {
   "cell_type": "markdown",
   "id": "2e4ab63d",
   "metadata": {},
   "source": [
    "This function can be called in several ways:\n",
    "\n",
    "giving only the mandatory argument: ask_ok('Do you really want to quit?')\n",
    "\n",
    "giving one of the optional arguments: ask_ok('OK to overwrite the file?', 2)\n",
    "\n",
    "or even giving all arguments: ask_ok('OK to overwrite the file?', 2, 'Come on, only yes or no!')\n",
    "\n",
    "This example also introduces the in keyword. This tests whether or not a sequence contains a certain value."
   ]
  },
  {
   "cell_type": "markdown",
   "id": "3817832d",
   "metadata": {},
   "source": [
    "The default values are evaluated at the point of function definition in the defining scope, so that\n",
    "```python\n",
    "i = 5\n",
    "\n",
    "def f(arg=i):\n",
    "    print(arg)\n",
    "\n",
    "i = 6\n",
    "f()\n",
    "# will print 5.\n",
    "```\n",
    "\n",
    "Important warning: The default value is evaluated only once. This makes a difference when the default is a mutable object such as a list, dictionary, or instances of most classes. For example, the following function accumulates the arguments passed to it on subsequent calls:\n",
    "\n",
    "```python\n",
    "def f(a, L=[]):\n",
    "    L.append(a)\n",
    "    return L\n",
    "\n",
    "print(f(1))\n",
    "print(f(2))\n",
    "print(f(3))\n",
    "# This will print\n",
    "\n",
    "[1]\n",
    "[1, 2]\n",
    "[1, 2, 3]\n",
    "```\n",
    "If you don’t want the default to be shared between subsequent calls, you can write the function like this instead:\n",
    "```python\n",
    "def f(a, L=None):\n",
    "    if L is None:\n",
    "        L = []\n",
    "    L.append(a)\n",
    "    return L\n",
    "    ```"
   ]
  },
  {
   "cell_type": "markdown",
   "id": "c57b092e",
   "metadata": {},
   "source": [
    "## Keyword Arguments\n",
    "Functions can also be called using keyword arguments of the form kwarg=value. For instance, the following function:\n",
    "\n",
    "(the function below accepts one required argument (voltage) and three optional arguments (state, action, and type). This function can be called in any of the following ways:)"
   ]
  },
  {
   "cell_type": "code",
   "execution_count": 64,
   "id": "0946f11d",
   "metadata": {},
   "outputs": [],
   "source": [
    "def parrot(voltage, state='a stiff', action='voom', type='Norwegian Blue'):\n",
    "    print(\"-- This parrot wouldn't\", action, end=' ')\n",
    "    print(\"if you put\", voltage, \"volts through it.\")\n",
    "    print(\"-- Lovely plumage, the\", type)\n",
    "    print(\"-- It's\", state, \"!\")"
   ]
  },
  {
   "cell_type": "code",
   "execution_count": 69,
   "id": "b1e3ffae",
   "metadata": {},
   "outputs": [
    {
     "name": "stdout",
     "output_type": "stream",
     "text": [
      "-- This parrot wouldn't voom if you put 1000 volts through it.\n",
      "-- Lovely plumage, the Norwegian Blue\n",
      "-- It's a stiff !\n",
      "-- This parrot wouldn't voom if you put 1000 volts through it.\n",
      "-- Lovely plumage, the Norwegian Blue\n",
      "-- It's a stiff !\n",
      "-- This parrot wouldn't VOOOOOM if you put 1000000 volts through it.\n",
      "-- Lovely plumage, the Norwegian Blue\n",
      "-- It's a stiff !\n",
      "-- This parrot wouldn't VOOOOOM if you put 1000000 volts through it.\n",
      "-- Lovely plumage, the Norwegian Blue\n",
      "-- It's a stiff !\n",
      "-- This parrot wouldn't jump if you put a million volts through it.\n",
      "-- Lovely plumage, the Norwegian Blue\n",
      "-- It's bereft of life !\n",
      "-- This parrot wouldn't voom if you put a thousand volts through it.\n",
      "-- Lovely plumage, the Norwegian Blue\n",
      "-- It's pushing up the daisies !\n"
     ]
    }
   ],
   "source": [
    "parrot(1000)                                          # 1 positional argument\n",
    "parrot(voltage=1000)                                  # 1 keyword argument\n",
    "parrot(voltage=1000000, action='VOOOOOM')             # 2 keyword arguments\n",
    "parrot(action='VOOOOOM', voltage=1000000)             # 2 keyword arguments\n",
    "parrot('a million', 'bereft of life', 'jump')         # 3 positional arguments\n",
    "parrot('a thousand', state='pushing up the daisies')  # 1 positional, 1 keyword"
   ]
  },
  {
   "cell_type": "code",
   "execution_count": null,
   "id": "d046642d",
   "metadata": {},
   "outputs": [],
   "source": [
    "def parrot(voltage, state='a stiff', action='voom', type='Norwegian Blue'):\n",
    "    print(\"-- This parrot wouldn't\", action, end=' ')\n",
    "    print(\"if you put\", voltage, \"volts through it.\")\n",
    "    print(\"-- Lovely plumage, the\", type)\n",
    "    print(\"-- It's\", state, \"!\")\n",
    "    \n",
    "# but all the following calls would be invalid:\n",
    "\n",
    "parrot()                     # required argument missing\n",
    "parrot(voltage=5.0, 'dead')  # non-keyword argument after a keyword argument\n",
    "parrot(110, voltage=220)     # duplicate value for the same argument\n",
    "parrot(actor='John Cleese')  # unknown keyword argument"
   ]
  },
  {
   "cell_type": "markdown",
   "id": "0524484d",
   "metadata": {},
   "source": [
    "In a function call, keyword arguments must follow positional arguments. All the keyword arguments passed must match one of the arguments accepted by the function (e.g. actor is not a valid argument for the parrot function), and their order is not important. This also includes non-optional arguments (e.g. parrot(voltage=1000) is valid too). No argument may receive a value more than once. Here’s an example that fails due to this restriction:"
   ]
  },
  {
   "cell_type": "code",
   "execution_count": null,
   "id": "6e378573",
   "metadata": {},
   "outputs": [],
   "source": [
    "def function(a):\n",
    "    pass\n",
    "\n",
    "function(0, a=0)\n",
    "# Traceback (most recent call last):\n",
    "#   File \"<stdin>\", line 1, in <module>\n",
    "# TypeError: function() got multiple values for argument 'a'"
   ]
  },
  {
   "cell_type": "markdown",
   "id": "b79af211",
   "metadata": {},
   "source": [
    "When a final formal parameter of the form **name is present, it receives a dictionary (see Mapping Types — dict) containing all keyword arguments except for those corresponding to a formal parameter. This may be combined with a formal parameter of the form *name (described in the next subsection) which receives a tuple containing the positional arguments beyond the formal parameter list. (*name must occur before **name.) For example, if we define a function like this:\n",
    "\n",
    "Note that the order in which the keyword arguments are printed is guaranteed to match the order in which they were provided in the function call."
   ]
  },
  {
   "cell_type": "code",
   "execution_count": 79,
   "id": "c384ee43",
   "metadata": {},
   "outputs": [],
   "source": [
    "def cheeseshop(kind, *arguments, **keywords):\n",
    "    print(\"-- Do you have any\", kind, \"?\")\n",
    "    print(\"-- I'm sorry, we're all out of\", kind)\n",
    "    for arg in arguments:\n",
    "        print(arg)\n",
    "    print(\"-\" * 40)\n",
    "    for kw in keywords:\n",
    "        print(kw, \":\", keywords[kw])"
   ]
  },
  {
   "cell_type": "code",
   "execution_count": 78,
   "id": "f02f5814",
   "metadata": {},
   "outputs": [
    {
     "name": "stdout",
     "output_type": "stream",
     "text": [
      "-- Do you have any Limburger ?\n",
      "-- I'm sorry, we're all out of Limburger\n",
      "It's very runny, sir.\n",
      "It's really very, VERY runny, sir.\n",
      "----------------------------------------\n",
      "shopkeeper : Michael Palin\n",
      "client : John Cleese\n",
      "sketch : Cheese Shop Sketch\n"
     ]
    }
   ],
   "source": [
    "# It could be called like this:\n",
    "cheeseshop(\"Limburger\", \"It's very runny, sir.\",\n",
    "           \"It's really very, VERY runny, sir.\",\n",
    "           shopkeeper=\"Michael Palin\",\n",
    "           client=\"John Cleese\",\n",
    "           sketch=\"Cheese Shop Sketch\")"
   ]
  },
  {
   "cell_type": "markdown",
   "id": "b0e38fc9",
   "metadata": {},
   "source": [
    "## Special parameters\n",
    "By default, arguments may be passed to a Python function either by position or explicitly by keyword. For readability and performance, it makes sense to restrict the way arguments can be passed so that a developer need only look at the function definition to determine if items are passed by position, by position or keyword, or by keyword.\n",
    "\n",
    "A function definition may look like:"
   ]
  },
  {
   "cell_type": "markdown",
   "id": "3512dc71",
   "metadata": {},
   "source": [
    "```\n",
    "def f(pos1, pos2, /, pos_or_kwd, *, kwd1, kwd2):\n",
    "      -----------    ----------     ----------\n",
    "        |             |                  |\n",
    "        |        Positional or keyword   |\n",
    "        |                                - Keyword only\n",
    "         -- Positional only\n",
    "         \n",
    "```"
   ]
  },
  {
   "cell_type": "markdown",
   "id": "7a89866b",
   "metadata": {},
   "source": [
    "where / and * are optional. If used, these symbols indicate the kind of parameter by how the arguments may be passed to the function: positional-only, positional-or-keyword, and keyword-only. Keyword parameters are also referred to as named parameters."
   ]
  },
  {
   "cell_type": "markdown",
   "id": "e2feb77e",
   "metadata": {},
   "source": [
    "### Positional-or-Keyword Arguments\n",
    "If / and * are not present in the function definition, arguments may be passed to a function by position or by keyword."
   ]
  },
  {
   "cell_type": "markdown",
   "id": "f2747e65",
   "metadata": {},
   "source": [
    "### Positional-Only Parameters\n",
    "Looking at this in a bit more detail, it is possible to mark certain parameters as positional-only. If positional-only, the parameters’ order matters, and the parameters cannot be passed by keyword. Positional-only parameters are placed before a / (forward-slash). The / is used to logically separate the positional-only parameters from the rest of the parameters. If there is no / in the function definition, there are no positional-only parameters.\n",
    "\n",
    "Parameters following the / may be positional-or-keyword or keyword-only."
   ]
  },
  {
   "cell_type": "markdown",
   "id": "a2982494",
   "metadata": {},
   "source": [
    "### Keyword-Only Arguments¶\n",
    "To mark parameters as keyword-only, indicating the parameters must be passed by keyword argument, place an * in the arguments list just before the first keyword-only parameter."
   ]
  },
  {
   "cell_type": "markdown",
   "id": "c624c884",
   "metadata": {},
   "source": [
    "#### Function Examples\n",
    "Consider the following example function definitions paying close attention to the markers / and *:"
   ]
  },
  {
   "cell_type": "code",
   "execution_count": 80,
   "id": "f89f7a3b",
   "metadata": {},
   "outputs": [],
   "source": [
    "def standard_arg(arg):\n",
    "    print(arg)\n",
    "\n",
    "def pos_only_arg(arg, /):\n",
    "    print(arg)\n",
    "\n",
    "def kwd_only_arg(*, arg):\n",
    "    print(arg)\n",
    "\n",
    "def combined_example(pos_only, /, standard, *, kwd_only):\n",
    "    print(pos_only, standard, kwd_only)"
   ]
  },
  {
   "cell_type": "code",
   "execution_count": null,
   "id": "3ba53732",
   "metadata": {},
   "outputs": [
    {
     "name": "stdout",
     "output_type": "stream",
     "text": [
      "2\n",
      "2\n",
      "1\n",
      "3\n",
      "1 2 3\n",
      "1 2 3\n"
     ]
    }
   ],
   "source": [
    "# The first function definition, standard_arg, the most familiar form, places\n",
    "# no restrictions on the calling convention and arguments may be passed by\n",
    "# position or keyword\n",
    "standard_arg(2)\n",
    "\n",
    "standard_arg(arg=2)\n",
    "\n",
    "# The second function pos_only_arg is restricted to only use positional\n",
    "# parameters as there is a / in the function definition:\n",
    "pos_only_arg(1)\n",
    "\n",
    "# pos_only_arg(arg=1) TypeError: pos_only_arg() got some positional-only\n",
    "# arguments passed as keyword arguments: 'arg'\n",
    "\n",
    "# The third function kwd_only_arg only allows keyword arguments as\n",
    "# indicated by a * in the function definition:\n",
    "# kwd_only_arg(3) TypeError: kwd_only_arg() takes 0 positional arguments but 1 was given\n",
    "kwd_only_arg(arg=3)\n",
    "\n",
    "# And the last uses all three calling conventions in the same\n",
    "# function definition:\n",
    "# combined_example(1, 2, 3)TypeError: combined_example() takes 2 positional arguments but 3 were given\n",
    "combined_example(1, 2, kwd_only=3)\n",
    "\n",
    "combined_example(1, standard=2, kwd_only=3)\n",
    "\n",
    "# combined_example(pos_only=1, standard=2, kwd_only=3) TypeError: combined_example() got some positional-only arguments passed as keyword arguments: 'pos_only'"
   ]
  },
  {
   "cell_type": "markdown",
   "id": "0c271a49",
   "metadata": {},
   "source": [
    "#### Guidance \n",
    "Use positional-only if you want the name of the parameters to not be available to the user. This is useful when parameter names have no real meaning, if you want to enforce the order of the arguments when the function is called or if you need to take some positional parameters and arbitrary keywords.\n",
    "\n",
    "Use keyword-only when names have meaning and the function definition is more understandable by being explicit with names or you want to prevent users relying on the position of the argument being passed.\n",
    "\n",
    "For an API, use positional-only to prevent breaking API changes if the parameter’s name is modified in the future."
   ]
  },
  {
   "cell_type": "markdown",
   "id": "72aa34ca",
   "metadata": {},
   "source": [
    "## Arbitrary Argument Lists\n",
    "Finally, the least frequently used option is to specify that a function can be called with an arbitrary number of arguments. These arguments will be wrapped up in a tuple (see Tuples and Sequences). Before the variable number of arguments, zero or more normal arguments may occur."
   ]
  },
  {
   "cell_type": "code",
   "execution_count": 87,
   "id": "be4f9957",
   "metadata": {},
   "outputs": [],
   "source": [
    "def write_multiple_items(file, separator, *args):\n",
    "    file.write(separator.join(args))"
   ]
  },
  {
   "cell_type": "markdown",
   "id": "5ddd1200",
   "metadata": {},
   "source": [
    "Normally, these variadic arguments will be last in the list of formal parameters, because they scoop up all remaining input arguments that are passed to the function. Any formal parameters which occur after the *args parameter are ‘keyword-only’ arguments, meaning that they can only be used as keywords rather than positional arguments."
   ]
  },
  {
   "cell_type": "code",
   "execution_count": 90,
   "id": "d49c5c04",
   "metadata": {},
   "outputs": [
    {
     "name": "stdout",
     "output_type": "stream",
     "text": [
      "earth/mars/venus\n",
      "earth.mars.venus\n"
     ]
    }
   ],
   "source": [
    "def concat(*args, sep=\"/\"):\n",
    "    return sep.join(args)\n",
    "\n",
    "print(concat(\"earth\", \"mars\", \"venus\"))\n",
    "\n",
    "print(concat(\"earth\", \"mars\", \"venus\", sep=\".\"))"
   ]
  },
  {
   "cell_type": "markdown",
   "id": "32abef9d",
   "metadata": {},
   "source": [
    "## Unpacking Argument Lists\n",
    "The reverse situation occurs when the arguments are already in a list or tuple but need to be unpacked for a function call requiring separate positional arguments. For instance, the built-in 'range()' function expects separate start and stop arguments. If they are not available separately, write the function call with the *-operator to unpack the arguments out of a list or tuple:"
   ]
  },
  {
   "cell_type": "code",
   "execution_count": 93,
   "id": "29e3511f",
   "metadata": {},
   "outputs": [
    {
     "data": {
      "text/plain": [
       "[3, 6, 9, 12, 15]"
      ]
     },
     "execution_count": 93,
     "metadata": {},
     "output_type": "execute_result"
    }
   ],
   "source": [
    "list(range(3, 6))            # normal call with separate arguments\n",
    "\n",
    "args = [3, 16, 3]\n",
    "list(range(*args))            # call with arguments unpacked from a list"
   ]
  },
  {
   "cell_type": "markdown",
   "id": "2c7d43d6",
   "metadata": {},
   "source": [
    "In the same fashion, dictionaries can deliver keyword arguments with the **-operator:"
   ]
  },
  {
   "cell_type": "code",
   "execution_count": 94,
   "id": "5888b8e2",
   "metadata": {},
   "outputs": [
    {
     "name": "stdout",
     "output_type": "stream",
     "text": [
      "-- This parrot wouldn't VOOM if you put four million volts through it. E's bleedin' demised !\n"
     ]
    }
   ],
   "source": [
    "def parrot(voltage, state='a stiff', action='voom'):\n",
    "    print(\"-- This parrot wouldn't\", action, end=' ')\n",
    "    print(\"if you put\", voltage, \"volts through it.\", end=' ')\n",
    "    print(\"E's\", state, \"!\")\n",
    "\n",
    "d = {\"voltage\": \"four million\", \"state\": \"bleedin' demised\", \"action\": \"VOOM\"}\n",
    "parrot(**d)"
   ]
  },
  {
   "cell_type": "markdown",
   "id": "adb07556",
   "metadata": {},
   "source": [
    "## Lambda Expressions\n",
    "Small anonymous functions can be created with the lambda keyword. This function returns the sum of its two arguments: lambda a, b: a+b. Lambda functions can be used wherever function objects are required. They are syntactically restricted to a single expression. Semantically, they are just syntactic sugar for a normal function definition. Like nested function definitions, lambda functions can reference variables from the containing scope:"
   ]
  },
  {
   "cell_type": "code",
   "execution_count": 95,
   "id": "a76680cb",
   "metadata": {},
   "outputs": [
    {
     "data": {
      "text/plain": [
       "43"
      ]
     },
     "execution_count": 95,
     "metadata": {},
     "output_type": "execute_result"
    }
   ],
   "source": [
    "def make_incrementor(n):\n",
    "    return lambda x: x + n\n",
    "\n",
    "f = make_incrementor(42)\n",
    "f(0)\n",
    "\n",
    "f(1)"
   ]
  },
  {
   "cell_type": "markdown",
   "id": "055e4239",
   "metadata": {},
   "source": [
    "The above example uses a lambda expression to return a function. Another use is to pass a small function as an argument. For instance, list.sort() takes a sorting key function key which can be a lambda function:"
   ]
  },
  {
   "cell_type": "code",
   "execution_count": 96,
   "id": "9cfb80b1",
   "metadata": {},
   "outputs": [
    {
     "data": {
      "text/plain": [
       "[(4, 'four'), (1, 'one'), (3, 'three'), (2, 'two')]"
      ]
     },
     "execution_count": 96,
     "metadata": {},
     "output_type": "execute_result"
    }
   ],
   "source": [
    "pairs = [(1, 'one'), (2, 'two'), (3, 'three'), (4, 'four')]\n",
    "pairs.sort(key=lambda pair: pair[1])\n",
    "pairs"
   ]
  }
 ],
 "metadata": {
  "kernelspec": {
   "display_name": "Python 3",
   "language": "python",
   "name": "python3"
  },
  "language_info": {
   "codemirror_mode": {
    "name": "ipython",
    "version": 3
   },
   "file_extension": ".py",
   "mimetype": "text/x-python",
   "name": "python",
   "nbconvert_exporter": "python",
   "pygments_lexer": "ipython3",
   "version": "3.13.5"
  }
 },
 "nbformat": 4,
 "nbformat_minor": 5
}
