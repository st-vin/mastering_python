{
 "cells": [
  {
   "cell_type": "markdown",
   "id": "e9b9b202",
   "metadata": {},
   "source": [
    "# 1: Basic Input Formatting\n"
   ]
  },
  {
   "cell_type": "markdown",
   "id": "7858c0b6",
   "metadata": {},
   "source": [
    "## 1. Accept a user’s full name and print it in title case.\n",
    "* Input: 'john doe'\n",
    "* Expected output: 'John Doe'"
   ]
  },
  {
   "cell_type": "code",
   "execution_count": null,
   "id": "a16a0dca",
   "metadata": {},
   "outputs": [],
   "source": [
    "fullname = input(print(\"Enter your name:\"))\n",
    "print(fullname.title())"
   ]
  },
  {
   "cell_type": "markdown",
   "id": "2f889329",
   "metadata": {},
   "source": [
    "## 2. Read a user's date of birth in dd-mm-yyyy format and extract the year.\n",
    "* Input: '14-07-1996'\n",
    "* Output: 'Year of birth: 1996'"
   ]
  },
  {
   "cell_type": "code",
   "execution_count": 4,
   "id": "cd97d0de",
   "metadata": {},
   "outputs": [
    {
     "name": "stdout",
     "output_type": "stream",
     "text": [
      "Enter Date of Birth (dd-mm-yyyy): \n",
      "Year of birth: 2004\n"
     ]
    }
   ],
   "source": [
    "dob = input(print(\"Enter Date of Birth (dd-mm-yyyy): \"))\n",
    "day, month, year = dob.split('-')\n",
    "print(f\"Year of birth: {year}\")"
   ]
  },
  {
   "cell_type": "markdown",
   "id": "dbcd8a59",
   "metadata": {},
   "source": [
    "## 3. Accept three space-separated integers and print their sum.\n",
    "* Input: '10 20 30'\n",
    "* Output: 'Sum = 60'"
   ]
  },
  {
   "cell_type": "code",
   "execution_count": null,
   "id": "8dd36278",
   "metadata": {},
   "outputs": [
    {
     "name": "stdout",
     "output_type": "stream",
     "text": [
      "Sum = 39\n",
      "12\n"
     ]
    }
   ],
   "source": [
    "a, b, c = map(int, input(\"Enter three numbers: \").split())\n",
    "print(f\"Sum = {a+b+c}\")"
   ]
  },
  {
   "cell_type": "markdown",
   "id": "652181a4",
   "metadata": {},
   "source": [
    "## 4. Read a string and print its length, right-aligned to 10 spaces.\n",
    "* Input: 'hello'\n",
    "* Output: '     Length: 5'"
   ]
  },
  {
   "cell_type": "code",
   "execution_count": 18,
   "id": "90607966",
   "metadata": {},
   "outputs": [
    {
     "name": "stdout",
     "output_type": "stream",
     "text": [
      "   Length: 1\n"
     ]
    }
   ],
   "source": [
    "s = input(\"Enter a string: \")\n",
    "print(f\"{'Length:' :>10} {len(s)}\")\n"
   ]
  },
  {
   "cell_type": "markdown",
   "id": "558f9268",
   "metadata": {},
   "source": [
    "# Output Formatting Use Cases"
   ]
  },
  {
   "cell_type": "markdown",
   "id": "86334e78",
   "metadata": {},
   "source": [
    "## 5. Format a float to 2 decimal places when displaying price.\n",
    "* Input: 4.5678\n",
    "* Output: 'Price: $4.57'"
   ]
  },
  {
   "cell_type": "code",
   "execution_count": 21,
   "id": "c876f5c4",
   "metadata": {},
   "outputs": [
    {
     "name": "stdout",
     "output_type": "stream",
     "text": [
      "Price: $12.21\n"
     ]
    }
   ],
   "source": [
    "price = float(input(\"Enter price: \"))\n",
    "print(f\"Price: ${price:.2f}\")"
   ]
  },
  {
   "cell_type": "markdown",
   "id": "aa4fe198",
   "metadata": {},
   "source": [
    "## 6. Create a formatted table for 3 products with price.\n",
    "#### Input: \n",
    "-  'Apple 2.5'\n",
    "-   'Milk 1.3'\n",
    "-   'Bread 1.8'\n",
    "- Output: A neatly aligned price list."
   ]
  },
  {
   "cell_type": "code",
   "execution_count": null,
   "id": "8eadfbcb",
   "metadata": {},
   "outputs": [],
   "source": [
    "print(f\"{'Product':<10} {'Price':>6}\")\n",
    "for _ in range(1):\n",
    "    name, price = input(\"Enter product and price: \").split()\n",
    "    print(f\"{name:<10} ${float(price):>5.2f}\")"
   ]
  },
  {
   "cell_type": "markdown",
   "id": "77f76ff8",
   "metadata": {},
   "source": [
    "## 7. Pad an invoice number to 8 digits with leading zeroes.\n",
    "* Input: 347\n",
    "* Output: 'Invoice ID: 00000347'"
   ]
  },
  {
   "cell_type": "code",
   "execution_count": 36,
   "id": "21612074",
   "metadata": {},
   "outputs": [
    {
     "name": "stdout",
     "output_type": "stream",
     "text": [
      "Invoice ID:                          123\n"
     ]
    }
   ],
   "source": [
    "invoice = input(\"Enter invoice number: \")\n",
    "print(f\"Invoice ID: {int(invoice):28d}\")"
   ]
  },
  {
   "cell_type": "markdown",
   "id": "5ccfcf10",
   "metadata": {},
   "source": [
    "## 8. Format percentages with alignment in a report.\n",
    "#### Input: \n",
    "*   'Math 89.567'\n",
    "*   'Physics 78.6'\n",
    "* Output:\n",
    "``` \n",
    "Math      89.57%\n",
    "Physics   78.60%\n",
    "```"
   ]
  },
  {
   "cell_type": "code",
   "execution_count": 28,
   "id": "ebd15a68",
   "metadata": {},
   "outputs": [
    {
     "name": "stdout",
     "output_type": "stream",
     "text": [
      "Math        90.90%\n",
      "Kiswahili   99.99%\n"
     ]
    }
   ],
   "source": [
    "for _ in range(2):\n",
    "    subject, score = input(\"Enter subject and percentage: \").split()\n",
    "    print(f\"{subject:<10} {float(score):>6.2f}%\")"
   ]
  },
  {
   "cell_type": "markdown",
   "id": "da6a17ee",
   "metadata": {},
   "source": [
    "## Complex Structured Input/Output"
   ]
  },
  {
   "cell_type": "markdown",
   "id": "204171ce",
   "metadata": {},
   "source": [
    "### 9. Read a comma-separated list of key=value pairs and convert to a dictionary.\n",
    "- Input: 'name=John,age=30,city=Nairobi'\n",
    "- Output: {'name': 'John', 'age': '30', 'city': 'Nairobi'}"
   ]
  },
  {
   "cell_type": "code",
   "execution_count": 37,
   "id": "2698fe1f",
   "metadata": {},
   "outputs": [
    {
     "name": "stdout",
     "output_type": "stream",
     "text": [
      "{'name': 'john', ' age': '30'}\n"
     ]
    }
   ],
   "source": [
    "pairs = input(\"Enter key=value pairs: \").split(',')\n",
    "result = {k: v for k, v in (pair.split('=') for pair in pairs)}\n",
    "print(result)"
   ]
  },
  {
   "cell_type": "markdown",
   "id": "8a2c5290",
   "metadata": {},
   "source": [
    "### 10. Print currency values in tabular format with comma as thousand separator.\n",
    "Input:\n",
    "-   'Salary 10500'\n",
    "-   'Bonus 2500'\n",
    "\n",
    "Output:\n",
    "-   Salary   10,500.00\n",
    "-   Bonus     2,500.00"
   ]
  },
  {
   "cell_type": "code",
   "execution_count": 47,
   "id": "c8ab2841",
   "metadata": {},
   "outputs": [
    {
     "name": "stdout",
     "output_type": "stream",
     "text": [
      "salary      10,000.00\n",
      "bonus        2,500.00\n"
     ]
    }
   ],
   "source": [
    "for _ in range(2):\n",
    "    label, amount = input(\"Enter label and amount: \").split()\n",
    "    print(f\"{label:<10} {float(amount):>10,.2f}\")"
   ]
  },
  {
   "cell_type": "markdown",
   "id": "b4701240",
   "metadata": {},
   "source": [
    "### 11. 11. Parse structured log line and extract components.\n",
    "Input: '[2025-07-24 14:33] ERROR: Disk full'\n",
    "\n",
    "Output:\n",
    "-   Timestamp: 2025-07-24 14:33\n",
    "-   Level: ERROR\n",
    "-   Message: Disk full"
   ]
  },
  {
   "cell_type": "code",
   "execution_count": null,
   "id": "325847af",
   "metadata": {},
   "outputs": [
    {
     "name": "stdout",
     "output_type": "stream",
     "text": [
      "Timestamp: [2025-07-24 14:3\n",
      "Level: ERROR\n",
      "Message: Disk full'\n"
     ]
    }
   ],
   "source": [
    "log = input(\"Enter log: \")\n",
    "timestamp = log[1:17]\n",
    "level = log.split('] ')[1].split(':')[0]\n",
    "message = log.split(': ', 1)[1]\n",
    "print(f\"Timestamp: {timestamp}\")\n",
    "print(f\"Level: {level}\")\n",
    "print(f\"Message: {message}\")\n",
    "# Input: '[2025-07-24 14:33] ERROR: Disk full'"
   ]
  },
  {
   "cell_type": "markdown",
   "id": "7dbca6aa",
   "metadata": {},
   "source": [
    "### 12. Align a report of student marks with both name and grade columns aligned.\n",
    "Input:\n",
    "-  'Alice 85.2'\n",
    "-   'Bob 90.67'\n",
    "\n",
    "Output:\n",
    "-   Name      | Grade\n",
    "-   --------- | ------\n",
    "-   Alice     |  85.20\n",
    "-   Bob       |  90.67"
   ]
  },
  {
   "cell_type": "code",
   "execution_count": 51,
   "id": "1c89f1ad",
   "metadata": {},
   "outputs": [
    {
     "name": "stdout",
     "output_type": "stream",
     "text": [
      "Name       |  Grade\n",
      "---------- | ------\n",
      "Alice      |  85.20\n",
      "Bob        |  90.67\n"
     ]
    }
   ],
   "source": [
    "print(f\"{'Name':<10} | {'Grade':>6}\")\n",
    "print(f\"{'-'*10} | {'-'*6}\")\n",
    "for _ in range(2):\n",
    "    name, grade = input(\"Enter name and grade: \").split()\n",
    "    print(f\"{name:<10} | {float(grade):>6.2f}\")"
   ]
  },
  {
   "cell_type": "markdown",
   "id": "f7defaa7",
   "metadata": {},
   "source": [
    "### 13. 13. Budget Tracker Summary\n",
    "Goal: Write a program that:\n",
    "\n",
    "Accepts 5 expense entries in the form: \"category amount\", e.g., \"rent 25000\"\n",
    "\n",
    "Stores them in a dictionary.\n",
    "\n",
    "Prints a summary with right-aligned amounts, formatted with commas and two decimal places.\n",
    "\n",
    "Finally, prints total expense.\n",
    "\n"
   ]
  },
  {
   "cell_type": "code",
   "execution_count": 53,
   "id": "01b79536",
   "metadata": {},
   "outputs": [
    {
     "name": "stdout",
     "output_type": "stream",
     "text": [
      "Category          Amount\n",
      "-------------------------\n",
      "rent           10,000.00\n",
      "groceries      10,000.00\n",
      "utilities       3,100.00\n",
      "transport       5,000.00\n",
      "entertainment   1,000.00\n",
      "-------------------------\n",
      "TOTAL          29,100.00\n"
     ]
    }
   ],
   "source": [
    "expenses = {}\n",
    "for _ in range(5):\n",
    "    category, amount = input(\"Enter category and amount: \").split()\n",
    "    expenses[category] = float(amount)\n",
    "\n",
    "print(f\"{'Category':<13} {'Amount':>10}\")\n",
    "print(\"-\" * 25)\n",
    "for cat, amt in expenses.items():\n",
    "    print(f\"{cat:<13} {amt:>10,.2f}\")\n",
    "print(\"-\" * 25)\n",
    "print(f\"{'TOTAL':<13} {sum(expenses.values()):>10,.2f}\")\n"
   ]
  }
 ],
 "metadata": {
  "kernelspec": {
   "display_name": "Python 3",
   "language": "python",
   "name": "python3"
  },
  "language_info": {
   "codemirror_mode": {
    "name": "ipython",
    "version": 3
   },
   "file_extension": ".py",
   "mimetype": "text/x-python",
   "name": "python",
   "nbconvert_exporter": "python",
   "pygments_lexer": "ipython3",
   "version": "3.13.5"
  }
 },
 "nbformat": 4,
 "nbformat_minor": 5
}
