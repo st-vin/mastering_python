{
 "cells": [
  {
   "cell_type": "markdown",
   "id": "a3cca754",
   "metadata": {},
   "source": [
    "# Errors and Exceptions\n",
    "\n",
    "There are (at least) two distinguishable kinds of errors: syntax errors and exceptions.\n",
    "\n",
    "## Syntax Errors / Parsing Errors\n",
    "\n",
    "```python\n",
    "while True print('Hello world')\n",
    "  File \"<stdin>\", line 1\n",
    "    while True print('Hello world')\n",
    "               ^^^^^\n",
    "SyntaxError: invalid syntax\n",
    "```\n",
    "\n",
    "The parser repeats the offending line and displays little arrows pointing at the place where the error was detected. Note that this is not always the place that needs to be fixed. In the example, the error is detected at the function print(), since a colon (':') is missing just before it.\n",
    "\n",
    "The file name (<stdin> in our example) and line number are printed so you know where to look in case the input came from a file.\n",
    "\n"
   ]
  },
  {
   "cell_type": "markdown",
   "id": "3ccab033",
   "metadata": {},
   "source": [
    "## Exceptions\n",
    "\n",
    "Even if a statement or expression is syntactically correct, it may cause an error when an attempt is made to execute it. Errors detected during execution are called exceptions and are not unconditionally fatal: you will soon learn how to handle them in Python programs. Most exceptions are not handled by programs, however, and result in error messages as shown here:\n",
    "\n",
    "```python\n",
    "10 * (1/0)\n",
    "Traceback (most recent call last):\n",
    "  File \"<stdin>\", line 1, in <module>\n",
    "    10 * (1/0)\n",
    "          ~^~\n",
    "ZeroDivisionError: division by zero\n",
    "4 + spam*3\n",
    "Traceback (most recent call last):\n",
    "  File \"<stdin>\", line 1, in <module>\n",
    "    4 + spam*3\n",
    "        ^^^^\n",
    "NameError: name 'spam' is not defined\n",
    "'2' + 2\n",
    "Traceback (most recent call last):\n",
    "  File \"<stdin>\", line 1, in <module>\n",
    "    '2' + 2\n",
    "    ~~~~^~~\n",
    "TypeError: can only concatenate str (not \"int\") to str\n",
    "```\n",
    "\n",
    "The last line of the error message indicates what happened. Exceptions come in different types, and the type is printed as part of the message: the types in the example are ZeroDivisionError, NameError and TypeError. The string printed as the exception type is the name of the built-in exception that occurred. This is true for all built-in exceptions, but need not be true for user-defined exceptions (although it is a useful convention). Standard exception names are built-in identifiers (not reserved keywords)."
   ]
  },
  {
   "cell_type": "markdown",
   "id": "9129095b",
   "metadata": {},
   "source": [
    "## Handling Exceptions\n",
    "\n",
    "It is possible to write programs that handle selected exceptions.\n",
    "\n",
    "Look at the following example, which asks the user for input until a valid integer has been entered, but allows the user to interrupt the program (using Control-C or whatever the operating system supports); note that a user-generated interruption is signalled by raising the KeyboardInterrupt exception."
   ]
  },
  {
   "cell_type": "code",
   "execution_count": 3,
   "id": "5c6f9d60",
   "metadata": {},
   "outputs": [],
   "source": [
    "while True:\n",
    "    try:\n",
    "        x = int(input(\"Please enter a number: \"))\n",
    "        break\n",
    "    except ValueError:\n",
    "        print(\"Oops!  That was no valid number.  Try again...\")"
   ]
  },
  {
   "cell_type": "markdown",
   "id": "3b33f81b",
   "metadata": {},
   "source": [
    "The try statement works as follows.\n",
    "\n",
    "First, the try clause (the statement(s) between the try and except keywords) is executed.\n",
    "\n",
    "If no exception occurs, the except clause is skipped and execution of the try statement is finished.\n",
    "\n",
    "If an exception occurs during execution of the try clause, the rest of the clause is skipped. Then, if its type matches the exception named after the except keyword, the except clause is executed, and then execution continues after the try/except block.\n",
    "\n",
    "If an exception occurs which does not match the exception named in the except clause, it is passed on to outer try statements; if no handler is found, it is an unhandled exception and execution stops with an error message.\n",
    "\n",
    "A try statement may have more than one except clause, to specify handlers for different exceptions. At most one handler will be executed. Handlers only handle exceptions that occur in the corresponding try clause, not in other handlers of the same try statement. An except clause may name multiple exceptions as a parenthesized tuple, for example:\n",
    "\n",
    "```python\n",
    "... except (RuntimeError, TypeError, NameError):\n",
    "...     pass\n",
    "```"
   ]
  },
  {
   "cell_type": "code",
   "execution_count": 8,
   "id": "ba287cf3",
   "metadata": {},
   "outputs": [
    {
     "name": "stdout",
     "output_type": "stream",
     "text": [
      "Caught a ZeroDivisionError in the first try clause.\n",
      "Caught a ValueError in the second try clause.\n",
      "This line will always be executed.\n"
     ]
    }
   ],
   "source": [
    "def demonstrate_try_except():\n",
    "    \"\"\"\n",
    "    Illustrates the use of multiple except clauses in a try statement.\n",
    "    Shows how handlers are scoped to the try clause and only one is executed.\n",
    "    \"\"\"\n",
    "\n",
    "    # Try clause 1: Handling a specific exception\n",
    "    try:\n",
    "        result = 10 / 0  # This will raise a ZeroDivisionError\n",
    "        print(\"This line will not be executed.\")\n",
    "    except ZeroDivisionError:\n",
    "        print(\"Caught a ZeroDivisionError in the first try clause.\")\n",
    "    \n",
    "    # Try clause 2: Handling a different exception\n",
    "    try:\n",
    "        # This time, we'll try to convert a string to an integer, which will fail\n",
    "        num_str = \"hello\"\n",
    "        num = int(num_str)\n",
    "        print(\"This line will not be executed.\")\n",
    "    except ValueError:\n",
    "        print(\"Caught a ValueError in the second try clause.\")\n",
    "    # Try clause 3:  Handles another type of error\n",
    "    # try:\n",
    "        # This will cause an AttributeError\n",
    "    #     my_dict = {\"a\": 1}\n",
    "    #     print(my_dict.not_found_key()) # type: ignore # Raises KeyError\n",
    "    # except KeyError:\n",
    "    #     print(\"Caught a KeyError in the third try clause\")\n",
    "    \n",
    "    print(\"This line will always be executed.\")\n",
    "\n",
    "\n",
    "if __name__ == \"__main__\":\n",
    "    demonstrate_try_except()"
   ]
  },
  {
   "cell_type": "markdown",
   "id": "224e164b",
   "metadata": {},
   "source": [
    "**Explanation and how it relates to the paragraph:**\n",
    "\n",
    "1. **`try` Clause:** The `try` statement is the core. It contains the code that might raise an exception.  In this example, we have three separate `try` blocks.\n",
    "\n",
    "2. **`except` Clause:** The `except` clause specifies what to do if a certain type of exception occurs within the corresponding `try` clause.\n",
    "\n",
    "3. **Multiple `except` Clauses:** This code demonstrates the ability to have multiple `except` clauses. Each `except` clause handles a different type of exception.\n",
    "\n",
    "4. **One Handler Executed:** The paragraph is crucial here:  *At most one handler will be executed.*  When an exception occurs, only the *first* `except` clause that matches the exception type will be executed.  After that, execution continues *outside* of the `try` statement.\n",
    "\n",
    "5. **Scoped Handlers:**  The handlers are *scoped* to the `try` statement they're associated with.  If an exception occurs in `try` block 1, it won't affect the execution of `try` block 2 or 3.  Similarly, a `ValueError` handled in `try` block 2 won't affect the handling of `ZeroDivisionError` in `try` block 1.\n",
    "\n",
    "\n",
    "**Key takeaways from the example:**\n",
    "\n",
    "*   The `try` statement can contain multiple blocks of code that might raise exceptions.\n",
    "*   You can use multiple `except` clauses to handle different exception types.\n",
    "*   Only *one* `except` clause will be executed for any given exception.\n",
    "*   The scope of each `except` clause is limited to the `try` statement where it's defined.\n"
   ]
  },
  {
   "cell_type": "markdown",
   "id": "bfcbf4d1",
   "metadata": {},
   "source": [
    "A class in an except clause matches exceptions which are instances of the class itself or one of its derived classes (but not the other way around — an except clause listing a derived class does not match instances of its base classes). For example, the following code will print B, C, D in that order:"
   ]
  },
  {
   "cell_type": "code",
   "execution_count": 4,
   "id": "4586a35f",
   "metadata": {},
   "outputs": [
    {
     "name": "stdout",
     "output_type": "stream",
     "text": [
      "B\n",
      "C\n",
      "D\n"
     ]
    }
   ],
   "source": [
    "class B(Exception):\n",
    "    pass\n",
    "\n",
    "class C(B):\n",
    "    pass\n",
    "\n",
    "class D(C):\n",
    "    pass\n",
    "\n",
    "for cls in [B, C, D]:\n",
    "    try:\n",
    "        raise cls()\n",
    "    except D:\n",
    "        print(\"D\")\n",
    "    except C:\n",
    "        print(\"C\")\n",
    "    except B:\n",
    "        print(\"B\")"
   ]
  },
  {
   "cell_type": "markdown",
   "id": "46e6a063",
   "metadata": {},
   "source": [
    "Note that if the except clauses were reversed (with except B first), it would have printed B, B, B — the first matching except clause is triggered.\n",
    "\n",
    "When an exception occurs, it may have associated values, also known as the exception’s arguments. The presence and types of the arguments depend on the exception type.\n",
    "\n",
    "The except clause may specify a variable after the exception name. The variable is bound to the exception instance which typically has an args attribute that stores the arguments. For convenience, builtin exception types define `__str__()` to print all the arguments without explicitly accessing .args.\n",
    "\n",
    "The exception’s `__str__()` output is printed as the last part (‘detail’) of the message for unhandled exceptions."
   ]
  },
  {
   "cell_type": "code",
   "execution_count": 9,
   "id": "52bd3ec9",
   "metadata": {},
   "outputs": [
    {
     "name": "stdout",
     "output_type": "stream",
     "text": [
      "<class 'Exception'>\n",
      "('spam', 'eggs')\n",
      "('spam', 'eggs')\n",
      "x = spam\n",
      "y = eggs\n"
     ]
    }
   ],
   "source": [
    "try:\n",
    "    raise Exception('spam', 'eggs')\n",
    "except Exception as inst:\n",
    "    print(type(inst))    # the exception type\n",
    "    print(inst.args)     # arguments stored in .args\n",
    "    print(inst)          # __str__ allows args to be printed directly,\n",
    "                         # but may be overridden in exception subclasses\n",
    "    x, y = inst.args     # unpack args\n",
    "    print('x =', x)\n",
    "    print('y =', y)"
   ]
  },
  {
   "cell_type": "markdown",
   "id": "0bf3a328",
   "metadata": {},
   "source": [
    "**1. Raising the Exception**\n",
    "\n",
    "   * `raise Exception('spam', 'eggs')`: This line is crucial. It explicitly raises an `Exception` object (which is a base class for all exceptions in Python). It's passing two arguments ('spam' and 'eggs') to the constructor of the `Exception` class. These arguments are bundled together in the exception object, just like we talked about.\n",
    "\n",
    "**2. Accessing the Exception Object (`inst`)**\n",
    "\n",
    "   * `except Exception as inst:`:  This is the core of exception handling. The `as inst` part assigns the exception object that was raised to a variable named `inst`.  `inst` is now a reference to the exception instance that's created when the `raise` statement executes.\n",
    "\n",
    "**3. Printing the Exception Type (`type(inst)`)**\n",
    "\n",
    "   * `print(type(inst))`: This line shows you the *type* of the exception object. In this case, it will print `<class 'Exception'>`.  This confirms that `inst` contains an instance of the `Exception` base class. It demonstrates that the exception is stored within the `inst` variable.\n",
    "\n",
    "**4. Accessing Arguments via `.args`**\n",
    "\n",
    "   * `print(inst.args)`: This accesses the tuple of arguments that were passed to the exception’s constructor.  `inst.args` is a tuple containing ('spam', 'eggs').  This is a direct demonstration of accessing the arguments associated with the exception.\n",
    "\n",
    "**5. Printing the Exception Object Directly (`print(inst)`)**\n",
    "\n",
    "   * `print(inst)`: This is where the magic of the `__str__()` method comes in.  Python automatically calls the `__str__()` method on the exception object when you try to print it directly.  The `__str__()` method is designed to provide a user-friendly representation of the exception, and in this case, it automatically prints the arguments stored in `inst.args`.  The output will be: `('spam', 'eggs')`.\n",
    "\n",
    "   * **Important Note:** This is *not* the same as accessing `inst.args` directly. The `__str__()` method handles the presentation, but `inst.args` is where the arguments are stored internally.\n",
    "\n",
    "**6. Unpacking Arguments (`x, y = inst.args`)**\n",
    "\n",
    "   * `x, y = inst.args`: This line demonstrates *unpacking* the arguments from the `inst.args` tuple.  The tuple `('spam', 'eggs')` is unpacked into the variables `x` and `y`.  After this line executes, `x` will be 'spam' and `y` will be 'eggs'.\n",
    "\n",
    "**In Summary – How it Illustrates the Concepts**\n",
    "\n",
    "* **Exception Arguments:** This code directly shows that exceptions can carry arguments, which are stored in the `.args` attribute of the exception object.\n",
    "* **Accessing Arguments:** It demonstrates how to access these arguments using both the `.args` attribute and the `__str__()` method.\n",
    "* **Unpacking Arguments:**  It showcases how to unpack the arguments from the tuple.\n",
    "* **Error Information:** The whole code snippet exemplifies how exception arguments provide valuable information about the error that occurred.\n",
    "\n",
    "**Output of the Code:**\n",
    "\n",
    "```\n",
    "<class 'Exception'>\n",
    "('spam', 'eggs')\n",
    "x = spam\n",
    "y = eggs\n",
    "```\n"
   ]
  },
  {
   "cell_type": "markdown",
   "id": "882fc47b",
   "metadata": {},
   "source": [
    "**Understanding Exception Arguments**\n",
    "\n",
    "When an error (an exception) happens in your Python code – like trying to divide by zero, trying to access an index that’s out of range for a list, or having a file that doesn’t exist – Python raises an exception.  These exceptions aren't just about saying \"something went wrong\". They often carry *information* about *why* it went wrong. This information is bundled together as \"arguments\" associated with the exception object.\n",
    "\n",
    "* **Purpose:** These arguments help you understand the details of the error, such as the value that caused the problem, the filename, or the specific index that was out of bounds.\n",
    "* **Variety:** The exact arguments depend on the *type* of exception you’re dealing with.  A `ValueError` might have an argument called `args` containing the invalid value, while a `FileNotFoundError` might have `args` containing the name of the missing file.\n",
    "* **`args` Attribute:**  Most exceptions (especially built-in ones) have an attribute called `args`. This `args` attribute is a *tuple* that stores the arguments passed to the exception's constructor.\n",
    "\n",
    "**How to Access Exception Arguments**\n",
    "\n",
    "You can access these arguments in a few ways:\n",
    "\n",
    "1. **Using the `.args` Attribute:**  This is the standard and most direct way.\n",
    "\n",
    "2. **Using `__str__()` (for Built-in Exceptions):**  Built-in exceptions (like `ValueError`, `TypeError`, `IndexError`, `FileNotFoundError`) automatically define a `__str__()` method. This method, when called on the exception object, will typically print all the exception’s arguments in a user-friendly way.  You don’t need to explicitly access `args` in this case.\n",
    "\n",
    "**Python Code Example**\n",
    "\n",
    "```python\n",
    "# Example 1: IndexError\n",
    "try:\n",
    "    my_list = [1, 2, 3]\n",
    "    print(my_list[5])  # Attempt to access index 5 (which is out of range)\n",
    "except IndexError as e:\n",
    "    print(\"IndexError occurred!\")\n",
    "    print(f\"Arguments: {e.args}\")  # Access the arguments via the exception object\n",
    "    print(f\"Argument 0: {e.args[0]}\")  # Access the first argument (the index)\n",
    "\n",
    "\n",
    "# Example 2: ValueError\n",
    "try:\n",
    "    num_str = \"abc\"\n",
    "    num = int(num_str)  # Attempt to convert \"abc\" to an integer\n",
    "    print(num)\n",
    "except ValueError as e:\n",
    "    print(\"ValueError occurred!\")\n",
    "    print(f\"Arguments: {e.args}\")  # Print all arguments\n",
    "    #or\n",
    "    print(f\"Invalid value: {e.args[0]}\") # Access the invalid value\n",
    "\n",
    "\n",
    "# Example 3: FileNotFoundError\n",
    "try:\n",
    "    with open(\"nonexistent_file.txt\", \"r\") as f:\n",
    "        content = f.read()\n",
    "        print(content)\n",
    "except FileNotFoundError as e:\n",
    "    print(\"FileNotFoundError occurred!\")\n",
    "    print(f\"Arguments: {e.args}\") # prints the file path\n",
    "    print(f\"Missing file: {e.args[0]}\")\n",
    "```\n",
    "\n",
    "**Explanation of the Code:**\n",
    "\n",
    "1. **`try...except` Block:** This structure allows you to handle exceptions gracefully. The code in the `try` block is where you might expect an exception to occur. If an exception is raised, the code in the `except` block is executed.\n",
    "\n",
    "2. **`as e`:**  This part of the `except` clause assigns the exception object to a variable named `e`.  This variable lets you work with the specific exception that was raised.\n",
    "\n",
    "3. **`e.args`:** This is the key part.  `e.args` is a tuple that contains all the arguments passed to the exception’s constructor.  You can access these arguments using indexing (e.g., `e.args[0]`).\n",
    "\n",
    "4. **`__str__()` (Implicit):** When you print the exception object (`print(e)`), Python automatically calls the `__str__()` method on the exception object.  The `__str__()` method prints the information about the exception, including its arguments.\n",
    "\n",
    "**Key Takeaways:**\n",
    "\n",
    "* **Error Information:** Exception arguments provide valuable details about the cause of an error.\n",
    "* **Exception Object:** You work with exceptions through the exception object (`e`).\n",
    "* **`args` Attribute:** Use the `e.args` attribute to access the arguments.\n",
    "* **`__str__()` (for Built-ins):**  Leverage the automatic printing provided by the `__str__()` method for convenience, especially when dealing with built-in exceptions.\n"
   ]
  },
  {
   "cell_type": "code",
   "execution_count": 12,
   "id": "d2efcdd2",
   "metadata": {},
   "outputs": [
    {
     "name": "stdout",
     "output_type": "stream",
     "text": [
      "IndexError occurred!\n",
      "Arguments: ('list index out of range',)\n",
      "Argument 0: list index out of range\n"
     ]
    }
   ],
   "source": [
    "# Example 1: IndexError\n",
    "try:\n",
    "    my_list = [1, 2, 3]\n",
    "    print(my_list[5])  # Attempt to access index 5 (which is out of range)\n",
    "except IndexError as e:\n",
    "    print(\"IndexError occurred!\")\n",
    "    print(f\"Arguments: {e.args}\")  # Access the arguments via the exception object\n",
    "    print(f\"Argument 0: {e.args[0]}\")  # Access the first argument (the index)\n"
   ]
  },
  {
   "cell_type": "code",
   "execution_count": 16,
   "id": "90b34b37",
   "metadata": {},
   "outputs": [
    {
     "name": "stdout",
     "output_type": "stream",
     "text": [
      "ValueError occurred!\n",
      "Arguments: (\"invalid literal for int() with base 10: 'abc'\",)\n",
      "Invalid value: invalid literal for int() with base 10: 'abc'\n"
     ]
    }
   ],
   "source": [
    "# Example 2: ValueError\n",
    "try:\n",
    "    num_str = \"abc\"\n",
    "    num = int(num_str)  # Attempt to convert \"abc\" to an integer\n",
    "    print(num)\n",
    "except ValueError as e:\n",
    "    print(\"ValueError occurred!\")\n",
    "    print(f\"Arguments: {e.args}\")  # Print all arguments\n",
    "    # or\n",
    "    print(f\"Invalid value: {e.args[0]}\") # Access the invalid value\n"
   ]
  },
  {
   "cell_type": "code",
   "execution_count": 17,
   "id": "ba942dcd",
   "metadata": {},
   "outputs": [
    {
     "name": "stdout",
     "output_type": "stream",
     "text": [
      "FileNotFoundError occurred!\n",
      "Arguments: (2, 'No such file or directory')\n",
      "Missing file: 2\n"
     ]
    }
   ],
   "source": [
    "# Example 3: FileNotFoundError\n",
    "try:\n",
    "    with open(\"nonexistent_file.txt\", \"r\") as f:\n",
    "        content = f.read()\n",
    "        print(content)\n",
    "except FileNotFoundError as e:\n",
    "    print(\"FileNotFoundError occurred!\")\n",
    "    print(f\"Arguments: {e.args}\") # prints the file path\n",
    "    print(f\"Missing file: {e.args[0]}\")"
   ]
  },
  {
   "cell_type": "markdown",
   "id": "ea69f933",
   "metadata": {},
   "source": [
    "BaseException is the common base class of all exceptions. One of its subclasses, Exception, is the base class of all the non-fatal exceptions. Exceptions which are not subclasses of Exception are not typically handled, because they are used to indicate that the program should terminate. They include SystemExit which is raised by sys.exit() and KeyboardInterrupt which is raised when a user wishes to interrupt the program.\n",
    "\n",
    "Exception can be used as a wildcard that catches (almost) everything. However, it is good practice to be as specific as possible with the types of exceptions that we intend to handle, and to allow any unexpected exceptions to propagate on."
   ]
  },
  {
   "cell_type": "markdown",
   "id": "bc49f558",
   "metadata": {},
   "source": [
    "The most common pattern for handling Exception is to print or log the exception and then re-raise it (allowing a caller to handle the exception as well):"
   ]
  },
  {
   "cell_type": "code",
   "execution_count": 3,
   "id": "c3f7794b",
   "metadata": {},
   "outputs": [
    {
     "name": "stdout",
     "output_type": "stream",
     "text": [
      "OS error: [Errno 2] No such file or directory: 'myfile.txt'\n"
     ]
    }
   ],
   "source": [
    "import sys\n",
    "\n",
    "try:\n",
    "    f = open('myfile.txt')\n",
    "    s = f.readline()\n",
    "    i = int(s.strip())\n",
    "except OSError as err:\n",
    "    print(\"OS error:\", err)\n",
    "except ValueError:\n",
    "    print(\"Could not convert data to an integer.\")\n",
    "except Exception as err:\n",
    "    print(f\"Unexpected {err=}, {type(err)=}\")\n",
    "    raise"
   ]
  },
  {
   "cell_type": "markdown",
   "id": "f0b521e1",
   "metadata": {},
   "source": [
    "The try … except statement has an optional else clause, which, when present, must follow all except clauses. It is useful for code that must be executed if the try clause does not raise an exception. For example:"
   ]
  },
  {
   "cell_type": "code",
   "execution_count": 10,
   "id": "c79d3dab",
   "metadata": {},
   "outputs": [
    {
     "name": "stdout",
     "output_type": "stream",
     "text": [
      "cannot open --f=c:\\Users\\ADMIN\\AppData\\Roaming\\jupyter\\runtime\\kernel-v3580a85a6f3734723f8a459bcb5547907bbbbbf9b.json\n"
     ]
    }
   ],
   "source": [
    "for arg in sys.argv[1:]:\n",
    "    try:\n",
    "        f = open(arg, 'r')\n",
    "    except OSError:\n",
    "        print('cannot open', arg)\n",
    "    else:\n",
    "        print(arg, 'has', len(f.readlines()), 'lines')\n",
    "        f.close()"
   ]
  },
  {
   "cell_type": "markdown",
   "id": "46c9ed42",
   "metadata": {},
   "source": [
    "**Line-by-Line Explanation:**\n",
    "\n",
    "1.  `for arg in sys.argv[1:]:`\n",
    "    *   This line initiates a `for` loop that iterates through the command-line arguments passed to the Python script.\n",
    "    *   `sys.argv` is a list that contains the command-line arguments.\n",
    "    *   `sys.argv[0]` is always the name of the script itself.\n",
    "    *   `sys.argv[1:]` creates a slice of the `sys.argv` list, starting from the second element (index 1) to the end.  This means the loop will process each argument *after* the script name.\n",
    "    *   In each iteration, the current argument is assigned to the variable `arg`.\n",
    "\n",
    "2.  `try:`\n",
    "    *   This starts the `try` block. The code within the `try` block is the code that might potentially raise an exception (an error).  In this case, it attempts to open a file specified by the `arg` variable.\n",
    "\n",
    "3.  `f = open(arg, 'r')`\n",
    "    *   This is the core file operation.  It attempts to open the file specified by the `arg` variable in read mode ('r').\n",
    "    *   If the file exists and is accessible, the `open()` function returns a file object, which is assigned to the variable `f`.\n",
    "    *   **If the file cannot be opened** (e.g., the file doesn't exist, you don't have permission to read it, or the filename is incorrect), the `open()` function raises an `OSError` (Operating System Error).\n",
    "\n",
    "4.  `except OSError:`\n",
    "    *   This is the `except` block. It catches the `OSError` that might be raised by the `open()` function in the `try` block.\n",
    "    *   If an `OSError` occurs, the code inside this `except` block is executed.\n",
    "    *   In this case, it prints a message to the console indicating that the file could not be opened, along with the name of the file (`arg`).\n",
    "\n",
    "5.  `print('cannot open', arg)`\n",
    "    *   This line prints a user-friendly error message to the console, informing the user that the file could not be opened.\n",
    "\n",
    "6.  `else:`\n",
    "    *   This is the crucial part for understanding the concept we're discussing. The `else` clause in a `try...except...else` block is executed *only if* no exception was raised in the `try` block.  In other words, the `else` block is executed only when the `try` block completes successfully (without encountering an error).\n",
    "\n",
    "7.  `print(arg, 'has', len(f.readlines()), 'lines')`\n",
    "    *   This line is executed *only if* the `open()` function succeeded.  It prints the name of the file (`arg`) along with the number of lines in the file.\n",
    "    *   `f.readlines()` reads all the lines from the file into a list of strings.\n",
    "    *   `len(f.readlines())` calculates the number of elements in the list, which is the number of lines in the file.\n",
    "\n",
    "8.  `f.close()`\n",
    "    *   This line closes the file object `f`. It's essential to close files after you're finished with them to release resources and ensure that changes are saved to the file.  It's generally a good practice to always `close()` files you open.\n",
    "\n",
    "**Explanation of the `else` Clause and How it Works:**\n",
    "\n",
    "The `else` clause in `try...except...else` provides a distinct block of code that runs when the `try` block completes without any exceptions. This is a useful pattern when you want to perform some action only if an operation succeeded, and you don't want to execute that code if an error occurred.\n",
    "\n",
    "In this code, the `else` clause allows us to print the number of lines in a file *only* if the file was successfully opened and read. If the file cannot be opened (due to an `OSError`), the `except` block is executed, and the `else` clause is skipped.\n",
    "\n",
    "**In essence:**\n",
    "\n",
    "*   **`try`**:  The code you want to execute, which might raise an exception.\n",
    "*   **`except`**:  The code to handle a specific exception.\n",
    "*   **`else`**: The code to execute if *no* exception was raised in the `try` block.\n",
    "\n"
   ]
  },
  {
   "cell_type": "markdown",
   "id": "5fc32ea4",
   "metadata": {},
   "source": [
    "The use of the else clause is better than adding additional code to the try clause because it avoids accidentally catching an exception that wasn’t raised by the code being protected by the try … except statement."
   ]
  },
  {
   "cell_type": "markdown",
   "id": "13950c55",
   "metadata": {},
   "source": [
    "Exception handlers do not handle only exceptions that occur immediately in the try clause, but also those that occur inside functions that are called (even indirectly) in the try clause. For example:"
   ]
  },
  {
   "cell_type": "code",
   "execution_count": 11,
   "id": "f4345b44",
   "metadata": {},
   "outputs": [
    {
     "name": "stdout",
     "output_type": "stream",
     "text": [
      "Handling run-time error: division by zero\n"
     ]
    }
   ],
   "source": [
    "def this_fails():\n",
    "    x = 1/0\n",
    "\n",
    "try:\n",
    "    this_fails()\n",
    "except ZeroDivisionError as err:\n",
    "    print('Handling run-time error:', err)"
   ]
  },
  {
   "cell_type": "markdown",
   "id": "e0ad6c0f",
   "metadata": {},
   "source": [
    "## Raising Exceptions\n",
    "\n",
    "The raise statement allows the programmer to force a specified exception to occur. For example:"
   ]
  },
  {
   "cell_type": "code",
   "execution_count": null,
   "id": "4fb04130",
   "metadata": {},
   "outputs": [],
   "source": [
    "raise NameError('HiThere')\n",
    "# Traceback (most recent call last):\n",
    "#   File \"<stdin>\", line 1, in <module>\n",
    "#     raise NameError('HiThere')\n",
    "# NameError: HiThere"
   ]
  },
  {
   "cell_type": "markdown",
   "id": "90d115cd",
   "metadata": {},
   "source": [
    "The sole argument to raise indicates the exception to be raised. This must be either an exception instance or an exception class (a class that derives from BaseException, such as Exception or one of its subclasses). If an exception class is passed, it will be implicitly instantiated by calling its constructor with no arguments:"
   ]
  },
  {
   "cell_type": "code",
   "execution_count": null,
   "id": "00ef28a0",
   "metadata": {},
   "outputs": [],
   "source": [
    "raise ValueError  # shorthand for 'raise ValueError()'"
   ]
  },
  {
   "cell_type": "markdown",
   "id": "4cdae565",
   "metadata": {},
   "source": [
    "If you need to determine whether an exception was raised but don’t intend to handle it, a simpler form of the raise statement allows you to re-raise the exception:"
   ]
  },
  {
   "cell_type": "code",
   "execution_count": null,
   "id": "ab53c53f",
   "metadata": {},
   "outputs": [],
   "source": [
    "try:\n",
    "    raise NameError('HiThere')\n",
    "except NameError:\n",
    "    print('An exception flew by!')\n",
    "    raise"
   ]
  },
  {
   "cell_type": "markdown",
   "id": "8d3a7e0f",
   "metadata": {},
   "source": [
    "## Exception Chaining\n",
    "\n",
    "If an unhandled exception occurs inside an except section, it will have the exception being handled attached to it and included in the error message:"
   ]
  },
  {
   "cell_type": "code",
   "execution_count": null,
   "id": "7aa09a05",
   "metadata": {},
   "outputs": [],
   "source": [
    "try:\n",
    "    open(\"database.sqlite\")\n",
    "except OSError:\n",
    "    raise RuntimeError(\"unable to handle error\")\n",
    "\n",
    "# Traceback (most recent call last):\n",
    "#   File \"<stdin>\", line 2, in <module>\n",
    "#     open(\"database.sqlite\")\n",
    "#     ~~~~^^^^^^^^^^^^^^^^^^^\n",
    "# FileNotFoundError: [Errno 2] No such file or directory: 'database.sqlite'\n",
    "\n",
    "# During handling of the above exception, another exception occurred:\n",
    "\n",
    "# Traceback (most recent call last):\n",
    "#   File \"<stdin>\", line 4, in <module>\n",
    "#     raise RuntimeError(\"unable to handle error\")\n",
    "# RuntimeError: unable to handle error"
   ]
  },
  {
   "cell_type": "markdown",
   "id": "5e50ff87",
   "metadata": {},
   "source": [
    "To indicate that an exception is a direct consequence of another, the raise statement allows an optional from clause:"
   ]
  },
  {
   "cell_type": "code",
   "execution_count": null,
   "id": "cd8a9dae",
   "metadata": {},
   "outputs": [],
   "source": [
    "# exc must be exception instance or None.\n",
    "raise RuntimeError from exc"
   ]
  },
  {
   "cell_type": "markdown",
   "id": "7c3ccd65",
   "metadata": {},
   "source": [
    "This can be useful when you are transforming exceptions. For example:\n"
   ]
  },
  {
   "cell_type": "code",
   "execution_count": null,
   "id": "8a81b2c4",
   "metadata": {},
   "outputs": [],
   "source": [
    "def func():\n",
    "    raise ConnectionError\n",
    "\n",
    "try:\n",
    "    func()\n",
    "except ConnectionError as exc:\n",
    "    raise RuntimeError('Failed to open database') from exc\n",
    "\n",
    "# Traceback (most recent call last):\n",
    "#   File \"<stdin>\", line 2, in <module>\n",
    "#     func()\n",
    "#     ~~~~^^\n",
    "#   File \"<stdin>\", line 2, in func\n",
    "# ConnectionError\n",
    "\n",
    "# The above exception was the direct cause of the following exception:\n",
    "\n",
    "# Traceback (most recent call last):\n",
    "#   File \"<stdin>\", line 4, in <module>\n",
    "#     raise RuntimeError('Failed to open database') from exc\n",
    "# RuntimeError: Failed to open database"
   ]
  },
  {
   "cell_type": "markdown",
   "id": "406b13ef",
   "metadata": {},
   "source": [
    "It also allows disabling automatic exception chaining using the from None idiom:"
   ]
  },
  {
   "cell_type": "code",
   "execution_count": null,
   "id": "cab86459",
   "metadata": {},
   "outputs": [],
   "source": [
    "try:\n",
    "    open('database.sqlite')\n",
    "except OSError:\n",
    "    raise RuntimeError from None"
   ]
  },
  {
   "cell_type": "markdown",
   "id": "ec58f026",
   "metadata": {},
   "source": [
    "## User-defined Exceptions\n",
    "\n",
    "Programs may name their own exceptions by creating a new exception class (see Classes for more about Python classes). Exceptions should typically be derived from the Exception class, either directly or indirectly.\n",
    "\n",
    "Exception classes can be defined which do anything any other class can do, but are usually kept simple, often only offering a number of attributes that allow information about the error to be extracted by handlers for the exception.\n",
    "\n",
    "Most exceptions are defined with names that end in “Error”, similar to the naming of the standard exceptions.\n",
    "\n",
    "Many standard modules define their own exceptions to report errors that may occur in functions they define."
   ]
  },
  {
   "cell_type": "markdown",
   "id": "e73f2ef9",
   "metadata": {},
   "source": [
    "## Defining Clean-up Actions\n",
    "\n",
    "The try statement has another optional clause which is intended to define clean-up actions that must be executed under all circumstances. For example:"
   ]
  },
  {
   "cell_type": "code",
   "execution_count": 12,
   "id": "8b567b5b",
   "metadata": {},
   "outputs": [
    {
     "name": "stdout",
     "output_type": "stream",
     "text": [
      "Goodbye, world!\n"
     ]
    },
    {
     "ename": "KeyboardInterrupt",
     "evalue": "",
     "output_type": "error",
     "traceback": [
      "\u001b[31m---------------------------------------------------------------------------\u001b[39m",
      "\u001b[31mKeyboardInterrupt\u001b[39m                         Traceback (most recent call last)",
      "\u001b[36mCell\u001b[39m\u001b[36m \u001b[39m\u001b[32mIn[12]\u001b[39m\u001b[32m, line 2\u001b[39m\n\u001b[32m      1\u001b[39m \u001b[38;5;28;01mtry\u001b[39;00m:\n\u001b[32m----> \u001b[39m\u001b[32m2\u001b[39m     \u001b[38;5;28;01mraise\u001b[39;00m \u001b[38;5;167;01mKeyboardInterrupt\u001b[39;00m\n\u001b[32m      3\u001b[39m \u001b[38;5;28;01mfinally\u001b[39;00m:\n\u001b[32m      4\u001b[39m     \u001b[38;5;28mprint\u001b[39m(\u001b[33m'\u001b[39m\u001b[33mGoodbye, world!\u001b[39m\u001b[33m'\u001b[39m)\n",
      "\u001b[31mKeyboardInterrupt\u001b[39m: "
     ]
    }
   ],
   "source": [
    "try:\n",
    "    raise KeyboardInterrupt\n",
    "finally:\n",
    "    print('Goodbye, world!')"
   ]
  },
  {
   "cell_type": "markdown",
   "id": "4e4cdaaf",
   "metadata": {},
   "source": [
    "A `finally` block is a section of code that *always* runs, no matter what happens inside the `try` block. Think of it as a cleanup routine. It guarantees that certain actions will happen, even if there’s an error (an exception) that needs fixing.\n",
    "\n",
    "**Here’s how it plays out:**\n",
    "\n",
    "1. **Error Happens:** If an error (exception) pops up while the code in the `try` block is running, the program first looks for an `except` block that can handle it.\n",
    "\n",
    "2. **Handling the Error:**  \n",
    "   * **If an `except` block catches the error:** The code in that `except` block runs, and the error is handled. The `finally` block *still* runs afterwards.\n",
    "   * **If no `except` block handles the error:** The error isn't caught. The program then executes the `finally` block *before* letting the error bubble up and potentially crash the program.\n",
    "\n",
    "3. **`else` Blocks:**  If you have an `else` block, it runs *only* if the `try` block executes successfully (i.e., no exceptions). It doesn't run if an exception occurs.\n",
    "\n",
    "4. **Control Flow:**  \n",
    "   * **`break`, `continue`, `return` in `finally`:** If the `finally` block itself contains a `break`, `continue`, or `return` statement, the program *doesn’t* re-raise the original exception. It just exits from the `try` block (or loop) using the value from the `finally` block.\n",
    "   * **`break`, `continue`, `return` in `try`:** If the `try` block has a `break`, `continue` or `return`, *before* it executes, the `finally` block *will* run.\n",
    "\n",
    "5. **`return` Statements:** If a `finally` block has a `return` statement, it’s important to know that the value returned by the `finally` block’s `return` is the value that gets used, not the value returned from the `try` block’s `return` statement.\n",
    "\n",
    "\n",
    "**In short:** `finally` is for cleanup, and it *always* runs, regardless of whether an exception happens or not.  It’s a crucial part of writing robust code!\n"
   ]
  },
  {
   "cell_type": "code",
   "execution_count": 13,
   "id": "e36c0cef",
   "metadata": {},
   "outputs": [
    {
     "data": {
      "text/plain": [
       "False"
      ]
     },
     "execution_count": 13,
     "metadata": {},
     "output_type": "execute_result"
    }
   ],
   "source": [
    "def bool_return():\n",
    "    try:\n",
    "        return True\n",
    "    finally:\n",
    "        return False\n",
    "\n",
    "bool_return()"
   ]
  },
  {
   "cell_type": "code",
   "execution_count": null,
   "id": "43b0a6f4",
   "metadata": {},
   "outputs": [
    {
     "name": "stdout",
     "output_type": "stream",
     "text": [
      "result is 2.0\n",
      "executing finally clause\n",
      "division by zero!\n",
      "executing finally clause\n",
      "type error\n",
      "executing finally clause\n"
     ]
    }
   ],
   "source": [
    "def divide(x, y):\n",
    "    try:\n",
    "        result = x / y\n",
    "    except ZeroDivisionError:\n",
    "        print(\"division by zero!\")\n",
    "    else:\n",
    "        print(\"result is\", result)\n",
    "    finally:\n",
    "        print(\"executing finally clause\")\n",
    "\n",
    "divide(2, 1)\n",
    "\n",
    "\n",
    "divide(2, 0)\n",
    "\n",
    "\n",
    "divide(\"2\", \"1\")"
   ]
  },
  {
   "cell_type": "markdown",
   "id": "37ff0e35",
   "metadata": {},
   "source": [
    "As you can see, the finally clause is executed in any event. The TypeError raised by dividing two strings is not handled by the except clause and therefore re-raised after the finally clause has been executed.\n",
    "\n",
    "In real world applications, the finally clause is useful for releasing external resources (such as files or network connections), regardless of whether the use of the resource was successful."
   ]
  },
  {
   "cell_type": "markdown",
   "id": "92647354",
   "metadata": {},
   "source": [
    "## Predefined Cean-up Actions\n",
    "\n",
    "Some objects define standard clean-up actions to be undertaken when the object is no longer needed, regardless of whether or not the operation using the object succeeded or failed. Look at the following example, which tries to open a file and print its contents to the screen."
   ]
  },
  {
   "cell_type": "code",
   "execution_count": null,
   "id": "fc7a48be",
   "metadata": {},
   "outputs": [],
   "source": [
    "for line in open(\"Exceptions_summary.md\"):\n",
    "    print(line, end=\"\")"
   ]
  },
  {
   "cell_type": "markdown",
   "id": "64fa9306",
   "metadata": {},
   "source": [
    "The problem with this code is that it leaves the file open for an indeterminate amount of time after this part of the code has finished executing. This is not an issue in simple scripts, but can be a problem for larger applications. The with statement allows objects like files to be used in a way that ensures they are always cleaned up promptly and correctly."
   ]
  },
  {
   "cell_type": "code",
   "execution_count": null,
   "id": "1dcc4af8",
   "metadata": {},
   "outputs": [],
   "source": [
    "with open(\"Exceptions_summary.md\") as f:\n",
    "    for line in f:\n",
    "        print(line, end=\"\")"
   ]
  },
  {
   "cell_type": "markdown",
   "id": "eb9c49de",
   "metadata": {},
   "source": [
    "After the statement is executed, the file f is always closed, even if a problem was encountered while processing the lines. Objects which, like files, provide predefined clean-up actions will indicate this in their documentation."
   ]
  },
  {
   "cell_type": "markdown",
   "id": "2848cfe6",
   "metadata": {},
   "source": [
    "## Raising and Handling Multiple Unrelated Exceptions\n",
    "\n",
    "There are situations where it is necessary to report several exceptions that have occurred. This is often the case in concurrency frameworks, when several tasks may have failed in parallel, but there are also other use cases where it is desirable to continue execution and collect multiple errors rather than raise the first exception.\n",
    "\n",
    "The builtin ExceptionGroup wraps a list of exception instances so that they can be raised together. It is an exception itself, so it can be caught like any other exception."
   ]
  },
  {
   "cell_type": "code",
   "execution_count": null,
   "id": "e8f35daf",
   "metadata": {},
   "outputs": [
    {
     "name": "stderr",
     "output_type": "stream",
     "text": [
      "  + Exception Group Traceback (most recent call last):\n",
      "  |   File \"C:\\Users\\ADMIN\\AppData\\Local\\Packages\\PythonSoftwareFoundation.Python.3.13_qbz5n2kfra8p0\\LocalCache\\local-packages\\Python313\\site-packages\\IPython\\core\\interactiveshell.py\", line 3699, in run_code\n",
      "  |     exec(code_obj, self.user_global_ns, self.user_ns)\n",
      "  |     ~~~~^^^^^^^^^^^^^^^^^^^^^^^^^^^^^^^^^^^^^^^^^^^^^\n",
      "  |   File \"C:\\Users\\ADMIN\\AppData\\Local\\Temp\\ipykernel_8724\\770729662.py\", line 5, in <module>\n",
      "  |     f()\n",
      "  |     ~^^\n",
      "  |   File \"C:\\Users\\ADMIN\\AppData\\Local\\Temp\\ipykernel_8724\\770729662.py\", line 3, in f\n",
      "  |     raise ExceptionGroup('there were problems', excs)\n",
      "  | ExceptionGroup: there were problems (2 sub-exceptions)\n",
      "  +-+---------------- 1 ----------------\n",
      "    | OSError: error 1\n",
      "    +---------------- 2 ----------------\n",
      "    | SystemError: error 2\n",
      "    +------------------------------------\n"
     ]
    }
   ],
   "source": [
    "def f():\n",
    "    excs = [OSError('error 1'), SystemError('error 2')]\n",
    "    raise ExceptionGroup('there were problems', excs)\n",
    "\n",
    "f()\n",
    "\n",
    "try:\n",
    "    f()\n",
    "except Exception as e:\n",
    "    print(f'caught {type(e)}: e')"
   ]
  },
  {
   "cell_type": "markdown",
   "id": "94016380",
   "metadata": {},
   "source": [
    "By using except* instead of except, we can selectively handle only the exceptions in the group that match a certain type. In the following example, which shows a nested exception group, each except* clause extracts from the group exceptions of a certain type while letting all other exceptions propagate to other clauses and eventually to be reraised."
   ]
  },
  {
   "cell_type": "code",
   "execution_count": 24,
   "id": "ae8e39a5",
   "metadata": {},
   "outputs": [
    {
     "name": "stdout",
     "output_type": "stream",
     "text": [
      "There were OSErrors\n",
      "There were SystemErrors\n"
     ]
    },
    {
     "name": "stderr",
     "output_type": "stream",
     "text": [
      "  + Exception Group Traceback (most recent call last):\n",
      "  |   File \"C:\\Users\\ADMIN\\AppData\\Local\\Packages\\PythonSoftwareFoundation.Python.3.13_qbz5n2kfra8p0\\LocalCache\\local-packages\\Python313\\site-packages\\IPython\\core\\interactiveshell.py\", line 3699, in run_code\n",
      "  |     exec(code_obj, self.user_global_ns, self.user_ns)\n",
      "  |     ~~~~^^^^^^^^^^^^^^^^^^^^^^^^^^^^^^^^^^^^^^^^^^^^^\n",
      "  |   File \"C:\\Users\\ADMIN\\AppData\\Local\\Temp\\ipykernel_8724\\1308333313.py\", line 18, in <module>\n",
      "  |     f()\n",
      "  |     ~^^\n",
      "  |   File \"C:\\Users\\ADMIN\\AppData\\Local\\Temp\\ipykernel_8724\\1308333313.py\", line 2, in f\n",
      "  |     raise ExceptionGroup(\n",
      "  |     ...<12 lines>...\n",
      "  |     )\n",
      "  | ExceptionGroup: group1 (1 sub-exception)\n",
      "  +-+---------------- 1 ----------------\n",
      "    | ExceptionGroup: group2 (1 sub-exception)\n",
      "    +-+---------------- 1 ----------------\n",
      "      | RecursionError: 4\n",
      "      +------------------------------------\n"
     ]
    }
   ],
   "source": [
    "def f():\n",
    "    raise ExceptionGroup(\n",
    "        \"group1\",\n",
    "        [\n",
    "            OSError(1),\n",
    "            SystemError(2),\n",
    "            ExceptionGroup(\n",
    "                \"group2\",\n",
    "                [\n",
    "                    OSError(3),\n",
    "                    RecursionError(4)\n",
    "                ]\n",
    "            )\n",
    "        ]\n",
    "    )\n",
    "\n",
    "try:\n",
    "    f()\n",
    "except* OSError as e:\n",
    "    print(\"There were OSErrors\")\n",
    "except* SystemError as e:\n",
    "    print(\"There were SystemErrors\")"
   ]
  },
  {
   "cell_type": "markdown",
   "id": "5b62b9b6",
   "metadata": {},
   "source": [
    "Note that the exceptions nested in an exception group must be instances, not types. This is because in practice the exceptions would typically be ones that have already been raised and caught by the program, along the following pattern:"
   ]
  },
  {
   "cell_type": "code",
   "execution_count": null,
   "id": "a006a6a0",
   "metadata": {},
   "outputs": [],
   "source": [
    "excs = []\n",
    "for test in tests:\n",
    "    try:\n",
    "        test.run()\n",
    "    except Exception as e:\n",
    "        excs.append(e)\n",
    "\n",
    "if excs:\n",
    "   raise ExceptionGroup(\"Test Failures\", excs)"
   ]
  },
  {
   "cell_type": "markdown",
   "id": "eb1bdb1d",
   "metadata": {},
   "source": [
    "## Enriching Exceptions with Notes\n",
    "\n",
    "When an exception is created in order to be raised, it is usually initialized with information that describes the error that has occurred. There are cases where it is useful to add information after the exception was caught. For this purpose, exceptions have a method add_note(note) that accepts a string and adds it to the exception’s notes list. The standard traceback rendering includes all notes, in the order they were added, after the exception."
   ]
  },
  {
   "cell_type": "code",
   "execution_count": 26,
   "id": "79d12948",
   "metadata": {},
   "outputs": [
    {
     "ename": "TypeError",
     "evalue": "bad type",
     "output_type": "error",
     "traceback": [
      "\u001b[31m---------------------------------------------------------------------------\u001b[39m",
      "\u001b[31mTypeError\u001b[39m                                 Traceback (most recent call last)",
      "\u001b[36mCell\u001b[39m\u001b[36m \u001b[39m\u001b[32mIn[26]\u001b[39m\u001b[32m, line 2\u001b[39m\n\u001b[32m      1\u001b[39m \u001b[38;5;28;01mtry\u001b[39;00m:\n\u001b[32m----> \u001b[39m\u001b[32m2\u001b[39m     \u001b[38;5;28;01mraise\u001b[39;00m \u001b[38;5;167;01mTypeError\u001b[39;00m(\u001b[33m'\u001b[39m\u001b[33mbad type\u001b[39m\u001b[33m'\u001b[39m)\n\u001b[32m      3\u001b[39m \u001b[38;5;28;01mexcept\u001b[39;00m \u001b[38;5;167;01mException\u001b[39;00m \u001b[38;5;28;01mas\u001b[39;00m e:\n\u001b[32m      4\u001b[39m     e.add_note(\u001b[33m'\u001b[39m\u001b[33mAdd some information\u001b[39m\u001b[33m'\u001b[39m)\n",
      "\u001b[31mTypeError\u001b[39m: bad type",
      "Add some information",
      "Add some more information"
     ]
    }
   ],
   "source": [
    "try:\n",
    "    raise TypeError('bad type')\n",
    "except Exception as e:\n",
    "    e.add_note('Add some information')\n",
    "    e.add_note('Add some more information')\n",
    "    raise"
   ]
  },
  {
   "cell_type": "markdown",
   "id": "4cb4c5a7",
   "metadata": {},
   "source": [
    "For example, when collecting exceptions into an exception group, we may want to add context information for the individual errors. In the following each exception in the group has a note indicating when this error has occurred."
   ]
  },
  {
   "cell_type": "code",
   "execution_count": 27,
   "id": "0942c626",
   "metadata": {},
   "outputs": [
    {
     "name": "stderr",
     "output_type": "stream",
     "text": [
      "  + Exception Group Traceback (most recent call last):\n",
      "  |   File \"C:\\Users\\ADMIN\\AppData\\Local\\Packages\\PythonSoftwareFoundation.Python.3.13_qbz5n2kfra8p0\\LocalCache\\local-packages\\Python313\\site-packages\\IPython\\core\\interactiveshell.py\", line 3699, in run_code\n",
      "  |     exec(code_obj, self.user_global_ns, self.user_ns)\n",
      "  |     ~~~~^^^^^^^^^^^^^^^^^^^^^^^^^^^^^^^^^^^^^^^^^^^^^\n",
      "  |   File \"C:\\Users\\ADMIN\\AppData\\Local\\Temp\\ipykernel_8724\\1429863547.py\", line 12, in <module>\n",
      "  |     raise ExceptionGroup('We have some problems', excs)\n",
      "  | ExceptionGroup: We have some problems (3 sub-exceptions)\n",
      "  +-+---------------- 1 ----------------\n",
      "    | Traceback (most recent call last):\n",
      "    |   File \"C:\\Users\\ADMIN\\AppData\\Local\\Temp\\ipykernel_8724\\1429863547.py\", line 7, in <module>\n",
      "    |     f()\n",
      "    |     ~^^\n",
      "    |   File \"C:\\Users\\ADMIN\\AppData\\Local\\Temp\\ipykernel_8724\\1429863547.py\", line 2, in f\n",
      "    |     raise OSError('operation failed')\n",
      "    | OSError: operation failed\n",
      "    | Happened in Iteration 1\n",
      "    +---------------- 2 ----------------\n",
      "    | Traceback (most recent call last):\n",
      "    |   File \"C:\\Users\\ADMIN\\AppData\\Local\\Temp\\ipykernel_8724\\1429863547.py\", line 7, in <module>\n",
      "    |     f()\n",
      "    |     ~^^\n",
      "    |   File \"C:\\Users\\ADMIN\\AppData\\Local\\Temp\\ipykernel_8724\\1429863547.py\", line 2, in f\n",
      "    |     raise OSError('operation failed')\n",
      "    | OSError: operation failed\n",
      "    | Happened in Iteration 2\n",
      "    +---------------- 3 ----------------\n",
      "    | Traceback (most recent call last):\n",
      "    |   File \"C:\\Users\\ADMIN\\AppData\\Local\\Temp\\ipykernel_8724\\1429863547.py\", line 7, in <module>\n",
      "    |     f()\n",
      "    |     ~^^\n",
      "    |   File \"C:\\Users\\ADMIN\\AppData\\Local\\Temp\\ipykernel_8724\\1429863547.py\", line 2, in f\n",
      "    |     raise OSError('operation failed')\n",
      "    | OSError: operation failed\n",
      "    | Happened in Iteration 3\n",
      "    +------------------------------------\n"
     ]
    }
   ],
   "source": [
    "def f():\n",
    "    raise OSError('operation failed')\n",
    "\n",
    "excs = []\n",
    "for i in range(3):\n",
    "    try:\n",
    "        f()\n",
    "    except Exception as e:\n",
    "        e.add_note(f'Happened in Iteration {i+1}')\n",
    "        excs.append(e)\n",
    "\n",
    "raise ExceptionGroup('We have some problems', excs)"
   ]
  }
 ],
 "metadata": {
  "kernelspec": {
   "display_name": "Python 3",
   "language": "python",
   "name": "python3"
  },
  "language_info": {
   "codemirror_mode": {
    "name": "ipython",
    "version": 3
   },
   "file_extension": ".py",
   "mimetype": "text/x-python",
   "name": "python",
   "nbconvert_exporter": "python",
   "pygments_lexer": "ipython3",
   "version": "3.13.5"
  }
 },
 "nbformat": 4,
 "nbformat_minor": 5
}
