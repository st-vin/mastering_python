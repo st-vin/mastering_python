{
 "cells": [
  {
   "cell_type": "markdown",
   "id": "008cb9ee",
   "metadata": {},
   "source": [
    "# Errors & Exceptions Exercises"
   ]
  },
  {
   "cell_type": "markdown",
   "id": "9fb3e5e2",
   "metadata": {},
   "source": [
    "## Level 1: Basic Awareness of Errors"
   ]
  },
  {
   "cell_type": "markdown",
   "id": "3190a96a",
   "metadata": {},
   "source": [
    "### 1: Convert User Input to Integer\n",
    "Write a function that takes user input and converts it to an integer. Handle invalid input gracefully."
   ]
  },
  {
   "cell_type": "code",
   "execution_count": 42,
   "id": "a274bde8",
   "metadata": {},
   "outputs": [
    {
     "data": {
      "text/plain": [
       "1234"
      ]
     },
     "execution_count": 42,
     "metadata": {},
     "output_type": "execute_result"
    }
   ],
   "source": [
    "def convert_to_integer(user_input):\n",
    "    try:\n",
    "        return int(user_input)\n",
    "    except ValueError:\n",
    "        return \"Invalid input. Please enter a valid integer\"\n",
    "\n",
    "id_number = input(\"Enter your ID card number: \")\n",
    "convert_to_integer(id_number)"
   ]
  },
  {
   "cell_type": "code",
   "execution_count": null,
   "id": "ead741ea",
   "metadata": {},
   "outputs": [],
   "source": [
    "def get_integer_from_user():\n",
    "    \"\"\"Gets an integer from the user, handling potential errors.\"\"\"\n",
    "    while True:\n",
    "        try:\n",
    "            user_input = input(\"Enter an integer: \")\n",
    "            return int(user_input)\n",
    "        except ValueError:\n",
    "            print(\"Invalid input. Please enter a valid integer.\")\n",
    "        except KeyboardInterrupt: #Handle Ctrl+C\n",
    "            print(\"\\nInput interrupted.\")\n",
    "            return None  # Or raise the exception, depending on desired behavior\n",
    "\n",
    "# Example Usage:\n",
    "number = get_integer_from_user()\n",
    "if number is not None:\n",
    "    print(\"You entered:\", number)"
   ]
  },
  {
   "cell_type": "markdown",
   "id": "41410b63",
   "metadata": {},
   "source": [
    "###  2: File Not Found\n",
    "Open a file named data.txt and read its contents. Handle the case where the file does not exist."
   ]
  },
  {
   "cell_type": "code",
   "execution_count": 17,
   "id": "ed94bfff",
   "metadata": {},
   "outputs": [
    {
     "data": {
      "text/plain": [
       "'File not found.'"
      ]
     },
     "execution_count": 17,
     "metadata": {},
     "output_type": "execute_result"
    }
   ],
   "source": [
    "def read_file():\n",
    "    try:\n",
    "        with open(\"data.txt\", \"r\") as f:\n",
    "            return f.read()\n",
    "    except FileNotFoundError:\n",
    "        return \"File not found.\"\n",
    "read_file()"
   ]
  },
  {
   "cell_type": "markdown",
   "id": "0aa54909",
   "metadata": {},
   "source": [
    "## Level 2: Multiple Exception Types"
   ]
  },
  {
   "cell_type": "markdown",
   "id": "2b8aad2f",
   "metadata": {},
   "source": [
    "### 3: Safe Division\n",
    "Write a function that divides two numbers. Handle both division by zero and invalid input types."
   ]
  },
  {
   "cell_type": "code",
   "execution_count": 43,
   "id": "87bb5d94",
   "metadata": {},
   "outputs": [
    {
     "data": {
      "text/plain": [
       "\"Can't divide by zero.\""
      ]
     },
     "execution_count": 43,
     "metadata": {},
     "output_type": "execute_result"
    }
   ],
   "source": [
    "def safe_divide(a, b):\n",
    "    try:\n",
    "        return (f\"{a / b :.2f}\")\n",
    "    except ZeroDivisionError:\n",
    "        return \"Can't divide by zero.\"\n",
    "    except TypeError:\n",
    "        return \"Both inputs must be numbers.\"\n",
    "    \n",
    "safe_divide(10,0)"
   ]
  },
  {
   "cell_type": "code",
   "execution_count": 68,
   "id": "49aca3f1",
   "metadata": {},
   "outputs": [
    {
     "name": "stdout",
     "output_type": "stream",
     "text": [
      "6.0\n"
     ]
    }
   ],
   "source": [
    "def safer_divide():\n",
    "    while True:\n",
    "        try:\n",
    "            num1_str = input(\"Enter the first number: \")\n",
    "            num2_str = input(\"Enter the second number: \")\n",
    "            num1 = int(num1_str.strip())\n",
    "            num2 = int(num2_str.strip())\n",
    "\n",
    "            if num2 == 0:\n",
    "                print(\"Error: Division by zero is not allowed.\")\n",
    "                continue # restart the loop\n",
    "\n",
    "            return num1 / num2\n",
    "\n",
    "        except ValueError:\n",
    "            print(\"Invalid input. Please enter integers only.\")\n",
    "        except ZeroDivisionError:\n",
    "            print(\"Error: Division by zero is not allowed.\")\n",
    "            \n",
    "# Example Usage\n",
    "result = safer_divide()\n",
    "if result is not None:\n",
    "    print(result)"
   ]
  },
  {
   "cell_type": "markdown",
   "id": "877b9829",
   "metadata": {},
   "source": [
    "### 4: Dictionary Key Access\n",
    "Write a function that retrieves a value from a dictionary by key. If the key is missing, return a default message."
   ]
  },
  {
   "cell_type": "code",
   "execution_count": 110,
   "id": "799f6676",
   "metadata": {},
   "outputs": [
    {
     "data": {
      "text/plain": [
       "'Batman'"
      ]
     },
     "execution_count": 110,
     "metadata": {},
     "output_type": "execute_result"
    }
   ],
   "source": [
    "cities_heroes = {'Gotham': 'Batman', 'Arkham': 'joker', 'Metropolis': 'Superman'}\n",
    "\n",
    "def get_config(config, key):\n",
    "    try:\n",
    "        return config[key]\n",
    "    except KeyError:\n",
    "        return \"Key not found!\"\n",
    "    \n",
    "get_config(cities_heroes, 'Gotham')"
   ]
  },
  {
   "cell_type": "markdown",
   "id": "47f4e3f8",
   "metadata": {},
   "source": [
    "## Level 3: Raising and Chaining Exceptions"
   ]
  },
  {
   "cell_type": "markdown",
   "id": "d9136799",
   "metadata": {},
   "source": [
    "### 5:  Raise Custom Error\n",
    "Create a function that raises a ValueError if the input list is empty."
   ]
  },
  {
   "cell_type": "code",
   "execution_count": null,
   "id": "f4552b38",
   "metadata": {},
   "outputs": [],
   "source": [
    "def compute_average(numbers):\n",
    "    if not numbers:\n",
    "        raise ValueError(\"Input list must not be empty.\")\n",
    "    return sum(numbers) / len(numbers)\n",
    "\n",
    "\n",
    "nolist = []\n",
    "compute_average(nolist)\n"
   ]
  },
  {
   "cell_type": "code",
   "execution_count": null,
   "id": "458c4c76",
   "metadata": {},
   "outputs": [],
   "source": [
    "def process_list(data):\n",
    "    \"\"\"\n",
    "    Processes a list of data. Raises a ValueError if the list is empty.\n",
    "\n",
    "    Args:\n",
    "        data: A list of any data type.\n",
    "\n",
    "    Returns:\n",
    "        The processed data (in this case, just returns the list itself).\n",
    "\n",
    "    Raises:\n",
    "        ValueError: If the input list is empty.\n",
    "    \"\"\"\n",
    "    if not data:  # Check if the list is empty (equivalent to len(data) == 0)\n",
    "        raise ValueError(\"Input list cannot be empty\")\n",
    "    return data\n",
    "\n",
    "# Example Usage:\n",
    "try:\n",
    "    my_list = []\n",
    "    result = process_list(my_list)\n",
    "    print(result)  # This line won't be executed\n",
    "except ValueError as e:\n",
    "    print(f\"Error: {e}\")  # Output: Error: Input list cannot be empty\n",
    "\n",
    "my_list2 = [1,2,3]\n",
    "result2 = process_list(my_list2)\n",
    "print(result2) # Output: [1, 2, 3]"
   ]
  },
  {
   "cell_type": "markdown",
   "id": "791ca723",
   "metadata": {},
   "source": [
    "### 6: Wrap and Re-Raise\n",
    "Wrap a file operation in a try block, and re-raise the error with an enhanced message using exception chaining."
   ]
  },
  {
   "cell_type": "code",
   "execution_count": null,
   "id": "47ea159d",
   "metadata": {},
   "outputs": [],
   "source": [
    "def load_data(path):\n",
    "    try:\n",
    "        with open(path) as f:\n",
    "            return f.read()\n",
    "    except FileNotFoundError as e:\n",
    "        raise FileNotFoundError(f\"Cannot load file: {path}\") from e\n",
    "\n",
    "load_data(\"C/6. Errors and Exceptions/Exceptions_summary.txt\")"
   ]
  },
  {
   "cell_type": "markdown",
   "id": "471ea0eb",
   "metadata": {},
   "source": [
    "## Level 4: Control Flow with else and finally"
   ]
  },
  {
   "cell_type": "markdown",
   "id": "9f7c6d48",
   "metadata": {},
   "source": [
    "### 7: Logging Success and Failure\n",
    "Open a file and log whether the operation was successful using else and finally."
   ]
  },
  {
   "cell_type": "code",
   "execution_count": 140,
   "id": "da2a06c2",
   "metadata": {},
   "outputs": [
    {
     "name": "stdout",
     "output_type": "stream",
     "text": [
      "Log file missing.\n",
      "Checked for log file.\n"
     ]
    }
   ],
   "source": [
    "def check_log_file():\n",
    "    try:\n",
    "        f = open(\"log.txt\", \"r\")\n",
    "    except FileNotFoundError:\n",
    "        print(\"Log file missing.\")\n",
    "    else:\n",
    "        print(\"Log file opened successfully.\")\n",
    "        f.close()\n",
    "    finally:\n",
    "        print(\"Checked for log file.\")\n",
    "check_log_file()"
   ]
  },
  {
   "cell_type": "markdown",
   "id": "e1b9ea98",
   "metadata": {},
   "source": [
    "###  8: Cleanup on Failure\n",
    "Write a function that performs an operation that might fail, and cleans up a temp file if it does."
   ]
  },
  {
   "cell_type": "code",
   "execution_count": 142,
   "id": "bb8f9133",
   "metadata": {},
   "outputs": [
    {
     "name": "stdout",
     "output_type": "stream",
     "text": [
      "Error occurred and temp file was deleted.\n"
     ]
    }
   ],
   "source": [
    "def temp_op():\n",
    "    try:\n",
    "        with open(\"temp.txt\", \"w\") as f:\n",
    "            f.write(\"Temp data\")\n",
    "        raise RuntimeError(\"Something went wrong\")\n",
    "    except RuntimeError as e:\n",
    "        import os\n",
    "        if os.path.exists(\"temp.txt\"):\n",
    "            os.remove(\"temp.txt\")\n",
    "        print(\"Error occurred and temp file was deleted.\")\n",
    "\n",
    "temp_op()"
   ]
  },
  {
   "cell_type": "markdown",
   "id": "808d3368",
   "metadata": {},
   "source": [
    "## Level 5: Validations and User-Defined Exceptions"
   ]
  },
  {
   "cell_type": "markdown",
   "id": "1d8086a9",
   "metadata": {},
   "source": [
    "### 9: Email Format Validator\n",
    "Raise a custom InvalidEmailError if the input string doesn’t contain '@' or '.'."
   ]
  },
  {
   "cell_type": "code",
   "execution_count": 147,
   "id": "792f1e4a",
   "metadata": {},
   "outputs": [
    {
     "data": {
      "text/plain": [
       "True"
      ]
     },
     "execution_count": 147,
     "metadata": {},
     "output_type": "execute_result"
    }
   ],
   "source": [
    "class InvalidEmailError(Exception):\n",
    "    pass\n",
    "\n",
    "def validate_email(email):\n",
    "    if '@' not in email or '.' not in email:\n",
    "        raise InvalidEmailError(\"Email format is invalid.\")\n",
    "    return True\n",
    "\n",
    "validate_email('mark@gmail.com')"
   ]
  },
  {
   "cell_type": "markdown",
   "id": "40c3b7ca",
   "metadata": {},
   "source": [
    "###  10: Transaction Check\n",
    "Simulate a banking transaction. Raise an error if balance is insufficient."
   ]
  },
  {
   "cell_type": "code",
   "execution_count": 154,
   "id": "326d6a19",
   "metadata": {},
   "outputs": [
    {
     "data": {
      "text/plain": [
       "92000"
      ]
     },
     "execution_count": 154,
     "metadata": {},
     "output_type": "execute_result"
    }
   ],
   "source": [
    "class InsufficientFunds(Exception):\n",
    "    pass\n",
    "\n",
    "def withdraw(balance, amount):\n",
    "    if amount > balance:\n",
    "        raise InsufficientFunds(\"Insufficient funds for withdrawal.\")\n",
    "    return balance - amount\n",
    "withdraw(100000, 8000)"
   ]
  },
  {
   "cell_type": "markdown",
   "id": "069269ad",
   "metadata": {},
   "source": [
    "## Level 6: Defensive Programming with Robust Error Handling"
   ]
  },
  {
   "cell_type": "markdown",
   "id": "e1127f11",
   "metadata": {},
   "source": [
    "### 11: Parse JSON Safely\n",
    "Load a JSON file and handle decoding errors. Return an empty dictionary if parsing fails."
   ]
  },
  {
   "cell_type": "code",
   "execution_count": 163,
   "id": "1ad56f21",
   "metadata": {},
   "outputs": [
    {
     "data": {
      "text/plain": [
       "{}"
      ]
     },
     "execution_count": 163,
     "metadata": {},
     "output_type": "execute_result"
    }
   ],
   "source": [
    "import json\n",
    "\n",
    "def load_config(path):\n",
    "    try:\n",
    "        with open(path, \"r\") as f:\n",
    "            return json.load(f)\n",
    "    except (FileNotFoundError, json.JSONDecodeError):\n",
    "        return {}\n",
    "load_config('Programming/Python/.vscode/settings.json')"
   ]
  },
  {
   "cell_type": "markdown",
   "id": "d3fd9d0e",
   "metadata": {},
   "source": [
    "### 12: Batch Operation with Per-Item Safety\n",
    "Process a list of filenames and return a list of (filename, result) where result is either contents or error string."
   ]
  },
  {
   "cell_type": "code",
   "execution_count": 164,
   "id": "74817bde",
   "metadata": {},
   "outputs": [
    {
     "data": {
      "text/plain": [
       "[('Exceptions_summary.md', '# Python Error Handling\\n'),\n",
       " ('errors_exception_exercices.ipynb', '{\\n'),\n",
       " ('robot.txt', \"[Errno 2] No such file or directory: 'robot.txt'\")]"
      ]
     },
     "execution_count": 164,
     "metadata": {},
     "output_type": "execute_result"
    }
   ],
   "source": [
    "def batch_read(file_list):\n",
    "    results = []\n",
    "    for name in file_list:\n",
    "        try:\n",
    "            with open(name) as f:\n",
    "                content = f.readline()\n",
    "                results.append((name, content))\n",
    "        except Exception as e:\n",
    "            results.append((name, str(e)))\n",
    "    return results\n",
    "flist = ['Exceptions_summary.md', 'errors_exception_exercices.ipynb', 'robot.txt']\n",
    "batch_read(flist)"
   ]
  },
  {
   "cell_type": "markdown",
   "id": "92693f74",
   "metadata": {},
   "source": [
    "### 13. Robust Input Parser with Fallback\n",
    "Problem:\n",
    "You receive user input for an age field. Write a function parse_age(value) that:\n",
    "\n",
    "Converts the input to an integer.\n",
    "\n",
    "If the conversion fails, fallback to asking the user again using input() (assume CLI use).\n",
    "\n",
    "Repeat up to 3 times before raising a ValueError(\"Failed to get valid age input\")."
   ]
  },
  {
   "cell_type": "code",
   "execution_count": null,
   "id": "01d03bc6",
   "metadata": {},
   "outputs": [
    {
     "name": "stdout",
     "output_type": "stream",
     "text": [
      "Failed to get valid age input\n"
     ]
    }
   ],
   "source": [
    "def parse_age():\n",
    "    attempts = 0\n",
    "    while attempts < 3:\n",
    "        try:\n",
    "            value = input(\"Enter your age\")\n",
    "            return int(value)\n",
    "        except ValueError:\n",
    "            attempts += 1\n",
    "            if attempts == 3:\n",
    "                raise ValueError(\"Failed to get valid age input\")\n",
    "            value = input(\"Invalid input. Enter age again: \")\n",
    "\n",
    "parse_age()"
   ]
  },
  {
   "cell_type": "markdown",
   "id": "313dedc5",
   "metadata": {},
   "source": [
    "### 14. Centralized Error Logger Decorator\n",
    "Problem:\n",
    "\n",
    "You want to decorate functions so that any raised exception is caught and logged to a file named errors.log, but not re-raised. Create a decorator @log_errors."
   ]
  },
  {
   "cell_type": "code",
   "execution_count": 187,
   "id": "d557e715",
   "metadata": {},
   "outputs": [],
   "source": [
    "def log_errors(func):\n",
    "    def wrapper(*args, **kwargs):\n",
    "        try:\n",
    "            return func(*args, **kwargs)\n",
    "        except Exception as e:\n",
    "            with open(\"errors.log\", \"a\") as log:\n",
    "                log.write(f\"{func.__name__} failed: {e}\\n\")\n",
    "    return wrapper\n",
    "\n",
    "@log_errors\n",
    "def risky_operation(x):\n",
    "    return 10 / x\n",
    "\n",
    "risky_operation(0)"
   ]
  },
  {
   "cell_type": "markdown",
   "id": "02a29643",
   "metadata": {},
   "source": [
    "### 15. Validate User Input, Process, and Write Output\n",
    "Write a function that:\n",
    "\n",
    "- Accepts a list of numbers as strings (some might be invalid),\n",
    "\n",
    "- Converts them to integers (skipping invalid ones with a logged message),\n",
    "\n",
    "- Calculates their average using a separate function (raise if list is empty),\n",
    "\n",
    "- Writes the average to a file.\n",
    "\n",
    "Use exceptions to manage:\n",
    "\n",
    "- conversion failures\n",
    "\n",
    "- empty list\n",
    "\n",
    "- file I/O issues"
   ]
  },
  {
   "cell_type": "code",
   "execution_count": 170,
   "id": "660a3e8e",
   "metadata": {},
   "outputs": [],
   "source": [
    "class EmptyListError(Exception):\n",
    "    pass\n",
    "\n",
    "def safe_int(value):\n",
    "    try:\n",
    "        return int(value)\n",
    "    except ValueError:\n",
    "        print(f\"Invalid input skipped: {value}\")\n",
    "        return None\n",
    "\n",
    "def average(nums):\n",
    "    if not nums:\n",
    "        raise EmptyListError(\"No valid numbers to average.\")\n",
    "    return sum(nums) / len(nums)\n",
    "\n",
    "def process_and_save(data, filename):\n",
    "    valid = [safe_int(x) for x in data]\n",
    "    valid = [x for x in valid if x is not None]\n",
    "    \n",
    "    try:\n",
    "        avg = average(valid)\n",
    "        with open(filename, 'w') as f:\n",
    "            f.write(f\"Average:{avg}\")\n",
    "    except EmptyListError as e:\n",
    "        print(e)\n",
    "    except IOError as e:\n",
    "        print(f\"Failed to write to file: {e}\")\n",
    "        \n",
    "scores = [90, 100, 90, 100]\n",
    "process_and_save(scores, 'scores.txt')"
   ]
  }
 ],
 "metadata": {
  "kernelspec": {
   "display_name": "Python 3",
   "language": "python",
   "name": "python3"
  },
  "language_info": {
   "codemirror_mode": {
    "name": "ipython",
    "version": 3
   },
   "file_extension": ".py",
   "mimetype": "text/x-python",
   "name": "python",
   "nbconvert_exporter": "python",
   "pygments_lexer": "ipython3",
   "version": "3.13.5"
  }
 },
 "nbformat": 4,
 "nbformat_minor": 5
}
