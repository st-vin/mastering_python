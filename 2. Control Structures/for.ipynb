{
 "cells": [
  {
   "cell_type": "markdown",
   "id": "ab255f30",
   "metadata": {},
   "source": [
    "The for statement in Python differs a bit from what you may be used to in C or Pascal. Rather than always iterating over an arithmetic progression of numbers (like in Pascal), or giving the user the ability to define both the iteration step and halting condition (as C), Python’s for statement iterates over the items of any sequence (a list or a string), in the order that they appear in the sequence."
   ]
  },
  {
   "cell_type": "code",
   "execution_count": 4,
   "id": "d19c9d9b",
   "metadata": {},
   "outputs": [
    {
     "name": "stdout",
     "output_type": "stream",
     "text": [
      "cat 3\n",
      "window 6\n",
      "double 6\n",
      "74.66666666666667\n",
      "90 15.333333333333329\n",
      "76 1.3333333333333286\n",
      "55 -19.66666666666667\n"
     ]
    }
   ],
   "source": [
    "#Measure some strings\n",
    "words = [\"cat\", \"window\", \"double\"]\n",
    "for num in words:\n",
    "    print (num, len(num))\n",
    "    \n",
    "#calculate standard deviation from the mean on data from some test scores out of 100\n",
    "data = [90, 76, 55]\n",
    "mean = sum(data) / len(data)+1\n",
    "print (mean)\n",
    "\n",
    "for i in data:\n",
    "    print (i, i - mean)"
   ]
  },
  {
   "cell_type": "markdown",
   "id": "fd4860b2",
   "metadata": {},
   "source": [
    "1. for user, status in users.copy().items():\n",
    "\n",
    "users.copy(): As before, this creates a shallow copy of the users dictionary. This is absolutely critical. Without this, the original users dictionary would be modified directly, potentially leading to unexpected behavior or errors.\n",
    ".items(): This is a dictionary method. When called on a dictionary, it returns a view object that contains pairs of (key, value) for all the items in the dictionary. Importantly, it doesn’t create a new list. Instead, it provides a dynamic view. Changes to the original dictionary will be reflected in the view, and vice-versa.\n",
    "for user, status in ...:: This is a for loop that iterates through the view object returned by .items(). During each iteration:\n",
    "user is assigned the key (the user's name in this case – 'Hans', 'Éléonore', etc.)\n",
    "status is assigned the value associated with that key (the user's status – 'active' or 'inactive').\n",
    "2. for user, status in users.items():\n",
    "\n",
    "users.items(): This is a dictionary method that returns a view object containing all key-value pairs from the users dictionary.\n",
    "for user, status in ...:: Exactly the same as above. This for loop iterates through the key-value pairs in the users dictionary. For each iteration:\n",
    "user is assigned the key (user's name).\n",
    "status is assigned the value (user's status)."
   ]
  },
  {
   "cell_type": "code",
   "execution_count": 41,
   "id": "30897b84",
   "metadata": {},
   "outputs": [
    {
     "name": "stdout",
     "output_type": "stream",
     "text": [
      "{'Hans': 'active', 'Éléonore': 'inactive', '景太郎': 'active'}\n",
      "{'Hans': 'active', '景太郎': 'active'}\n",
      "{'Hans': 'active', '景太郎': 'active'}\n"
     ]
    }
   ],
   "source": [
    "# Create a sample collection\n",
    "users = {'Hans': 'active', 'Éléonore': 'inactive', '景太郎': 'active'}\n",
    "print(users)\n",
    "\n",
    "# Strategy:  Iterate over a copy\n",
    "for user, status in users.copy().items():\n",
    "    if status == 'inactive':\n",
    "        del users[user]\n",
    "print(users)\n",
    "# Strategy:  Create a new collection\n",
    "active_users = {}\n",
    "for user, status in users.items():\n",
    "    if status == 'active':\n",
    "        active_users[user] = status\n",
    "        \n",
    "print(active_users)\n"
   ]
  },
  {
   "cell_type": "code",
   "execution_count": 70,
   "id": "884e9ea7",
   "metadata": {},
   "outputs": [
    {
     "name": "stdout",
     "output_type": "stream",
     "text": [
      "{'Hans': 'active', 'Éléonore': 'inactive', '景太郎': 'active', 'Alvin': 'inactive'}\n",
      "{'Hans': 'active', 'Alvin': 'inactive'}\n"
     ]
    }
   ],
   "source": [
    "# Create a sample collection\n",
    "users = {'Hans': 'active', 'Éléonore': 'inactive', '景太郎': 'active', 'Alvin': 'inactive'}\n",
    "print(users)\n",
    "\n",
    "single_user = {}\n",
    "for name, status in users.items():\n",
    "    if name == 'Hans':\n",
    "        single_user[name] = status\n",
    "    elif name == 'Alvin':\n",
    "        single_user[name] = status\n",
    "print (single_user)"
   ]
  }
 ],
 "metadata": {
  "kernelspec": {
   "display_name": "Python 3",
   "language": "python",
   "name": "python3"
  },
  "language_info": {
   "codemirror_mode": {
    "name": "ipython",
    "version": 3
   },
   "file_extension": ".py",
   "mimetype": "text/x-python",
   "name": "python",
   "nbconvert_exporter": "python",
   "pygments_lexer": "ipython3",
   "version": "3.13.5"
  }
 },
 "nbformat": 4,
 "nbformat_minor": 5
}
