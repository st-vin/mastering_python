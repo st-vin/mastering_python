{
 "cells": [
  {
   "cell_type": "markdown",
   "id": "0ed8986a",
   "metadata": {},
   "source": [
    "# Match Statement\n",
    "A match statement takes an expression and compares its value to successive patterns given as one or more case blocks. This is superficially similar to a switch statement in C, Java or JavaScript (and many other languages), but it’s more similar to pattern matching in languages like Rust or Haskell. Only the first pattern that matches gets executed and it can also extract components (sequence elements or object attributes) from the value into variables.\n",
    "\n",
    "The simplest form compares a subject value against one or more literals:"
   ]
  },
  {
   "cell_type": "code",
   "execution_count": 7,
   "id": "72d9f4d7",
   "metadata": {},
   "outputs": [
    {
     "data": {
      "text/plain": [
       "'Not found'"
      ]
     },
     "execution_count": 7,
     "metadata": {},
     "output_type": "execute_result"
    }
   ],
   "source": [
    "# Note the last block: the “variable name” _ acts as a wildcard and never fails to match. If no case matches, none of the branches is executed.\n",
    "\n",
    "def http_error(status):\n",
    "    match status:\n",
    "        case 400:\n",
    "            return \"Bad request\"\n",
    "        case 404:\n",
    "            return \"Not found\"\n",
    "        case 418:\n",
    "            return \"I'm a teapot\"\n",
    "        case _:\n",
    "            return \"Something's wrong with the internet\"\n",
    "        \n",
    "http_error(404)"
   ]
  },
  {
   "cell_type": "markdown",
   "id": "9f5b82fa",
   "metadata": {},
   "source": [
    "You can combine several literals in a single pattern using | (“or”):\n",
    "```python\n",
    "case 401 | 403 | 404:\n",
    "    return \"Not allowed\"\n",
    "\n",
    "```\n",
    "Patterns can look like unpacking assignments, and can be used to bind variables:"
   ]
  },
  {
   "cell_type": "code",
   "execution_count": 6,
   "id": "0483d20d",
   "metadata": {},
   "outputs": [
    {
     "name": "stdout",
     "output_type": "stream",
     "text": [
      "X=2, Y=2\n"
     ]
    }
   ],
   "source": [
    "# point is an (x, y) tuple\n",
    "point = (2, 2)  # Define the point variable\n",
    "match point:\n",
    "    case (0, 0):\n",
    "        print(\"Origin\")\n",
    "    case (0, y):\n",
    "        print(f\"Y={y}\")\n",
    "    case (x, 0):\n",
    "        print(f\"X={x}\")\n",
    "    case (x, y):\n",
    "        print(f\"X={x}, Y={y}\")\n",
    "    case _:\n",
    "        raise ValueError(\"Not a point\")"
   ]
  },
  {
   "cell_type": "markdown",
   "id": "f0a0b292",
   "metadata": {},
   "source": [
    " The first pattern has two literals, and can be thought of as an extension of the literal pattern shown above. But the next two patterns combine a literal and a variable, and the variable binds a value from the subject (point). The fourth pattern captures two values, which makes it conceptually similar to the unpacking assignment (x, y) = point."
   ]
  },
  {
   "cell_type": "markdown",
   "id": "30097187",
   "metadata": {},
   "source": [
    "If you are using classes to structure your data you can use the class name followed by an argument list resembling a constructor, but with the ability to capture attributes into variables:"
   ]
  },
  {
   "cell_type": "code",
   "execution_count": 8,
   "id": "925e50d0",
   "metadata": {},
   "outputs": [],
   "source": [
    "class Point:\n",
    "    def __init__(self, x, y):\n",
    "        self.x = x\n",
    "        self.y = y\n",
    "\n",
    "def where_is(point):\n",
    "    match point:\n",
    "        case Point(x=0, y=0):\n",
    "            print(\"Origin\")\n",
    "        case Point(x=0, y=y):\n",
    "            print(f\"Y={y}\")\n",
    "        case Point(x=x, y=0):\n",
    "            print(f\"X={x}\")\n",
    "        case Point():\n",
    "            print(\"Somewhere else\")\n",
    "        case _:\n",
    "            print(\"Not a point\")"
   ]
  },
  {
   "cell_type": "markdown",
   "id": "46bbbb25",
   "metadata": {},
   "source": [
    "### Tuple Patterns and Value Binding\n",
    "Concepts:\n",
    "\n",
    "Tuples can be matched like unpacking\n",
    "\n",
    "Variables can capture parts of the value"
   ]
  },
  {
   "cell_type": "code",
   "execution_count": null,
   "id": "440b6427",
   "metadata": {},
   "outputs": [
    {
     "name": "stdout",
     "output_type": "stream",
     "text": [
      "X=10, Y=1\n"
     ]
    }
   ],
   "source": [
    "point = (10, 1)\n",
    "print(\"\")\n",
    "match point:\n",
    "    case (0, 0):\n",
    "        print(\"Origin\")\n",
    "    case (0, y):\n",
    "        print(f\"Y={y}\")\n",
    "    case (x, 0):\n",
    "        print(f\"X={x}\")\n",
    "    case (x, y):\n",
    "        print(f\"X={x}, Y={y}\")\n",
    "    case _:\n",
    "        print(\"Not a point\")\n"
   ]
  },
  {
   "cell_type": "markdown",
   "id": "7e7b5022",
   "metadata": {},
   "source": [
    "### List and Sequence Patterns\n",
    "Concepts:\n",
    "\n",
    "Use square brackets to match lists or sequences\n",
    "\n",
    "Use *rest to capture the remainder of a sequence"
   ]
  },
  {
   "cell_type": "code",
   "execution_count": 7,
   "id": "384342c8",
   "metadata": {},
   "outputs": [
    {
     "name": "stdout",
     "output_type": "stream",
     "text": [
      "x=1, y=2, z=30\n"
     ]
    }
   ],
   "source": [
    "data = [1, 2, 30]\n",
    "\n",
    "match data:\n",
    "    case [1, 2, 3]:\n",
    "        print(\"Matched exact list\")\n",
    "    case [x, y, z]:\n",
    "        print(f\"x={x}, y={y}, z={z}\")\n",
    "    case _:\n",
    "        print(\"No match\")\n"
   ]
  },
  {
   "cell_type": "code",
   "execution_count": 8,
   "id": "517e35f9",
   "metadata": {},
   "outputs": [
    {
     "name": "stdout",
     "output_type": "stream",
     "text": [
      "x=10, y=20, rest=[30, 40]\n"
     ]
    }
   ],
   "source": [
    "data = [10, 20, 30, 40]\n",
    "\n",
    "match data:\n",
    "    case [x, y, *rest]:\n",
    "        print(f\"x={x}, y={y}, rest={rest}\")\n"
   ]
  },
  {
   "cell_type": "markdown",
   "id": "8bacb77d",
   "metadata": {},
   "source": [
    "###  Guard Conditions (with if)\n",
    "Concepts:\n",
    "\n",
    "You can add if after a pattern to add a condition\n",
    "\n",
    "Pattern must match and guard must be True"
   ]
  },
  {
   "cell_type": "code",
   "execution_count": 12,
   "id": "000bc8e1",
   "metadata": {},
   "outputs": [
    {
     "name": "stdout",
     "output_type": "stream",
     "text": [
      "On the diagonal\n"
     ]
    }
   ],
   "source": [
    "point = (3, 3)\n",
    "\n",
    "match point:\n",
    "    case (x, y) if x == y:\n",
    "        print(\"On the diagonal\")\n",
    "    case (x, y):\n",
    "        print(\"Off the diagonal\")\n"
   ]
  },
  {
   "cell_type": "markdown",
   "id": "a2cebcfb",
   "metadata": {},
   "source": [
    "### Dictionary (Mapping) Patterns\n",
    "Concepts:\n",
    "\n",
    "Use {key: value} to match dicts\n",
    "\n",
    "Ignores extra keys not specified"
   ]
  },
  {
   "cell_type": "code",
   "execution_count": 11,
   "id": "11057d8d",
   "metadata": {},
   "outputs": [
    {
     "name": "stdout",
     "output_type": "stream",
     "text": [
      "Bandwidth=100, Latency=50\n"
     ]
    }
   ],
   "source": [
    "data = {\"bandwidth\": 100, \"latency\": 50, \"unit\": \"ms\"}\n",
    "\n",
    "match data:\n",
    "    case {\"bandwidth\": b, \"latency\": l}:\n",
    "        print(f\"Bandwidth={b}, Latency={l}\")\n",
    "    case _:\n",
    "        print(\"No match\")\n"
   ]
  },
  {
   "cell_type": "markdown",
   "id": "2820c26e",
   "metadata": {},
   "source": [
    "### Using as for Subpattern Capture\n",
    "Concepts:\n",
    "\n",
    "as lets you bind part of a pattern to a variable, even if it's nested"
   ]
  },
  {
   "cell_type": "code",
   "execution_count": 13,
   "id": "f2459d89",
   "metadata": {},
   "outputs": [
    {
     "name": "stdout",
     "output_type": "stream",
     "text": [
      "Second point is (3, 4)\n"
     ]
    }
   ],
   "source": [
    "match [(1, 2), (3, 4)]:\n",
    "    case [(_, _), p2 as second_point]:\n",
    "        print(f\"Second point is {second_point}\")\n"
   ]
  },
  {
   "cell_type": "markdown",
   "id": "ae279b17",
   "metadata": {},
   "source": [
    "### Pattern Matching Constants (e.g., Enums)\n",
    "Concepts:\n",
    "\n",
    "Named constants must be dotted names to avoid confusing them with capture variables"
   ]
  },
  {
   "cell_type": "code",
   "execution_count": 1,
   "id": "5ff6ca20",
   "metadata": {},
   "outputs": [
    {
     "name": "stdout",
     "output_type": "stream",
     "text": [
      "I see red!\n"
     ]
    }
   ],
   "source": [
    "from enum import Enum\n",
    "\n",
    "class Color(Enum):\n",
    "    RED = \"red\"\n",
    "    GREEN = \"green\"\n",
    "    BLUE = \"blue\"\n",
    "\n",
    "color = Color(\"red\")\n",
    "\n",
    "match color:\n",
    "    case Color.RED:\n",
    "        print(\"I see red!\")\n",
    "    case Color.GREEN:\n",
    "        print(\"Grass is green\")\n",
    "    case Color.BLUE:\n",
    "        print(\"Feeling blue\")\n"
   ]
  }
 ],
 "metadata": {
  "kernelspec": {
   "display_name": "Python 3",
   "language": "python",
   "name": "python3"
  },
  "language_info": {
   "codemirror_mode": {
    "name": "ipython",
    "version": 3
   },
   "file_extension": ".py",
   "mimetype": "text/x-python",
   "name": "python",
   "nbconvert_exporter": "python",
   "pygments_lexer": "ipython3",
   "version": "3.13.5"
  }
 },
 "nbformat": 4,
 "nbformat_minor": 5
}
