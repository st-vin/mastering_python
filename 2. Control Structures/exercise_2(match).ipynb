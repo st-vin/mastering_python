{
 "cells": [
  {
   "cell_type": "markdown",
   "id": "2cf663ee",
   "metadata": {},
   "source": [
    "# Match Statement Exercises"
   ]
  },
  {
   "cell_type": "markdown",
   "id": "1f440ed2",
   "metadata": {},
   "source": [
    "## 1.  Traffic Light Controller\n",
    "You're building a basic traffic light logic controller.\n",
    "\n",
    "```python\n",
    "# Implement this function using match\n",
    "def traffic_light_action(color):\n",
    "    # color can be: \"red\", \"yellow\", \"green\"\n",
    "    ...\n",
    "\n",
    "```\n",
    "Desired behavior:\n",
    "\n",
    "\"red\" → \"Stop\"\n",
    "\n",
    "\"yellow\" → \"Prepare to stop\"\n",
    "\n",
    "\"green\" → \"Go\"\n",
    "\n",
    "Anything else → \"Invalid color\""
   ]
  },
  {
   "cell_type": "code",
   "execution_count": 8,
   "id": "9b5c0569",
   "metadata": {},
   "outputs": [
    {
     "data": {
      "text/plain": [
       "'stop!'"
      ]
     },
     "execution_count": 8,
     "metadata": {},
     "output_type": "execute_result"
    }
   ],
   "source": [
    "\n",
    "def traffic_light_action(color):\n",
    "    \n",
    "    match color:\n",
    "        case \"red\":\n",
    "            return \"stop!\"\n",
    "        case \"yellow\":\n",
    "            return \"Prepare to Stop\"\n",
    "        case \"green\":\n",
    "            return \"Go\"\n",
    "        case _:\n",
    "            return \"Invalid color\"\n",
    "\n",
    "traffic_light_action(\"red\")"
   ]
  },
  {
   "cell_type": "markdown",
   "id": "2e6d6ec6",
   "metadata": {},
   "source": [
    "## 2. File Extension Classifier\n",
    "You are writing a function to classify files based on extension.\n",
    "\n",
    "```python\n",
    "def classify_file(filename):\n",
    "    # filename is a string like \"document.pdf\"\n",
    "    ...\n",
    "Match behavior:\n",
    "\n",
    ".pdf, .docx → \"Document\"\n",
    "\n",
    ".jpg, .png, .gif → \"Image\"\n",
    "\n",
    ".mp4, .mkv, .avi → \"Video\"\n",
    "```\n",
    "Anything else → \"Unknown type\""
   ]
  },
  {
   "cell_type": "code",
   "execution_count": 45,
   "id": "ec8aac70",
   "metadata": {},
   "outputs": [
    {
     "data": {
      "text/plain": [
       "'Video'"
      ]
     },
     "execution_count": 45,
     "metadata": {},
     "output_type": "execute_result"
    }
   ],
   "source": [
    "def classify_file(filename):\n",
    "    match filename.split('.')[-1].lower():\n",
    "        case \"pdf\" | \"docx\":\n",
    "            return \"Document\"\n",
    "        case \"jpg\" | \"png\" | \"gif\":\n",
    "            return \"Image\"\n",
    "        case \"mp4\" | \"mkv\" | \"avi\":\n",
    "            return \"Video\"\n",
    "        case _:\n",
    "            return \"Unknown type\"\n",
    "\n",
    "classify_file(\"low.mkv\")"
   ]
  },
  {
   "cell_type": "markdown",
   "id": "fd9f29aa",
   "metadata": {},
   "source": [
    "## 3.  API Response Parser\n",
    "\n",
    "Your API returns JSON-like dicts with a known shape:\n",
    "\n",
    "```python\n",
    "def parse_api_response(response):\n",
    "    # response is a dict with optional keys: status, data, error\n",
    "    ...\n",
    "```\n",
    "Match behavior:\n",
    "\n",
    "If {\"status\": \"ok\", \"data\": d} → return f\"Success: {d}\"\n",
    "\n",
    "If {\"status\": \"error\", \"error\": e} → return f\"Error: {e}\"\n",
    "\n",
    "Else → return \"Malformed response\""
   ]
  },
  {
   "cell_type": "code",
   "execution_count": 74,
   "id": "8c339406",
   "metadata": {},
   "outputs": [
    {
     "data": {
      "text/plain": [
       "'Success: Connected to Database'"
      ]
     },
     "execution_count": 74,
     "metadata": {},
     "output_type": "execute_result"
    }
   ],
   "source": [
    "def parse_api_response(response):\n",
    "    match response:\n",
    "        case {\"status\": \"ok\", \"data\":d}:\n",
    "            return f\"Success: {d}\"\n",
    "        case {\"status\": \"error\", \"error\": e}:\n",
    "            return f\"Error: {e}\"\n",
    "        case _:\n",
    "            return \"Malformed response\" \n",
    "        \n",
    "parse_api_response({\"status\": \"ok\", \"data\": \"Connected to Database\"})"
   ]
  },
  {
   "cell_type": "markdown",
   "id": "fd6aece8",
   "metadata": {},
   "source": [
    "## 4. Password Strength Evaluator\n",
    "You’re evaluating passwords based on length and symbol usage:\n",
    "\n",
    "```python\n",
    "def evaluate_password(pwd_info):\n",
    "    # pwd_info = (length: int, has_symbols: bool)\n",
    "    ...\n",
    "```\n",
    "Match logic:\n",
    "\n",
    "If length ≥ 12 and has_symbols → \"Strong\"\n",
    "\n",
    "If length ≥ 8 and not has_symbols → \"Moderate\"\n",
    "\n",
    "Else → \"Weak\"\n",
    "\n",
    "Use a guard condition (if) with match.\n",
    "\n"
   ]
  },
  {
   "cell_type": "code",
   "execution_count": null,
   "id": "8d258cba",
   "metadata": {},
   "outputs": [
    {
     "name": "stdout",
     "output_type": "stream",
     "text": [
      "(13, True) <class 'tuple'>\n"
     ]
    },
    {
     "data": {
      "text/plain": [
       "'Strong'"
      ]
     },
     "execution_count": 89,
     "metadata": {},
     "output_type": "execute_result"
    }
   ],
   "source": [
    "def evaluate_password(pwd_info):\n",
    "    \n",
    "    match pwd_info:\n",
    "        case (length, has_symbols) if length >= 12 and has_symbols:\n",
    "            return \"Strong\"\n",
    "        case (length, has_symbols) if length >= 8 and has_symbols:\n",
    "            return \"Moderate\"\n",
    "        case _:\n",
    "            return \"Weak\"\n",
    "        \n",
    "\n",
    "evaluate_password((14, True))"
   ]
  },
  {
   "cell_type": "markdown",
   "id": "89b9a6b1",
   "metadata": {},
   "source": [
    "## 5. Batch File Categorizer\n",
    "Write a function that receives a list of filenames and returns a dict of categories.\n",
    "\n",
    "```python\n",
    "def categorize_files(file_list):\n",
    "    # file_list = [\"photo.jpg\", \"video.mp4\", \"doc.pdf\", \"unknown.xyz\"]\n",
    "    # return {'Document': [...], 'Image': [...], 'Video': [...], 'Unknown': [...]}\n",
    "```\n",
    "Use a loop + match to classify each file, then group them in the result dictionary."
   ]
  },
  {
   "cell_type": "code",
   "execution_count": 92,
   "id": "25ffbcf6",
   "metadata": {},
   "outputs": [
    {
     "data": {
      "text/plain": [
       "{'Document': ['doc.pdf'],\n",
       " 'Image': ['photo.jpg'],\n",
       " 'Video': ['video.mp4', 'class.avi'],\n",
       " 'Unknown': ['index.html', 'main.rs']}"
      ]
     },
     "execution_count": 92,
     "metadata": {},
     "output_type": "execute_result"
    }
   ],
   "source": [
    "def categorize_files(file_list):\n",
    "    categories = {\n",
    "        \"Document\": [],\n",
    "        \"Image\": [],\n",
    "        \"Video\": [],\n",
    "        \"Unknown\": []\n",
    "    }\n",
    "\n",
    "    for fname in file_list:\n",
    "        ext = fname.split('.')[-1].lower()\n",
    "        match ext:\n",
    "            case \"pdf\" | \"docx\":\n",
    "                categories[\"Document\"].append(fname)\n",
    "            case \"jpg\" | \"png\" | \"gif\":\n",
    "                categories[\"Image\"].append(fname)\n",
    "            case \"mp4\" | \"mkv\" | \"avi\":\n",
    "                categories[\"Video\"].append(fname)\n",
    "            case _:\n",
    "                categories[\"Unknown\"].append(fname)\n",
    "    return categories\n",
    "\n",
    "file_list = [\"photo.jpg\", \"video.mp4\", \"doc.pdf\", \"index.html\", \"main.rs\", \"class.avi\"]\n",
    "categorize_files(file_list)"
   ]
  },
  {
   "cell_type": "markdown",
   "id": "3798aee4",
   "metadata": {},
   "source": [
    "## 6. Command Dispatcher\n",
    "You're building a CLI tool that accepts commands like:\n",
    "\n",
    "```python\n",
    "(\"add\", 10, 5)\n",
    "(\"subtract\", 8, 3)\n",
    "(\"divide\", 10, 0)\n",
    "(\"exit\",)\n",
    "```\n",
    "\n",
    "```python\n",
    "def command_dispatcher(cmd):\n",
    "    ...\n",
    "```\n",
    "Match logic:\n",
    "\n",
    "\"add\", a, b → return a + b\n",
    "\n",
    "\"subtract\", a, b → return a - b\n",
    "\n",
    "\"divide\", a, b → return a / b if b ≠ 0 else \"Division by zero\"\n",
    "\n",
    "\"exit\" → return \"Exiting...\"\n",
    "\n",
    "Else → return \"Invalid command\""
   ]
  },
  {
   "cell_type": "code",
   "execution_count": 99,
   "id": "1457e9eb",
   "metadata": {},
   "outputs": [
    {
     "data": {
      "text/plain": [
       "'Exiting...'"
      ]
     },
     "execution_count": 99,
     "metadata": {},
     "output_type": "execute_result"
    }
   ],
   "source": [
    "def command_dispatcher(cmd):\n",
    "    match cmd:\n",
    "        case (\"add\", a, b):\n",
    "            return a + b\n",
    "        case (\"subtract\", a, b):\n",
    "            return a - b\n",
    "        case (\"divide\", a, b) if b != 0:\n",
    "            return a / b\n",
    "        case (\"divide\", _, 0):\n",
    "            return \"Division by zero\"\n",
    "        case (\"exit\",):\n",
    "            return \"Exiting...\"\n",
    "        case _:\n",
    "            return \"Invalid command\"\n",
    "\n",
    "command_dispatcher((\"exit\",))"
   ]
  },
  {
   "cell_type": "markdown",
   "id": "642b290e",
   "metadata": {},
   "source": [
    "## 7.  Shipping Zone Cost Estimator\n",
    "```python\n",
    "# Given a zone code and package weight, return shipping cost\n",
    "def shipping_cost(info):\n",
    "    # info is a tuple like: (\"zoneA\", 3.0)\n",
    "```\n",
    "Rules:\n",
    "\n",
    "zoneA: $5 flat if weight < 5kg, else $10\n",
    "\n",
    "zoneB: $8 flat always\n",
    "\n",
    "zoneC: $2/kg\n",
    "\n",
    "Others → \"Invalid zone\""
   ]
  },
  {
   "cell_type": "code",
   "execution_count": null,
   "id": "84747638",
   "metadata": {},
   "outputs": [
    {
     "data": {
      "text/plain": [
       "'$8'"
      ]
     },
     "execution_count": 106,
     "metadata": {},
     "output_type": "execute_result"
    }
   ],
   "source": [
    "def shipping_cost(info):\n",
    "    match info:\n",
    "        case (\"zoneA\", weight) if weight < 5:\n",
    "            return \"$5\"\n",
    "        case (\"zoneA\", weight):\n",
    "            return f\"${weight * 3}\"\n",
    "        case (\"zoneB\", _):\n",
    "            return \"$8\"\n",
    "        case (\"zoneC\", weight):\n",
    "            return f\"${weight * 2}\"\n",
    "        case _:\n",
    "            return \"Invalid zone\"\n",
    "\n",
    "shipping_cost((\"zoneB\", 112))\n",
    "\n",
    "# Mixes guard and fallback patterns.\n",
    "# Uses _ to ignore weight where not needed."
   ]
  },
  {
   "cell_type": "markdown",
   "id": "23e35625",
   "metadata": {},
   "source": [
    "## 8. Sensor Fault Detector\n",
    "You receive sensor data like:\n",
    "\n",
    "```python\n",
    "data = [\n",
    "    {\"sensor\": \"temperature\", \"value\": 38},\n",
    "    {\"sensor\": \"humidity\", \"value\": 82},\n",
    "    {\"sensor\": \"pressure\", \"value\": 999},\n",
    "]\n",
    "```\n",
    "Build a function flag_faulty(data) that:\n",
    "\n",
    "For temperature > 35 → flag \"High temp\"\n",
    "\n",
    "For humidity > 80 → flag \"High humidity\"\n",
    "\n",
    "For pressure not in [980–1050] → \"Pressure out of range\""
   ]
  },
  {
   "cell_type": "code",
   "execution_count": 110,
   "id": "d76c526f",
   "metadata": {},
   "outputs": [
    {
     "data": {
      "text/plain": [
       "['High temp', 'High humidity']"
      ]
     },
     "execution_count": 110,
     "metadata": {},
     "output_type": "execute_result"
    }
   ],
   "source": [
    "def flag_faulty(data):\n",
    "    alerts = []\n",
    "    for reading in data:\n",
    "        match reading:\n",
    "            case {\"sensor\": \"temperature\", \"value\": v} if v > 35:\n",
    "                alerts.append(\"High temp\")\n",
    "            case {\"sensor\": \"humidity\", \"value\": v} if v > 80:\n",
    "                alerts.append(\"High humidity\")\n",
    "            case {\"sensor\": \"pressure\", \"value\": v} if not (980 <= v <= 1050):\n",
    "                alerts.append(\"Pressure out of range\")\n",
    "    return alerts\n",
    "\n",
    "data = [\n",
    "    {\"sensor\": \"temperature\", \"value\": 800},\n",
    "    {\"sensor\": \"humidity\", \"value\": 800},\n",
    "    {\"sensor\": \"pressure\", \"value\": 999},\n",
    "]\n",
    "\n",
    "flag_faulty(data)"
   ]
  },
  {
   "cell_type": "markdown",
   "id": "a4fa123b",
   "metadata": {},
   "source": [
    "## 9.  Employee Status Filter\n",
    "You’re given employee records as a list of tuples:\n",
    "\n",
    "```python\n",
    "employees = [\n",
    "    (\"Alice\", \"full-time\", 55000),\n",
    "    (\"Bob\", \"intern\", 20000),\n",
    "    (\"Carol\", \"contract\", 40000),\n",
    "    ...\n",
    "]\n",
    "```\n",
    "Build a function that filters only full-time employees making >50,000 and returns a formatted list like:\n",
    "[\"Alice: 55000\"]\n",
    "\n",
    "Use:\n",
    "\n",
    "Pattern matching for tuple structure\n",
    "\n",
    "Guard clause\n",
    "\n",
    "List comprehension or loop"
   ]
  },
  {
   "cell_type": "code",
   "execution_count": 113,
   "id": "a1a2b82c",
   "metadata": {},
   "outputs": [
    {
     "data": {
      "text/plain": [
       "['Alice: 55000', 'Vin: 70000']"
      ]
     },
     "execution_count": 113,
     "metadata": {},
     "output_type": "execute_result"
    }
   ],
   "source": [
    "def filter_employees(employees):\n",
    "    result = []\n",
    "    for emp in employees:\n",
    "        match emp:\n",
    "            case (name, \"full-time\", salary) if salary > 50000:\n",
    "                result.append(f\"{name}: {salary}\")\n",
    "    return result\n",
    "\n",
    "\n",
    "employees = [\n",
    "    (\"Alice\", \"full-time\", 55000),\n",
    "    (\"Bob\", \"intern\", 20000),\n",
    "    (\"Carol\", \"contract\", 40000),\n",
    "    (\"Vin\", \"full-time\", 70000)\n",
    "]\n",
    "\n",
    "filter_employees(employees)"
   ]
  }
 ],
 "metadata": {
  "kernelspec": {
   "display_name": "Python 3",
   "language": "python",
   "name": "python3"
  },
  "language_info": {
   "codemirror_mode": {
    "name": "ipython",
    "version": 3
   },
   "file_extension": ".py",
   "mimetype": "text/x-python",
   "name": "python",
   "nbconvert_exporter": "python",
   "pygments_lexer": "ipython3",
   "version": "3.13.5"
  }
 },
 "nbformat": 4,
 "nbformat_minor": 5
}
