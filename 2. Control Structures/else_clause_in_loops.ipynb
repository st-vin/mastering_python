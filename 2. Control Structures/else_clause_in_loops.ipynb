{
 "cells": [
  {
   "cell_type": "markdown",
   "id": "c0000283",
   "metadata": {},
   "source": [
    "In a for or while loop the break statement may be paired with an else clause. If the loop finishes without executing the break, the else clause executes.\n",
    "\n",
    "In a for loop, the else clause is executed after the loop finishes its final iteration, that is, if no break occurred.\n",
    "\n",
    "In a while loop, it’s executed after the loop’s condition becomes false.\n",
    "\n",
    "In either kind of loop, the else clause is not executed if the loop was terminated by a break. Of course, other ways of ending the loop early, such as a return or a raised exception, will also skip execution of the else clause.\n",
    "\n",
    "This is exemplified in the following for loop, which searches for prime numbers:"
   ]
  },
  {
   "cell_type": "code",
   "execution_count": 1,
   "id": "f4a88822",
   "metadata": {},
   "outputs": [
    {
     "name": "stdout",
     "output_type": "stream",
     "text": [
      "2 is a prime number\n",
      "3 is a prime number\n",
      "4 equals 2 * 2\n",
      "5 is a prime number\n",
      "6 equals 2 * 3\n",
      "7 is a prime number\n",
      "8 equals 2 * 4\n",
      "9 equals 3 * 3\n"
     ]
    }
   ],
   "source": [
    "for n in range(2, 10):\n",
    "    for x in range(2, n):\n",
    "        if n % x == 0:\n",
    "            print(n, 'equals', x, '*', n//x)\n",
    "            break\n",
    "    else:\n",
    "        # loop fell through without finding a factor\n",
    "        print(n, 'is a prime number')"
   ]
  }
 ],
 "metadata": {
  "kernelspec": {
   "display_name": "Python 3",
   "language": "python",
   "name": "python3"
  },
  "language_info": {
   "codemirror_mode": {
    "name": "ipython",
    "version": 3
   },
   "file_extension": ".py",
   "mimetype": "text/x-python",
   "name": "python",
   "nbconvert_exporter": "python",
   "pygments_lexer": "ipython3",
   "version": "3.13.5"
  }
 },
 "nbformat": 4,
 "nbformat_minor": 5
}
