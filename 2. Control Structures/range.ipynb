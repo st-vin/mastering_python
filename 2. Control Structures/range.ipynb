{
 "cells": [
  {
   "cell_type": "markdown",
   "id": "ac77e617",
   "metadata": {},
   "source": [
    "If you do need to iterate over a sequence of numbers, the built-in function range() comes in handy. It generates arithmetic progressions:"
   ]
  },
  {
   "cell_type": "code",
   "execution_count": 6,
   "id": "4502bc50",
   "metadata": {},
   "outputs": [
    {
     "name": "stdout",
     "output_type": "stream",
     "text": [
      "1  x 2 =  2\n",
      "2  x 2 =  4\n",
      "3  x 2 =  6\n",
      "4  x 2 =  8\n",
      "5  x 2 =  10\n",
      "6  x 2 =  12\n",
      "7  x 2 =  14\n",
      "8  x 2 =  16\n",
      "9  x 2 =  18\n",
      "10  x 2 =  20\n"
     ]
    }
   ],
   "source": [
    "for i in range (1, 11):\n",
    "    print(i, \" x 2 = \", i * 2)"
   ]
  },
  {
   "cell_type": "code",
   "execution_count": 1,
   "id": "d1ad2ec9",
   "metadata": {},
   "outputs": [
    {
     "name": "stdout",
     "output_type": "stream",
     "text": [
      "0 Mary\n",
      "1 had\n",
      "2 a\n",
      "3 little\n",
      "4 lamb\n"
     ]
    }
   ],
   "source": [
    "# To iterate over the indices of a sequence, you can combine range() and len() as follows:\n",
    "a = ['Mary', 'had', 'a', 'little', 'lamb']\n",
    "for i in range(len(a)):\n",
    "    print(i, a[i])"
   ]
  },
  {
   "cell_type": "code",
   "execution_count": 16,
   "id": "57a8db6d",
   "metadata": {},
   "outputs": [
    {
     "name": "stdout",
     "output_type": "stream",
     "text": [
      "<class 'range'>\n"
     ]
    },
    {
     "data": {
      "text/plain": [
       "6"
      ]
     },
     "execution_count": 16,
     "metadata": {},
     "output_type": "execute_result"
    }
   ],
   "source": [
    "# A strange thing happens if you just print a range:\n",
    "range(10)\n",
    "print(type(range(10)))\n",
    "# In many ways the object returned by range() behaves as if it is a list, but in fact it isn’t. It is an object which returns the successive items of the desired sequence when you iterate over it, but it doesn’t really make the list, thus saving space.\n",
    "# We say such an object is iterable, that is, suitable as a target for functions and constructs that expect something from which they can obtain successive items until the supply is exhausted. We have seen that the for statement is such a construct, while an example of a function that takes an iterable is sum():\n",
    "\n",
    "sum(range(4))  # 0 + 1 + 2 + 3 = 6"
   ]
  },
  {
   "cell_type": "markdown",
   "id": "865fea5c",
   "metadata": {},
   "source": [
    "Okay, let's break down this explanation about the `range()` function in Python. Here's what it's saying and why it's important:\n",
    "\n",
    "**1. `range(10)` Doesn't Create a List Immediately**\n",
    "\n",
    "When you write `range(10)`, you're *not* creating a list containing the numbers 0 through 9. Instead, `range()` creates an *object* that *generates* those numbers on demand. This is the key difference!\n",
    "\n",
    "**2. Iterable Objects**\n",
    "\n",
    "* **What is an Iterable?** An iterable object is something that can be stepped through, one item at a time. Think of it as a sequence of numbers that can be \"traversed\".\n",
    "* **`range()` is Iterable:** The `range()` object is iterable. This means you can use it in loops or with functions like `sum()` that expect to receive a sequence of numbers.\n",
    "\n",
    "**3. How it Saves Space**\n",
    "\n",
    "* **Doesn't Store the Whole List:** Because `range()` doesn't actually create the entire list of numbers in memory at once, it saves a significant amount of space.  This is particularly important when dealing with very large ranges.\n",
    "* **Generates on Demand:**  When you use `range()` in a loop (or another function like `sum()`), Python only generates the *next* number in the sequence *when* it’s needed.\n",
    "\n",
    "\n",
    "**4. Example: `sum(range(4))`**\n",
    "\n",
    "* `range(4)` creates an iterable object that produces the numbers 0, 1, 2, and 3.\n",
    "* `sum()` takes this iterable and adds up all the numbers it produces.\n",
    "* The result of `sum(range(4))` is 6 (0 + 1 + 2 + 3).\n",
    "\n",
    "**Why is this important ?**\n",
    "\n",
    "Understanding `range()` and iterable objects is a fundamental concept in Python. It's crucial for:\n",
    "\n",
    "* **Memory Efficiency:** Writing efficient code that doesn't waste memory.\n",
    "* **Looping:**  Effectively controlling loops to iterate over sequences.\n",
    "* **Algorithm Design:** Building efficient algorithms that process data streams rather than loading everything into memory at once.\n"
   ]
  }
 ],
 "metadata": {
  "kernelspec": {
   "display_name": "Python 3",
   "language": "python",
   "name": "python3"
  },
  "language_info": {
   "codemirror_mode": {
    "name": "ipython",
    "version": 3
   },
   "file_extension": ".py",
   "mimetype": "text/x-python",
   "name": "python",
   "nbconvert_exporter": "python",
   "pygments_lexer": "ipython3",
   "version": "3.13.5"
  }
 },
 "nbformat": 4,
 "nbformat_minor": 5
}
