{
 "cells": [
  {
   "cell_type": "markdown",
   "id": "e36627f5",
   "metadata": {},
   "source": [
    "The if Statement.\n",
    "There can be zero or more elif parts, and the else part is optional. The keyword ‘elif’ is short for ‘else if’, and is useful to avoid excessive indentation. An if … elif … elif … sequence is a substitute for the switch or case statements found in other languages.\n",
    "\n",
    "If you’re comparing the same value to several constants, or checking for specific types or attributes, you may also find the match statement useful."
   ]
  },
  {
   "cell_type": "code",
   "execution_count": 21,
   "id": "092b8074",
   "metadata": {},
   "outputs": [
    {
     "name": "stdout",
     "output_type": "stream",
     "text": [
      "Welcome to Jumanji !\n"
     ]
    }
   ],
   "source": [
    "age = int(input(\"Please enter your age: \"))\n",
    "\n",
    "if age >= 1 and age <= 20:\n",
    "    print(\"You cannot access this site\")\n",
    "elif age <= 0 or age >= 120:\n",
    "    print(\"Please enter a valid age\")\n",
    "else:\n",
    "    print(\"Welcome to Jumanji !\")"
   ]
  }
 ],
 "metadata": {
  "kernelspec": {
   "display_name": "Python 3",
   "language": "python",
   "name": "python3"
  },
  "language_info": {
   "codemirror_mode": {
    "name": "ipython",
    "version": 3
   },
   "file_extension": ".py",
   "mimetype": "text/x-python",
   "name": "python",
   "nbconvert_exporter": "python",
   "pygments_lexer": "ipython3",
   "version": "3.13.5"
  }
 },
 "nbformat": 4,
 "nbformat_minor": 5
}
