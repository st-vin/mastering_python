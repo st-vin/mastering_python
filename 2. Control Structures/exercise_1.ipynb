{
 "cells": [
  {
   "cell_type": "markdown",
   "id": "688a71c3",
   "metadata": {},
   "source": [
    "## 1. Grade Categorizer\n",
    "You’re given a student’s score between 0 and 100.\n",
    "\n",
    "Write logic that:\n",
    "\n",
    "If score >= 90: print \"A\"\n",
    "\n",
    "If score >= 80: print \"B\"\n",
    "\n",
    "If score >= 70: print \"C\"\n",
    "\n",
    "If score >= 60: print \"D\"\n",
    "\n",
    "Otherwise: print \"F\"\n",
    "\n",
    "Input: score = 76\n",
    "Expected Output: C"
   ]
  },
  {
   "cell_type": "code",
   "execution_count": 5,
   "id": "1e8727e2",
   "metadata": {},
   "outputs": [
    {
     "name": "stdout",
     "output_type": "stream",
     "text": [
      "A\n"
     ]
    }
   ],
   "source": [
    "score = int(input(\"Enter your score: \"))\n",
    "if score >=90:\n",
    "    print(\"A\")\n",
    "elif score >=70:\n",
    "    print (\"B\")\n",
    "elif score >= 50:\n",
    "    print (\"C\")\n",
    "elif score >= 30:\n",
    "    print (\"D\")\n",
    "else:\n",
    "    print (\"F\")"
   ]
  },
  {
   "cell_type": "markdown",
   "id": "5b161fc7",
   "metadata": {},
   "source": [
    "## 2. Even or Odd Without Modulo\n",
    "Write a program to check if a number is even without using %.\n",
    "\n",
    "Hint: Use number & 1 (bitwise AND).\n",
    "\n",
    "Input: num = 15\n",
    "Expected Output: Odd"
   ]
  },
  {
   "cell_type": "code",
   "execution_count": 11,
   "id": "277ece4b",
   "metadata": {},
   "outputs": [
    {
     "name": "stdout",
     "output_type": "stream",
     "text": [
      "Odd\n"
     ]
    }
   ],
   "source": [
    "num = 1\n",
    "\n",
    "if num & 1:\n",
    "    print(\"Odd\")\n",
    "else:\n",
    "    print(\"Even\")\n"
   ]
  },
  {
   "cell_type": "markdown",
   "id": "1ddce3d6",
   "metadata": {},
   "source": [
    "num & 1 checks the least significant bit:\n",
    "\n",
    "If it's 1, the number is odd\n",
    "\n",
    "If 0, it's even\n",
    "\n",
    "Bitwise ops are faster and useful in low-level or performance-critical tasks."
   ]
  },
  {
   "cell_type": "markdown",
   "id": "2f5899a6",
   "metadata": {},
   "source": [
    "## 3.  Absolute Value with Condition\n",
    "Without using abs(), write code that prints the absolute value of any number using an if-else block.\n",
    "\n",
    "Input: num = -19\n",
    "Expected Output: 19"
   ]
  },
  {
   "cell_type": "code",
   "execution_count": 12,
   "id": "3083dd46",
   "metadata": {},
   "outputs": [
    {
     "name": "stdout",
     "output_type": "stream",
     "text": [
      "19\n"
     ]
    }
   ],
   "source": [
    "num = -19\n",
    "\n",
    "if num < 0:\n",
    "    print(-num)\n",
    "else:\n",
    "    print(num)\n"
   ]
  },
  {
   "cell_type": "markdown",
   "id": "9561c755",
   "metadata": {},
   "source": [
    "## 4. Is a Character a Vowel?\n",
    "Write code that checks if a character is a lowercase vowel. Assume input is a single letter.\n",
    "\n",
    "Input: 'e'\n",
    "Expected Output: True"
   ]
  },
  {
   "cell_type": "code",
   "execution_count": 13,
   "id": "e1e747e3",
   "metadata": {},
   "outputs": [
    {
     "name": "stdout",
     "output_type": "stream",
     "text": [
      "True\n"
     ]
    }
   ],
   "source": [
    "char = 'e'\n",
    "\n",
    "if char in \"aeiou\":\n",
    "    print(True)\n",
    "else:\n",
    "    print(False)\n"
   ]
  },
  {
   "cell_type": "markdown",
   "id": "82bd0284",
   "metadata": {},
   "source": [
    "## 5. Multi-Condition Checker\n",
    "You are building a validation function for user input:\n",
    "\n",
    "```python\n",
    "age = 19\n",
    "country = \"Kenya\"\n",
    "```\n",
    "Only allow access if the person is at least 18 and from Kenya.\n",
    "\n",
    "Expected Output: Access granted"
   ]
  },
  {
   "cell_type": "code",
   "execution_count": 9,
   "id": "a40e7c5e",
   "metadata": {},
   "outputs": [
    {
     "name": "stdout",
     "output_type": "stream",
     "text": [
      "Access Granted.\n"
     ]
    }
   ],
   "source": [
    "country = input(\"Enter your country: \").title()\n",
    "age = int(input(\"Enter your age: \"))\n",
    "\n",
    "if age >= 18 and country == \"Kenya\":\n",
    "    print(\"Access Granted.\")\n",
    "else:\n",
    "    print(\"Access Denied!\")"
   ]
  },
  {
   "cell_type": "markdown",
   "id": "cc291ef3",
   "metadata": {},
   "source": [
    "## 6. Sum of Even Numbers Between 1 and 100\n",
    "Write a for loop to compute the sum of all even numbers between 1 and 100.\n",
    "\n",
    "Expected Output: 2550"
   ]
  },
  {
   "cell_type": "code",
   "execution_count": 21,
   "id": "dced21cc",
   "metadata": {},
   "outputs": [
    {
     "name": "stdout",
     "output_type": "stream",
     "text": [
      "2550\n"
     ]
    }
   ],
   "source": [
    "total = 0\n",
    "for i in range(1, 101):\n",
    "    if i % 2 == 0:\n",
    "        total += i\n",
    "\n",
    "print(total)\n",
    "# Output: 2550\n"
   ]
  },
  {
   "cell_type": "code",
   "execution_count": 22,
   "id": "5dfb0d0e",
   "metadata": {},
   "outputs": [
    {
     "name": "stdout",
     "output_type": "stream",
     "text": [
      "2550\n"
     ]
    }
   ],
   "source": [
    "total = 0\n",
    "for i in range(2, 101, 2):\n",
    "    total += i\n",
    "    \n",
    "print(total)"
   ]
  },
  {
   "cell_type": "markdown",
   "id": "0743d9d1",
   "metadata": {},
   "source": [
    "## 7. First Divisible by 7 but not by 5\n",
    "Write a while loop to find the first number greater than 100 that is divisible by 7 but not by 5.\n",
    "\n",
    "Expected Output: 112"
   ]
  },
  {
   "cell_type": "code",
   "execution_count": 25,
   "id": "695077c1",
   "metadata": {},
   "outputs": [
    {
     "name": "stdout",
     "output_type": "stream",
     "text": [
      "112\n"
     ]
    }
   ],
   "source": [
    "num = 101\n",
    "\n",
    "while True:\n",
    "    if num % 7 == 0 and num % 5 != 0:\n",
    "        print(num)\n",
    "        break\n",
    "    num += 1\n"
   ]
  },
  {
   "cell_type": "markdown",
   "id": "f09a121f",
   "metadata": {},
   "source": [
    "## 8. Skip Numbers Divisible by 3\n",
    "Print numbers from 1 to 20 but skip those divisible by 3 using continue.\n",
    "\n",
    "Expected Output: 1 2 4 5 7 ... (No 3, 6, 9...)"
   ]
  },
  {
   "cell_type": "code",
   "execution_count": 35,
   "id": "02d68ff7",
   "metadata": {},
   "outputs": [
    {
     "name": "stdout",
     "output_type": "stream",
     "text": [
      "1 2 4 5 7 8 10 11 13 14 16 17 19 "
     ]
    }
   ],
   "source": [
    "num = 1\n",
    "\n",
    "while num < 20:\n",
    "    if num % 3 != 0:\n",
    "        print(num, end = \" \")\n",
    "    num += 1"
   ]
  },
  {
   "cell_type": "code",
   "execution_count": 28,
   "id": "a64d70cd",
   "metadata": {},
   "outputs": [
    {
     "name": "stdout",
     "output_type": "stream",
     "text": [
      "1 2 4 5 7 8 10 11 13 14 16 17 19 20 "
     ]
    }
   ],
   "source": [
    "for i in range(1, 21):\n",
    "    if i % 3 == 0:\n",
    "        continue\n",
    "    print(i, end=\" \")\n",
    "\n",
    "# continue jumps to the next loop iteration, skipping the print.\n",
    "\n",
    "# Important for filtering without extra else blocks."
   ]
  },
  {
   "cell_type": "markdown",
   "id": "b01ff808",
   "metadata": {},
   "source": [
    "## 9. Password Validator\n",
    "Ask the user for a password and check that:\n",
    "\n",
    "It’s at least 8 characters\n",
    "\n",
    "It contains at least one digit\n",
    "\n",
    "It contains at least one uppercase letter\n",
    "\n",
    "Use for + if and flags like has_digit, has_upper."
   ]
  },
  {
   "cell_type": "code",
   "execution_count": 38,
   "id": "d9103fb0",
   "metadata": {},
   "outputs": [
    {
     "name": "stdout",
     "output_type": "stream",
     "text": [
      "Password too short\n"
     ]
    }
   ],
   "source": [
    "password = input(\"Enter password: \")\n",
    "\n",
    "has_digit = False\n",
    "has_upper = False\n",
    "\n",
    "if len(password) >= 8:\n",
    "    for char in password:\n",
    "        if char.isdigit():\n",
    "            has_digit = True\n",
    "        elif char.isupper():\n",
    "            has_upper = True\n",
    "\n",
    "    if has_digit and has_upper:\n",
    "        print(\"Password valid\")\n",
    "    else:\n",
    "        print(\"Password invalid\")\n",
    "else:\n",
    "    print(\"Password too short\")\n",
    "\n",
    "# Flags (has_digit, has_upper) track conditions over multiple loop passes.\n",
    "\n",
    "# char.isdigit() and char.isupper() are string methods."
   ]
  },
  {
   "cell_type": "markdown",
   "id": "67f4c124",
   "metadata": {},
   "source": [
    "## 10. ATM Withdrawal Simulator\n",
    "You have a balance of 10,000. Ask the user how much they want to withdraw.\n",
    "\n",
    "If it's more than the balance, print \"Insufficient funds\"\n",
    "\n",
    "If it's zero or negative, print \"Invalid amount\"\n",
    "\n",
    "Otherwise, deduct and print remaining balance"
   ]
  },
  {
   "cell_type": "code",
   "execution_count": 55,
   "id": "ac145ca5",
   "metadata": {},
   "outputs": [
    {
     "name": "stdout",
     "output_type": "stream",
     "text": [
      "Succesfully withdrew 233 new balance is 9767\n"
     ]
    }
   ],
   "source": [
    "balance = 10000\n",
    "withdraw = int(input(\"Enter amount to withdraw: \"))\n",
    "\n",
    "if withdraw > balance:\n",
    "    print(\"Insufficient funds!\")\n",
    "elif withdraw > 0:\n",
    "    balance = balance - withdraw\n",
    "    print(f\"Succesfully withdrew {withdraw} new balance is {balance}\")\n",
    "else:\n",
    "    print(\"Invalid Amount!\")"
   ]
  },
  {
   "cell_type": "markdown",
   "id": "a58393c1",
   "metadata": {},
   "source": [
    "## 11. Use a Ternary to Set Status\n",
    "You are given:\n",
    "\n",
    "```python\n",
    "temp = 37.5\n",
    "```\n",
    "Write a one-liner using the ternary operator to print \"Fever\" if temp > 37, else \"Normal\""
   ]
  },
  {
   "cell_type": "code",
   "execution_count": 56,
   "id": "a3516dde",
   "metadata": {},
   "outputs": [
    {
     "name": "stdout",
     "output_type": "stream",
     "text": [
      "Fever\n"
     ]
    }
   ],
   "source": [
    "temp = 37.5\n",
    "status = \"Fever\" if temp > 37 else \"Normal\"\n",
    "print(status)\n",
    "\n",
    "# Python ternary syntax: A if condition else B\n",
    "\n",
    "# This is clearer than a full if-else when just assigning."
   ]
  },
  {
   "cell_type": "markdown",
   "id": "16f4b8d4",
   "metadata": {},
   "source": [
    "## 12. Fencepost Loop (Avoid Trailing Commas)\n",
    "Print this:\n",
    "```python\n",
    "1, 2, 3, 4, 5\n",
    "```\n",
    "Without using .join() or slicing — use a for loop and if conditions to avoid a trailing comma."
   ]
  },
  {
   "cell_type": "code",
   "execution_count": 57,
   "id": "47623e24",
   "metadata": {},
   "outputs": [
    {
     "name": "stdout",
     "output_type": "stream",
     "text": [
      "1, 2, 3, 4, 5\n"
     ]
    }
   ],
   "source": [
    "for i in range(1, 6):\n",
    "    if i < 5:\n",
    "        print(i, end=\", \")\n",
    "    else:\n",
    "        print(i)\n",
    "\n",
    "# A fencepost problem: the “last” item shouldn't be followed by a comma.\n",
    "\n",
    "# Could also use join(), but here we stick to control structures only"
   ]
  },
  {
   "cell_type": "markdown",
   "id": "3e6889ab",
   "metadata": {},
   "source": [
    "### Summary of Concepts\n",
    "\n",
    "| Exercise Type       | Concepts Practiced                         |\n",
    "| ------------------- | ------------------------------------------ |\n",
    "| Conditionals        | `if`, `elif`, `else`, comparisons          |\n",
    "| Bitwise Logic       | `&`, used for performance/low-level checks |\n",
    "| Loops               | `for`, `while`, `continue`, `break`        |\n",
    "| Flags & Validations | Multi-condition checks across loops        |\n",
    "| Ternary             | One-line conditional assignment            |\n",
    "| Edge-Case Handling  | Trailing commas, negative numbers          |\n"
   ]
  },
  {
   "cell_type": "markdown",
   "id": "98215bf1",
   "metadata": {},
   "source": [
    "## 13. Smart Parking Billing System\n",
    "Scenario:\n",
    "A smart parking lot charges drivers based on how long they park:\n",
    "\n",
    "First 1 hour: $5\n",
    "\n",
    "Next 2 hours: $3 per hour\n",
    "\n",
    "Any hour after that: $1.5 per hour\n",
    "\n",
    "Write code that takes a car's duration_in_hours and calculates the fee."
   ]
  },
  {
   "cell_type": "code",
   "execution_count": 153,
   "id": "7ca3c205",
   "metadata": {},
   "outputs": [
    {
     "name": "stdout",
     "output_type": "stream",
     "text": [
      "Charge: $156.50 for 100.0 hours\n"
     ]
    }
   ],
   "source": [
    "try:\n",
    "    base_hours = float(input(\"Enter the number of hours parked: \"))\n",
    "except ValueError:\n",
    "    print(\"Invalid input. Please enter a number!\")\n",
    "    \n",
    "if base_hours <= 0:\n",
    "    print(\"Invalid Hours. Please enter a positive number!\")\n",
    "    \n",
    "if base_hours <= 1:\n",
    "    fee = 5\n",
    "elif base_hours <= 3:\n",
    "    fee = 5 + (base_hours - 1) * 3\n",
    "else:\n",
    "    fee = 5 + (3 - 1) * 3 + (base_hours - 3) * 1.5\n",
    "    \n",
    "print(f\"Charge: ${fee:.2f} for {base_hours} hours\")\n"
   ]
  },
  {
   "cell_type": "code",
   "execution_count": 144,
   "id": "0a5bb2d4",
   "metadata": {},
   "outputs": [
    {
     "name": "stdout",
     "output_type": "stream",
     "text": [
      "Invalid hours. Please enter a positive number.\n"
     ]
    }
   ],
   "source": [
    "def calculate_parking_fee():\n",
    "    \"\"\"\n",
    "    Calculates the parking fee based on the duration, taking input from the user.\n",
    "    \"\"\"\n",
    "    try:\n",
    "        base_hours = float(input(\"Enter the number of hours parked: \"))\n",
    "    except ValueError:\n",
    "        print(\"Invalid input. Please enter a number.\")\n",
    "        return  # Exit the function if input is invalid\n",
    "\n",
    "    if base_hours <= 0:\n",
    "        print(\"Invalid hours. Please enter a positive number.\")\n",
    "        return\n",
    "\n",
    "    if base_hours <= 1:\n",
    "        fee = 5\n",
    "    elif base_hours <= 3:\n",
    "        fee = 5 + (base_hours - 1) * 3\n",
    "    else:\n",
    "        fee = 5 + (3 - 1) * 3 + (base_hours - 3) * 1.5\n",
    "\n",
    "    print(f\"Charge: ${fee:.2f} for {base_hours} hours\")\n",
    "\n",
    "\n",
    "\n",
    "calculate_parking_fee()"
   ]
  },
  {
   "cell_type": "markdown",
   "id": "a3b313a9",
   "metadata": {},
   "source": [
    "## 14. FizzBuzz Generator\n",
    "Scenario:\n",
    "Classic FizzBuzz, with a twist:\n",
    "\n",
    "Print numbers from 1 to 100\n",
    "\n",
    "If divisible by 3 → \"Fizz\"\n",
    "\n",
    "If divisible by 5 → \"Buzz\"\n",
    "\n",
    "If divisible by both → \"FizzBuzz\"\n",
    "\n",
    "But: If the number is prime, append \"*\" after the word"
   ]
  },
  {
   "cell_type": "code",
   "execution_count": null,
   "id": "a8bed05f",
   "metadata": {},
   "outputs": [],
   "source": [
    "for i in range(1, 101):\n",
    "    if i % 3 == 0 and i % 5 == 0:\n",
    "        print(i, \"FizzBuzz\")\n",
    "    elif i % 3 == 0:\n",
    "        print(i, \"Fizz\")\n",
    "    elif i % 5 == 0:\n",
    "        print(i, \"Buzz\")\n",
    "        \n",
    "    if is_prime(i):\n",
    "        print(i, \"prime\")"
   ]
  },
  {
   "cell_type": "code",
   "execution_count": null,
   "id": "a1b4dfa0",
   "metadata": {},
   "outputs": [],
   "source": [
    "for i in range(1, 101):\n",
    "    if i % 3 == 0 and i % 5 == 0:\n",
    "        base = \"FizzBuzz\"\n",
    "    elif i % 3 == 0:\n",
    "        base = \"Fizz\"\n",
    "    elif i % 5 == 0:\n",
    "        base = \"Buzz\"\n",
    "    else:\n",
    "        base = str(i)\n",
    "    \n",
    "    if is_prime(i):\n",
    "        print(base + \"*\")\n",
    "    else:\n",
    "        print(base)"
   ]
  },
  {
   "cell_type": "code",
   "execution_count": null,
   "id": "fecfbd55",
   "metadata": {},
   "outputs": [],
   "source": [
    "def is_prime(n):\n",
    "    \"\"\"\n",
    "    Check if a number is prime.\n",
    "    Returns:\n",
    "        True if the number is prime, False otherwise.\n",
    "    \"\"\"\n",
    "    if n <= 1:\n",
    "        return False\n",
    "    if n == 2:\n",
    "        return True\n",
    "    if n % 2 == 0:\n",
    "        return False\n",
    "    for i in range(3, int(n**0.5) + 1, 2):\n",
    "        if n % i == 0:\n",
    "            return False\n",
    "    return True\n",
    "\n",
    "for i in range(1, 101):\n",
    "    if i % 3 == 0 and i % 5 == 0:\n",
    "        base = \"FizzBuzz\"\n",
    "    elif i % 3 == 0:\n",
    "        base = \"Fizz\"\n",
    "    elif i % 5 == 0:\n",
    "        base = \"Buzz\"\n",
    "    else:\n",
    "        base = str(i)\n",
    "    \n",
    "    if is_prime(i):\n",
    "        print(f\"{base}*\")\n",
    "    else:\n",
    "        print(base)"
   ]
  },
  {
   "cell_type": "markdown",
   "id": "e827c8ca",
   "metadata": {},
   "source": [
    "## 15. Rate-Limited Login Attempts\n",
    "Scenario:\n",
    "You allow a user only 3 login attempts before their account is locked.\n",
    "\n",
    "After each failed attempt, show remaining tries.\n",
    "\n",
    "If the correct password is entered, print \"Welcome\".\n",
    "\n",
    "If 3 attempts fail, print \"Account locked\".\n",
    "\n",
    "Correct password: \"pythonRocks\"\n",
    "\n",
    "Simulate attempts with a list of passwords.\n",
    "\n",
    "Example:\n",
    "\n",
    "```python\n",
    "attempts = [\"pass123\", \"123456\", \"pythonRocks\"]\n",
    "# Expected Output:\n",
    "\n",
    "# Incorrect password. 2 tries left.\n",
    "# Incorrect password. 1 try left.\n",
    "# Welcome\n",
    "```"
   ]
  },
  {
   "cell_type": "code",
   "execution_count": 200,
   "id": "d140d9ca",
   "metadata": {},
   "outputs": [
    {
     "name": "stdout",
     "output_type": "stream",
     "text": [
      "Wrong password!\n",
      "Wrong password!\n",
      "Wrong password!\n",
      "Account locked\n"
     ]
    }
   ],
   "source": [
    "def login():\n",
    "    password = \"pythonRocks\"\n",
    "    count = 3\n",
    "    while count > 0:\n",
    "        attempts = input(\"Enter password: \")\n",
    "        if attempts == password:\n",
    "            print(\"Welcome\")\n",
    "            count -= 1\n",
    "            break\n",
    "        elif attempts != password:\n",
    "            print(\"Wrong password!\")\n",
    "            count -= 1\n",
    "    print(\"Account locked\")\n",
    "        \n",
    "login()\n",
    "    "
   ]
  },
  {
   "cell_type": "code",
   "execution_count": 192,
   "id": "203b2622",
   "metadata": {},
   "outputs": [
    {
     "name": "stdout",
     "output_type": "stream",
     "text": [
      "Welcome\n"
     ]
    }
   ],
   "source": [
    "def login():\n",
    "    attempts = 3\n",
    "    correct_password = \"pythonRocks\"\n",
    "    \n",
    "    while attempts > 0:\n",
    "        password = input(\"Enter password: \")\n",
    "        \n",
    "        if password == correct_password:\n",
    "            print(\"Welcome\")\n",
    "            return\n",
    "        else:\n",
    "            attempts -= 1\n",
    "            print(f\"Incorrect password. {attempts} tries left.\")\n",
    "\n",
    "    print(\"Account locked\")\n",
    "\n",
    "login()"
   ]
  },
  {
   "cell_type": "markdown",
   "id": "d5794e04",
   "metadata": {},
   "source": [
    "## 16. Mobile Airtime Bonus Rules\n",
    "Scenario:\n",
    "A telecom company gives airtime bonuses:\n",
    "\n",
    "If you buy more than 1000 KES: 10% bonus\n",
    "\n",
    "Between 500 and 1000: 5% bonus\n",
    "\n",
    "Below 500: no bonus\n",
    "\n",
    "Calculate how much airtime is added after bonus.\n",
    "\n",
    "Example Input: amount = 1200\n",
    "Expected Output: Bonus: 120.0 | Total Airtime: 1320.0"
   ]
  },
  {
   "cell_type": "code",
   "execution_count": 215,
   "id": "5dce6e0f",
   "metadata": {},
   "outputs": [
    {
     "name": "stdout",
     "output_type": "stream",
     "text": [
      "Amount: 999 Bonus: 49.95 Total Airtime: 1048.95\n"
     ]
    }
   ],
   "source": [
    "def airtime_bonus():\n",
    "    amount = int(input(\"Enter amount of airtime to purchase: \"))\n",
    "    \n",
    "    if amount < 500:\n",
    "        print(\"You are not viable for a bonus.\")\n",
    "    elif amount >= 500:\n",
    "        bonus = amount * 0.05\n",
    "        total_airtime = amount + bonus\n",
    "        print(f\"Amount: {amount} Bonus: {bonus:.2f} Total Airtime: {total_airtime:.2f}\")\n",
    "    elif amount > 1000:\n",
    "        bonus = amount * 0.1\n",
    "        total_amount = amount + bonus\n",
    "        print(f\"Amount: {amount} Bonus: {bonus} Total Airtime: {total_airtime}\")\n",
    "        \n",
    "airtime_bonus()"
   ]
  },
  {
   "cell_type": "markdown",
   "id": "44497636",
   "metadata": {},
   "source": [
    "## 17.  Invoice Number Generator (With Leading Zeros)\n",
    "Scenario:\n",
    "You're writing a system that auto-generates invoice IDs from 1–999 and displays them with 3-digit formatting (e.g., 001, 045, 103).\n",
    "\n",
    "Write a loop that prints invoice numbers from 1 to 10 using leading zero formatting.\n",
    "\n",
    "Expected Output:\n",
    "```\n",
    "001\n",
    "002\n",
    "...\n",
    "010\n",
    "```"
   ]
  },
  {
   "cell_type": "code",
   "execution_count": 237,
   "id": "49955437",
   "metadata": {},
   "outputs": [
    {
     "name": "stdout",
     "output_type": "stream",
     "text": [
      "001\n",
      "002\n",
      "003\n",
      "004\n",
      "005\n",
      "006\n",
      "007\n",
      "008\n",
      "009\n",
      "00a\n"
     ]
    }
   ],
   "source": [
    "for invoice_number in range(1, 11):\n",
    "  print(f\"{invoice_number:03}\")"
   ]
  },
  {
   "cell_type": "markdown",
   "id": "74c75d91",
   "metadata": {},
   "source": [
    "## 18. Phone Number Validator\n",
    "Scenario:\n",
    "You're validating Kenyan mobile numbers:\n",
    "\n",
    "Must start with \"07\" or \"01\"\n",
    "\n",
    "Must be exactly 10 digits\n",
    "\n",
    "Must contain only digits\n",
    "\n",
    "Write code that validates a number and prints Valid or Invalid.\n",
    "\n",
    "Input: \"0712345678\" → ✅\n",
    "\n",
    "Input: \"01123456a8\" → ❌ (non-digit)\n",
    "\n",
    "Input: \"812345678\" → ❌ (wrong prefix)"
   ]
  },
  {
   "cell_type": "code",
   "execution_count": 264,
   "id": "7940b3e1",
   "metadata": {},
   "outputs": [
    {
     "name": "stdout",
     "output_type": "stream",
     "text": [
      "Valid\n"
     ]
    }
   ],
   "source": [
    "def validate():\n",
    "    num = input(\"Enter phone number: \")\n",
    "    if not isinstance(num, str):\n",
    "        print(\"Invalid Input: Input must be a string\")\n",
    "        return\n",
    "    if len(num) > 10 :\n",
    "        print(\"Invalid. Too many digits!\")\n",
    "    elif len(num) < 10:\n",
    "        print(\"Invalid. less digits!\")\n",
    "\n",
    "    if not num.startswith(\"07\") and not num.startswith(\"01\"):\n",
    "        print(\"Invalid: Number must start with '07' or '01'\")\n",
    "        return\n",
    "    \n",
    "    if not num.isdigit():\n",
    "        print(\"Invalid: Number must contain only digits\")\n",
    "        return\n",
    "    \n",
    "print(\"Valid\")\n",
    "validate()"
   ]
  },
  {
   "cell_type": "markdown",
   "id": "4b2afbbd",
   "metadata": {},
   "source": [
    "## 19. Electricity Billing System\n",
    "Scenario:\n",
    "Electricity is billed in slabs:\n",
    "\n",
    "First 50 units: 5 KES/unit\n",
    "\n",
    "Next 100 units: 10 KES/unit\n",
    "\n",
    "Above 150 units: 15 KES/unit\n",
    "\n",
    "Write code that computes total cost for any number of units.\n",
    "\n",
    "Example Input: units = 180\n",
    "\n",
    "Expected Output: Total Bill: 1950"
   ]
  },
  {
   "cell_type": "code",
   "execution_count": 289,
   "id": "7dc52fe1",
   "metadata": {},
   "outputs": [
    {
     "name": "stdout",
     "output_type": "stream",
     "text": [
      "1700\n"
     ]
    }
   ],
   "source": [
    "def electricity_bill(units):\n",
    "    if units <= 50:\n",
    "        cost = units * 5\n",
    "        print(cost)\n",
    "    elif units <= 150:\n",
    "        cost = 250 + (units - 50) * 10\n",
    "        print(cost)\n",
    "    elif units > 150:\n",
    "        cost = 1250 + (units - 150 ) * 15\n",
    "        print(cost)\n",
    "        \n",
    "electricity_bill(180)"
   ]
  },
  {
   "cell_type": "code",
   "execution_count": 287,
   "id": "bff1085b",
   "metadata": {},
   "outputs": [
    {
     "name": "stdout",
     "output_type": "stream",
     "text": [
      "Units: 180 Total Bill: 1700\n",
      "Units: 50 Total Bill: 250\n",
      "Units: 100 Total Bill: 750\n",
      "Units: 150 Total Bill: 1250\n"
     ]
    }
   ],
   "source": [
    "def calculate_electricity_bill(units):\n",
    "  \"\"\"\n",
    "  Calculates the total electricity bill based on the given slab rates.\n",
    "\n",
    "  Args:\n",
    "    units: The total number of units consumed.\n",
    "\n",
    "  Returns:\n",
    "    The total cost of the electricity bill.\n",
    "  \"\"\"\n",
    "\n",
    "  cost = 0\n",
    "  \n",
    "  # Calculate cost for the first slab (first 50 units)\n",
    "  cost += 50 * 5\n",
    "  \n",
    "  # Calculate cost for the second slab (next 100 units)\n",
    "  cost += (min(100, units - 50)) * 10\n",
    "  \n",
    "  # Calculate cost for the third slab (above 150 units)\n",
    "  remaining_units = units - 50 - (min(100, units - 50))\n",
    "  if remaining_units > 0:\n",
    "    cost += remaining_units * 15\n",
    "\n",
    "  return int(cost) # Ensure the result is an integer\n",
    "\n",
    "# Example usage:\n",
    "units = 180\n",
    "total_bill = calculate_electricity_bill(units)\n",
    "print(f\"Units: {units} Total Bill: {total_bill}\")\n",
    "\n",
    "units = 50\n",
    "total_bill = calculate_electricity_bill(units)\n",
    "print(f\"Units: {units} Total Bill: {total_bill}\")\n",
    "\n",
    "units = 100\n",
    "total_bill = calculate_electricity_bill(units)\n",
    "print(f\"Units: {units} Total Bill: {total_bill}\")\n",
    "\n",
    "units = 150\n",
    "total_bill = calculate_electricity_bill(units)\n",
    "print(f\"Units: {units} Total Bill: {total_bill}\")"
   ]
  },
  {
   "cell_type": "markdown",
   "id": "4a0c7cce",
   "metadata": {},
   "source": [
    "## 20. Bus Seat Allocation with Social Distancing\n",
    "Scenario:\n",
    "You have 30 bus seats. For COVID safety:\n",
    "\n",
    "Only every other seat is filled\n",
    "\n",
    "No one sits on seats divisible by 5 (aisle seats)\n",
    "\n",
    "Write a loop that prints seat numbers that will be occupied."
   ]
  },
  {
   "cell_type": "code",
   "execution_count": 290,
   "id": "20b49d1e",
   "metadata": {},
   "outputs": [
    {
     "name": "stdout",
     "output_type": "stream",
     "text": [
      "Occupied seats: [2, 4, 6, 8, 12, 14, 16, 18, 22, 24, 26, 28]\n"
     ]
    }
   ],
   "source": [
    "def allocate_seats():\n",
    "    \"\"\"\n",
    "    Allocates bus seats with social distancing rules.\n",
    "    \"\"\"\n",
    "\n",
    "    seats = list(range(1, 31))  # Create a list of seat numbers from 1 to 30\n",
    "    occupied_seats = []\n",
    "\n",
    "    for seat_number in seats:\n",
    "        if seat_number % 2 == 0 and seat_number % 5 != 0:\n",
    "            occupied_seats.append(seat_number)\n",
    "\n",
    "    print(\"Occupied seats:\", occupied_seats)\n",
    "\n",
    "# Call the function to execute the allocation\n",
    "allocate_seats()"
   ]
  }
 ],
 "metadata": {
  "kernelspec": {
   "display_name": "Python 3",
   "language": "python",
   "name": "python3"
  },
  "language_info": {
   "codemirror_mode": {
    "name": "ipython",
    "version": 3
   },
   "file_extension": ".py",
   "mimetype": "text/x-python",
   "name": "python",
   "nbconvert_exporter": "python",
   "pygments_lexer": "ipython3",
   "version": "3.13.7"
  }
 },
 "nbformat": 4,
 "nbformat_minor": 5
}
