{
 "cells": [
  {
   "cell_type": "markdown",
   "id": "aa699489",
   "metadata": {},
   "source": [
    "# Generators\n",
    "\n",
    "Generators are a simple and powerful tool for creating iterators. They are written like regular functions but use the yield statement whenever they want to return data. Each time next() is called on it, the generator resumes where it left off (it remembers all the data values and which statement was last executed). An example shows that generators can be trivially easy to create:"
   ]
  },
  {
   "cell_type": "code",
   "execution_count": null,
   "id": "c7e26f0c",
   "metadata": {},
   "outputs": [],
   "source": [
    "def reverse(data):\n",
    "    for index in range(len(data)-1, -1, -1):\n",
    "        yield data[index]\n",
    "        \n",
    "for char in reverse('golf'):\n",
    "    print(char)"
   ]
  },
  {
   "cell_type": "markdown",
   "id": "7268ac0a",
   "metadata": {},
   "source": [
    "Anything that can be done with generators can also be done with class-based iterators as described in the previous section. What makes generators so compact is that the `__iter__()` and `__next__()` methods are created automatically.\n",
    "\n",
    "Another key feature is that the local variables and execution state are automatically saved between calls. This made the function easier to write and much more clear than an approach using instance variables like `self.index` and `self.data`.\n",
    "\n",
    "In addition to automatic method creation and saving program state, when generators terminate, they automatically raise `StopIteration`. In combination, these features make it easy to create iterators with no more effort than writing a regular function."
   ]
  },
  {
   "cell_type": "markdown",
   "id": "d6613c2f",
   "metadata": {},
   "source": [
    "# Generator Expressions\n",
    "\n",
    "Some simple generators can be coded succinctly as expressions using a syntax similar to list comprehensions but with parentheses instead of square brackets. These expressions are designed for situations where the generator is used right away by an enclosing function. Generator expressions are more compact but less versatile than full generator definitions and tend to be more memory friendly than equivalent list comprehensions."
   ]
  },
  {
   "cell_type": "code",
   "execution_count": null,
   "id": "7d0c759d",
   "metadata": {},
   "outputs": [],
   "source": [
    "sum(i*i for i in range(10))                 # sum of squares\n",
    "\n",
    "\n",
    "xvec = [10, 20, 30]\n",
    "yvec = [7, 5, 3]\n",
    "sum(x*y for x,y in zip(xvec, yvec))         # dot product\n",
    "\n",
    "\n",
    "unique_words = set(word for line in page  for word in line.split())\n",
    "\n",
    "valedictorian = max((student.gpa, student.name) for student in graduates)\n",
    "\n",
    "data = 'golf'\n",
    "list(data[i] for i in range(len(data)-1, -1, -1))"
   ]
  }
 ],
 "metadata": {
  "kernelspec": {
   "display_name": "Python 3",
   "language": "python",
   "name": "python3"
  },
  "language_info": {
   "codemirror_mode": {
    "name": "ipython",
    "version": 3
   },
   "file_extension": ".py",
   "mimetype": "text/x-python",
   "name": "python",
   "nbconvert_exporter": "python",
   "pygments_lexer": "ipython3",
   "version": "3.13.7"
  }
 },
 "nbformat": 4,
 "nbformat_minor": 5
}
