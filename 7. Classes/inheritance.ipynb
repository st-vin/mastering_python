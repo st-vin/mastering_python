{
 "cells": [
  {
   "cell_type": "markdown",
   "id": "05955542",
   "metadata": {},
   "source": [
    "# Inheritance\n",
    "\n",
    "The synatax for a derived class definition is:\n",
    "\n",
    "```python\n",
    "class DerivedClassName(BaseClassName):\n",
    "    <statement-1>\n",
    "    .\n",
    "    .\n",
    "    .\n",
    "    <statement-N>\n",
    "```\n",
    "\n",
    "The name BaseClassName must be defined in a namespace accessible from the scope containing the derived class definition.\n",
    "\n",
    "In place of a base class name, other arbitrary expressions are also allowed. This can be useful, for example, when the base class is defined in another module:\n",
    "\n",
    "```python\n",
    "class DerivedClassName(modname.BaseClassName):\n",
    "```\n",
    "\n",
    "Execution of a derived class definition proceeds the same as for a base class. When the class object is constructed, the base class is remembered. This is used for resolving attribute references: if a requested attribute is not found in the class, the search proceeds to look in the base class. This rule is applied recursively if the base class itself is derived from some other class.\n",
    "\n",
    "There’s nothing special about instantiation of derived classes: DerivedClassName() creates a new instance of the class. Method references are resolved as follows: the corresponding class attribute is searched, descending down the chain of base classes if necessary, and the method reference is valid if this yields a function object.\n",
    "\n",
    "Derived classes may override methods of their base classes. Because methods have no special privileges when calling other methods of the same object, a method of a base class that calls another method defined in the same base class may end up calling a method of a derived class that overrides it."
   ]
  }
 ],
 "metadata": {
  "kernelspec": {
   "display_name": "Python 3",
   "language": "python",
   "name": "python3"
  },
  "language_info": {
   "name": "python",
   "version": "3.13.5"
  }
 },
 "nbformat": 4,
 "nbformat_minor": 5
}
