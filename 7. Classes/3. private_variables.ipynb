{
 "cells": [
  {
   "cell_type": "markdown",
   "id": "0497f457",
   "metadata": {},
   "source": [
    "# Private Variables\n",
    "\n",
    "“Private” instance variables that cannot be accessed except from inside an object don’t exist in Python. However, there is a convention that is followed by most Python code: a name prefixed with an underscore (e.g. _spam) should be treated as a non-public part of the API (whether it is a function, a method or a data member). It should be considered an implementation detail and subject to change without notice.\n",
    "\n",
    "Since there is a valid use-case for class-private members (namely to avoid name clashes of names with names defined by subclasses), there is limited support for such a mechanism, called name mangling. Any identifier of the form __spam (at least two leading underscores, at most one trailing underscore) is textually replaced with _classname__spam, where classname is the current class name with leading underscore(s) stripped. This mangling is done without regard to the syntactic position of the identifier, as long as it occurs within the definition of a class.\n",
    "\n",
    "Name mangling is helpful for letting subclasses override methods without breaking intraclass method calls. For example:"
   ]
  },
  {
   "cell_type": "code",
   "execution_count": 1,
   "id": "2aaccf56",
   "metadata": {},
   "outputs": [],
   "source": [
    "class Mapping:\n",
    "    def __init__(self, iterable):\n",
    "        self.items_list = []\n",
    "        self.__update(iterable)\n",
    "\n",
    "    def update(self, iterable):\n",
    "        for item in iterable:\n",
    "            self.items_list.append(item)\n",
    "\n",
    "    __update = update   # private copy of original update() method\n",
    "\n",
    "class MappingSubclass(Mapping):\n",
    "\n",
    "    def update(self, keys, values):\n",
    "        # provides new signature for update()\n",
    "        # but does not break __init__()\n",
    "        for item in zip(keys, values):\n",
    "            self.items_list.append(item)"
   ]
  },
  {
   "cell_type": "markdown",
   "id": "47b40da9",
   "metadata": {},
   "source": [
    "The above example would work even if `MappingSubclass` were to introduce a `__update` identifier since it is replaced with _Mapping__update in the Mapping class and `_MappingSubclass__update` in the `MappingSubclass` class respectively.\n",
    "\n",
    "Note that the mangling rules are designed mostly to avoid accidents; it still is possible to access or modify a variable that is considered private. This can even be useful in special circumstances, such as in the debugger.\n",
    "\n",
    "Notice that code passed to `exec()` or `eval()` does not consider the classname of the invoking class to be the current class; this is similar to the effect of the `global` statement, the effect of which is likewise restricted to code that is byte-compiled together. The same restriction applies to `getattr()`, `setattr()` and `delattr()`, as well as when referencing `__dict__` directly."
   ]
  },
  {
   "cell_type": "markdown",
   "id": "7ee43217",
   "metadata": {},
   "source": [
    "## Python's implementation of C's `struct` or pascal's `record`\n",
    "\n",
    "Sometimes it is useful to have a data type similar to the Pascal “record” or C “struct”, bundling together a few named data items. The idiomatic approach is to use dataclasses for this purpose:"
   ]
  },
  {
   "cell_type": "code",
   "execution_count": 8,
   "id": "df0d1799",
   "metadata": {},
   "outputs": [
    {
     "name": "stdout",
     "output_type": "stream",
     "text": [
      "John is in Computing department and earns Ksh.250000.00\n"
     ]
    }
   ],
   "source": [
    "from dataclasses import dataclass\n",
    "\n",
    "@dataclass\n",
    "class Employee:\n",
    "    name: str\n",
    "    dept: str\n",
    "    salary: int\n",
    "    \n",
    "john = Employee('John', 'Computing', 250000)\n",
    "print(f\"{john.name} is in {john.dept} department and earns Ksh.{john.salary:.2f}\")"
   ]
  },
  {
   "cell_type": "markdown",
   "id": "01e29490",
   "metadata": {},
   "source": [
    "A piece of Python code that expects a particular abstract data type can often be passed a class that emulates the methods of that data type instead. For instance, if you have a function that formats some data from a file object, you can define a class with methods `read()` and `readline()` that get the data from a string buffer instead, and pass it as an argument.\n",
    "\n",
    "`Instance method objects` have attributes, too: `m.__self__` is the instance object with the method m(), and `m.__func__` is the `function object` corresponding to the method."
   ]
  }
 ],
 "metadata": {
  "kernelspec": {
   "display_name": "Python 3",
   "language": "python",
   "name": "python3"
  },
  "language_info": {
   "codemirror_mode": {
    "name": "ipython",
    "version": 3
   },
   "file_extension": ".py",
   "mimetype": "text/x-python",
   "name": "python",
   "nbconvert_exporter": "python",
   "pygments_lexer": "ipython3",
   "version": "3.13.5"
  }
 },
 "nbformat": 4,
 "nbformat_minor": 5
}
