{
 "cells": [
  {
   "cell_type": "markdown",
   "id": "4a0ec0e5",
   "metadata": {},
   "source": [
    "# Iterators\n",
    "\n",
    "By now you have probably noticed that most container objects can be looped over using a for statement:\n",
    "\n",
    "```python\n",
    "for element in [1, 2, 3]:\n",
    "    print(element)\n",
    "for element in (1, 2, 3):\n",
    "    print(element)\n",
    "for key in {'one':1, 'two':2}:\n",
    "    print(key)\n",
    "for char in \"123\":\n",
    "    print(char)\n",
    "for line in open(\"myfile.txt\"):\n",
    "    print(line, end='')\n",
    "```\n",
    "\n",
    "This style of access is clear, concise, and convenient. The use of iterators pervades and unifies Python. Behind the scenes, the for statement calls `iter()` on the container object. The function returns an iterator object that defines the method `__next__()` which accesses elements in the container one at a time. When there are no more elements, `__next__()` raises a `StopIteration` exception which tells the for loop to terminate. You can call the `__next__()` method using the `next()` built-in function; this example shows how it all works:"
   ]
  },
  {
   "cell_type": "code",
   "execution_count": null,
   "id": "1108ee6e",
   "metadata": {},
   "outputs": [
    {
     "data": {
      "text/plain": [
       "'c'"
      ]
     },
     "execution_count": 6,
     "metadata": {},
     "output_type": "execute_result"
    }
   ],
   "source": [
    "s = 'abc'\n",
    "it = iter(s)\n",
    "it\n",
    "\n",
    "next(it)\n",
    "# a\n",
    "next(it)\n",
    "# b\n",
    "next(it)\n",
    "# c\n",
    "# next(it) Traceback (most recent call last):\n",
    "#   File \"<stdin>\", line 1, in <module>\n",
    "#     next(it)\n",
    "# StopIteration"
   ]
  },
  {
   "cell_type": "markdown",
   "id": "28206f9e",
   "metadata": {},
   "source": [
    "Having seen the mechanics behind the iterator protocol, it is easy to add iterator behavior to your classes. Define an `__iter__()`method which returns an object with a `__next__()` method. If the class defines `__next__()`, then `__iter__()` can just return self:"
   ]
  },
  {
   "cell_type": "code",
   "execution_count": 9,
   "id": "e0106fd6",
   "metadata": {},
   "outputs": [
    {
     "name": "stdout",
     "output_type": "stream",
     "text": [
      "m\n",
      "a\n",
      "p\n",
      "s\n"
     ]
    }
   ],
   "source": [
    "class Reverse:\n",
    "    \"\"\"Iterator for looping over a sequence backwards.\"\"\"\n",
    "    def __init__(self, data):\n",
    "        self.data = data\n",
    "        self.index = len(data)\n",
    "\n",
    "    def __iter__(self):\n",
    "        return self\n",
    "\n",
    "    def __next__(self):\n",
    "        if self.index == 0:\n",
    "            raise StopIteration\n",
    "        self.index = self.index - 1\n",
    "        return self.data[self.index]\n",
    "    \n",
    "    \n",
    "rev = Reverse('spam')\n",
    "iter(rev)\n",
    "for char in rev:\n",
    "    print(char)"
   ]
  }
 ],
 "metadata": {
  "kernelspec": {
   "display_name": "Python 3",
   "language": "python",
   "name": "python3"
  },
  "language_info": {
   "codemirror_mode": {
    "name": "ipython",
    "version": 3
   },
   "file_extension": ".py",
   "mimetype": "text/x-python",
   "name": "python",
   "nbconvert_exporter": "python",
   "pygments_lexer": "ipython3",
   "version": "3.13.5"
  }
 },
 "nbformat": 4,
 "nbformat_minor": 5
}
