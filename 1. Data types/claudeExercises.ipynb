{
 "cells": [
  {
   "cell_type": "markdown",
   "id": "ba48365a",
   "metadata": {},
   "source": [
    "# Python Data Types Practice Exercises"
   ]
  },
  {
   "cell_type": "markdown",
   "id": "459d7e5c",
   "metadata": {},
   "source": [
    "# Integer (int) Exercises"
   ]
  },
  {
   "cell_type": "markdown",
   "id": "78ee8a2e",
   "metadata": {},
   "source": [
    "## Exercise 1: Restaurant Bill Calculator\n",
    "You're building a point-of-sale system for a restaurant. Calculate the total bill for a table that ordered:\n",
    "\n",
    "3 burgers at $12 each\n",
    "2 sodas at $3 each\n",
    "1 dessert at $8\n",
    "\n",
    "Write code to calculate the subtotal, add 8% tax, and display the final amount (convert to integer cents for payment processing)."
   ]
  },
  {
   "cell_type": "code",
   "execution_count": 23,
   "id": "e7e05d03",
   "metadata": {},
   "outputs": [
    {
     "name": "stdout",
     "output_type": "stream",
     "text": [
      "Subtotal: $124\n",
      "Tax (8%): $9.92\n",
      "Total: $133.92\n",
      "Total in cents: 13391\n"
     ]
    }
   ],
   "source": [
    "burger = 12\n",
    "soda = 3\n",
    "dessert = 8\n",
    "tax = 0.08\n",
    "\n",
    "b = int(input((\"enter number of burgers\")))\n",
    "s = int(input((\"enter number of sodas\")))\n",
    "d = int(input((\"enter number of desserts\")))\n",
    "\n",
    "amount = (b*burger) + (s*soda) + (d*dessert)\n",
    "after_tax = amount * tax\n",
    "total = amount + after_tax\n",
    "total_cents = int(total * 100)\n",
    "\n",
    "print(f\"Subtotal: ${amount}\")\n",
    "print(f\"Tax (8%): ${after_tax:.2f}\")\n",
    "print(f\"Total: ${total:.2f}\")\n",
    "print(f\"Total in cents: {total_cents}\")\n"
   ]
  },
  {
   "cell_type": "code",
   "execution_count": 24,
   "id": "2061b92f",
   "metadata": {},
   "outputs": [
    {
     "name": "stdout",
     "output_type": "stream",
     "text": [
      "\n",
      "Exercise 1: Restaurant Bill Calculator\n",
      "Subtotal: $50\n",
      "Tax (8%): $4.000\n",
      "Total: $54.000\n",
      "Total in cents: 5400\n"
     ]
    }
   ],
   "source": [
    "# Exercise 1: Restaurant Bill Calculator\n",
    "print(\"\\nExercise 1: Restaurant Bill Calculator\")\n",
    "burgers = 3 * 12\n",
    "sodas = 2 * 3\n",
    "dessert = 1 * 8\n",
    "subtotal = burgers + sodas + dessert\n",
    "tax = subtotal * 0.08\n",
    "total = subtotal + tax\n",
    "total_cents = int(total * 100)\n",
    "\n",
    "print(f\"Subtotal: ${subtotal}\")\n",
    "print(f\"Tax (8%): ${tax:.3f}\")\n",
    "print(f\"Total: ${total:.3f}\")\n",
    "print(f\"Total in cents: {total_cents}\")"
   ]
  },
  {
   "cell_type": "markdown",
   "id": "a2e9454a",
   "metadata": {},
   "source": [
    "## Exercise 2: Warehouse Inventory\n",
    "A warehouse receives shipments throughout the day. Starting inventory: 450 units. Track these transactions:\n",
    "\n",
    "Morning: +120 units delivered\n",
    "Afternoon: -85 units sold\n",
    "Evening: +200 units delivered, -95 units sold\n",
    "\n",
    "Calculate the final inventory count and determine if you need to reorder (reorder if below 500 units)."
   ]
  },
  {
   "cell_type": "code",
   "execution_count": null,
   "id": "c990f093",
   "metadata": {},
   "outputs": [
    {
     "name": "stdout",
     "output_type": "stream",
     "text": [
      "\n",
      "--- Warehouse Inventory ---\n",
      "Current Inventory: 450\n",
      "1. Record Transaction\n",
      "2. Calculate Final Inventory\n",
      "3. Exit\n",
      "Sold 400 units. New inventory: 50\n",
      "\n",
      "--- Warehouse Inventory ---\n",
      "Current Inventory: 50\n",
      "1. Record Transaction\n",
      "2. Calculate Final Inventory\n",
      "3. Exit\n",
      "\n",
      "--- Daily Transactions ---\n",
      "Date: 2025-01-11, Type: sold, Quantity: 400\n",
      "Inventory is below 500 units. Reorder needed.\n",
      "\n",
      "--- Warehouse Inventory ---\n",
      "Current Inventory: 50\n",
      "1. Record Transaction\n",
      "2. Calculate Final Inventory\n",
      "3. Exit\n",
      "\n",
      "--- Final Inventory Report ---\n",
      "Final Inventory: 50\n"
     ]
    }
   ],
   "source": [
    "import datetime\n",
    "\n",
    "def warehouse_inventory():\n",
    "    \"\"\"\n",
    "    Simulates a warehouse inventory system, tracking sales, deliveries, \n",
    "    and reordering based on inventory levels.\n",
    "    \"\"\"\n",
    "\n",
    "    inventory = 450\n",
    "    daily_transactions = []  # List to store daily transactions\n",
    "    \n",
    "    while True:\n",
    "        print(\"\\n--- Warehouse Inventory ---\")\n",
    "        print(f\"Current Inventory: {inventory}\")\n",
    "        print(\"1. Record Transaction\")\n",
    "        print(\"2. Calculate Final Inventory\")\n",
    "        print(\"3. Exit\")\n",
    "\n",
    "        choice = input(\"Enter your choice (1/2/3): \")\n",
    "\n",
    "        if choice == '1':\n",
    "            try:\n",
    "                date_str = input(\"Enter date (YYYY-MM-DD): \")\n",
    "                date = datetime.datetime.strptime(date_str, '%Y-%m-%d').date()\n",
    "\n",
    "                transaction_type = input(\"Enter transaction type (Sold/Delivered): \").lower()\n",
    "                quantity = int(input(\"Enter quantity: \"))\n",
    "\n",
    "                if transaction_type == 'sold':\n",
    "                    inventory -= quantity\n",
    "                    print(f\"Sold {quantity} units. New inventory: {inventory}\")\n",
    "                elif transaction_type == 'delivered':\n",
    "                    inventory += quantity\n",
    "                    print(f\"Delivered {quantity} units. New inventory: {inventory}\")\n",
    "                else:\n",
    "                    print(\"Invalid transaction type.\")\n",
    "\n",
    "                daily_transactions.append({'date': date, 'transaction_type': transaction_type, 'quantity': quantity})\n",
    "            \n",
    "            except ValueError:\n",
    "                print(\"Invalid input. Please enter a valid integer for quantity and date in YYYY-MM-DD format.\")\n",
    "            \n",
    "        elif choice == '2':\n",
    "            print(\"\\n--- Daily Transactions ---\")\n",
    "            for transaction in daily_transactions:\n",
    "                print(f\"Date: {transaction['date']}, Type: {transaction['transaction_type']}, Quantity: {transaction['quantity']}\")\n",
    "\n",
    "            if inventory >= 500:\n",
    "                print(\"Inventory is above 500 units. No reorder needed.\")\n",
    "            else:\n",
    "                print(\"Inventory is below 500 units. Reorder needed.\")\n",
    "                \n",
    "        elif choice == '3':\n",
    "            break\n",
    "        else:\n",
    "            print(\"Invalid choice. Please enter 1, 2, or 3.\")\n",
    "    \n",
    "    #Update starting inventory for the next day\n",
    "    print(\"\\n--- Final Inventory Report ---\")\n",
    "    print(f\"Final Inventory: {inventory}\")\n",
    "\n",
    "    \n",
    "#Run the simulation\n",
    "warehouse_inventory()"
   ]
  },
  {
   "cell_type": "markdown",
   "id": "bc1a3a59",
   "metadata": {},
   "source": [
    "Exercise 2: Warehouse Inventory\n",
    "A warehouse receives shipments throughout the day. Starting inventory: 450 units. Track these transactions:\n",
    "units sold and delivered throughout the day and the following periods (also include the date) Morning, Afternoon & Evening\n",
    "\n",
    "Calculate the final inventory count and determine if you need to reorder (reorder if below 500 units).\n",
    "update the starting inventory after the completion for the subsequent day "
   ]
  },
  {
   "cell_type": "code",
   "execution_count": 44,
   "id": "15c3ed79",
   "metadata": {},
   "outputs": [
    {
     "name": "stdout",
     "output_type": "stream",
     "text": [
      "\n",
      "Exercise 2: Warehouse Inventory\n",
      "Starting inventory: 450\n",
      "Final inventory: 590\n",
      "Need to reorder: False\n"
     ]
    }
   ],
   "source": [
    "# Exercise 2: Warehouse Inventory\n",
    "print(\"\\nExercise 2: Warehouse Inventory\")\n",
    "starting_inventory = 450\n",
    "morning_delivery = 120\n",
    "afternoon_sold = 85\n",
    "evening_delivery = 200\n",
    "evening_sold = 95\n",
    "\n",
    "final_inventory = starting_inventory + morning_delivery - afternoon_sold + evening_delivery - evening_sold\n",
    "need_reorder = final_inventory < 500\n",
    "\n",
    "print(f\"Starting inventory: {starting_inventory}\")\n",
    "print(f\"Final inventory: {final_inventory}\")\n",
    "print(f\"Need to reorder: {need_reorder}\")\n"
   ]
  },
  {
   "cell_type": "code",
   "execution_count": 48,
   "id": "ecdc7614",
   "metadata": {},
   "outputs": [
    {
     "name": "stdout",
     "output_type": "stream",
     "text": [
      "[] <class 'list'>\n",
      "Remaining inventory: 450\n"
     ]
    }
   ],
   "source": [
    "starting_inventory = 450\n",
    "sold = []\n",
    "try:\n",
    "    sold_input = input(\"Enter units sold (e.g., 10 20 5): \")\n",
    "    sold = [int(x) for x in sold_input.split()]  # Convert input to integers\n",
    "    print(sold, type(sold))\n",
    "except ValueError:\n",
    "    print(\"Invalid input. Please enter numbers separated by spaces.\")\n",
    "    sold = [] # Reset sold list if there is a ValueError\n",
    "\n",
    "# Now you can perform an inventory update:\n",
    "starting_inventory -= sum(sold) # subtract sum of sold\n",
    "print(\"Remaining inventory:\", starting_inventory)"
   ]
  },
  {
   "cell_type": "code",
   "execution_count": 49,
   "id": "18737aa7",
   "metadata": {},
   "outputs": [
    {
     "name": "stdout",
     "output_type": "stream",
     "text": [
      "Final Inventory: 150\n",
      "Reorder Needed: True\n",
      "Transactions Data: {'morning': [120], 'afternoon': [85], 'evening': [95]}\n"
     ]
    }
   ],
   "source": [
    "def update_inventory(starting_inventory, transactions):\n",
    "    \"\"\"\n",
    "    Updates inventory based on sales transactions.\n",
    "\n",
    "    Args:\n",
    "        starting_inventory (int): The initial inventory level.\n",
    "        transactions (list): A list of integers representing units sold.\n",
    "\n",
    "    Returns:\n",
    "        tuple: A tuple containing the final inventory level and a boolean\n",
    "               indicating whether reordering is needed.\n",
    "    \"\"\"\n",
    "\n",
    "    final_inventory = starting_inventory - sum(transactions)\n",
    "\n",
    "    reorder_needed = final_inventory < 500\n",
    "\n",
    "    return final_inventory, reorder_needed\n",
    "\n",
    "\n",
    "def main():\n",
    "    \"\"\"\n",
    "    Main function to handle user input and inventory updates.\n",
    "    \"\"\"\n",
    "\n",
    "    starting_inventory = 450\n",
    "    transactions = []\n",
    "    transactions_data = {}  # Dictionary to store transaction details\n",
    "\n",
    "    # Get sales transactions for morning, afternoon, and evening\n",
    "    morning_sales_input = input(\"Enter units sold (morning) (e.g., 10 20 5): \")\n",
    "    try:\n",
    "        morning_sales = [int(x) for x in morning_sales_input.split()]\n",
    "        transactions.extend(morning_sales)\n",
    "        transactions_data[\"morning\"] = morning_sales\n",
    "    except ValueError:\n",
    "        print(\"Invalid input. Please enter numbers separated by spaces for morning sales.\")\n",
    "        morning_sales = []\n",
    "\n",
    "    afternoon_sales_input = input(\"Enter units sold (afternoon) (e.g., 10 20 5): \")\n",
    "    try:\n",
    "        afternoon_sales = [int(x) for x in afternoon_sales_input.split()]\n",
    "        transactions.extend(afternoon_sales)\n",
    "        transactions_data[\"afternoon\"] = afternoon_sales\n",
    "    except ValueError:\n",
    "        print(\"Invalid input. Please enter numbers separated by spaces for afternoon sales.\")\n",
    "        afternoon_sales = []\n",
    "\n",
    "    evening_sales_input = input(\"Enter units sold (evening) (e.g., 10 20 5): \")\n",
    "    try:\n",
    "        evening_sales = [int(x) for x in evening_sales_input.split()]\n",
    "        transactions.extend(evening_sales)\n",
    "        transactions_data[\"evening\"] = evening_sales\n",
    "    except ValueError:\n",
    "        print(\"Invalid input. Please enter numbers separated by spaces for evening sales.\")\n",
    "        evening_sales = []\n",
    "\n",
    "    final_inventory, reorder_needed = update_inventory(starting_inventory, transactions)\n",
    "\n",
    "    print(\"Final Inventory:\", final_inventory)\n",
    "    print(\"Reorder Needed:\", reorder_needed)\n",
    "    print(\"Transactions Data:\", transactions_data) # Print the dictionary\n",
    "\n",
    "\n",
    "if __name__ == \"__main__\":\n",
    "    main()"
   ]
  },
  {
   "cell_type": "markdown",
   "id": "58583085",
   "metadata": {},
   "source": [
    "## Exercise 3: Employee Shift Calculator\n",
    "Calculate total hours worked by an employee across a week:\n",
    "\n",
    "- Monday: 8 hours\n",
    "- Tuesday: 6 hours\n",
    "- Wednesday: 0 hours (day off)\n",
    "- Thursday: 9 hours\n",
    "- Friday: 7 hours\n",
    "- Saturday: 5 hours\n",
    "- Sunday: 0 hours\n",
    "\n",
    "Calculate regular hours (first 40) and overtime hours (over 40) separately."
   ]
  },
  {
   "cell_type": "code",
   "execution_count": 68,
   "id": "f9c6105b",
   "metadata": {},
   "outputs": [
    {
     "name": "stdout",
     "output_type": "stream",
     "text": [
      "Enter work hours from monday to Sunday.\n",
      "[8, 6, 0, 9, 7, 5, 0] <class 'list'>\n",
      "35\n"
     ]
    }
   ],
   "source": [
    "print(\"Enter work hours from monday to Sunday.\")\n",
    "work_hrs = []\n",
    "hours = input()\n",
    "work_hrs = [int(x) for x in hours.split()]\n",
    "print(work_hrs, type(work_hrs))\n",
    "overtime = 0\n",
    "if sum(work_hrs) > 40:\n",
    "    overtime = sum(work_hrs) - 40\n",
    "    print(overtime)\n",
    "    print(\"regular Hours 40\")\n",
    "else:\n",
    "    print(sum(work_hrs))\n",
    "    "
   ]
  },
  {
   "cell_type": "code",
   "execution_count": 85,
   "id": "be75f8a7",
   "metadata": {},
   "outputs": [
    {
     "name": "stdout",
     "output_type": "stream",
     "text": [
      "Regular Hours: 40\n"
     ]
    }
   ],
   "source": [
    "try:\n",
    "    work_hrs = []\n",
    "    for i in range(7):  # Iterate through the days of the week\n",
    "        hours = input(f\"Enter hours for {i+1}: \")\n",
    "        work_hrs.append(int(hours))\n",
    "except ValueError:\n",
    "    print(\"Invalid input. Please enter numbers only.\")\n",
    "    exit()\n",
    "\n",
    "regular_hours = 0\n",
    "for hour in work_hrs:\n",
    "    if hour <= 40:\n",
    "        regular_hours += hour\n",
    "\n",
    "overtime = 0\n",
    "if sum(work_hrs) > 40:\n",
    "    overtime = sum(work_hrs) - 40\n",
    "\n",
    "print(\"Regular Hours:\", regular_hours)\n",
    "if overtime > 0:\n",
    "    print(\"Overtime Hours:\", overtime)"
   ]
  },
  {
   "cell_type": "markdown",
   "id": "c28289da",
   "metadata": {},
   "source": [
    "# Float"
   ]
  },
  {
   "cell_type": "markdown",
   "id": "7b66c989",
   "metadata": {},
   "source": [
    "## Exercise 4: Coffee Shop Revenue\n",
    "A coffee shop tracks daily sales. Calculate average daily revenue from this week's data:\n",
    "\n",
    "- Monday: $342.50\n",
    "- Tuesday: $289.75\n",
    "- Wednesday: $456.25\n",
    "- Thursday: $378.90\n",
    "- Friday: $523.40\n",
    "- Saturday: $601.80\n",
    "- Sunday: $445.15\n",
    "\n",
    "Also calculate the percentage increase from Monday to Sunday."
   ]
  },
  {
   "cell_type": "code",
   "execution_count": 1,
   "id": "8d24c277",
   "metadata": {},
   "outputs": [
    {
     "name": "stdout",
     "output_type": "stream",
     "text": [
      "\n",
      "Exercise 4: Coffee Shop Revenue\n",
      "Average daily revenue: $433.96\n",
      "Monday to Sunday increase: 30.0%\n"
     ]
    }
   ],
   "source": [
    "# Exercise 4: Coffee Shop Revenue\n",
    "print(\"\\nExercise 4: Coffee Shop Revenue\")\n",
    "daily_sales = [342.50, 289.75, 456.25, 378.90, 523.40, 601.80, 445.15]\n",
    "average_revenue = sum(daily_sales) / len(daily_sales)\n",
    "monday_sales = daily_sales[0]\n",
    "sunday_sales = daily_sales[6]\n",
    "percentage_increase = ((sunday_sales - monday_sales) / monday_sales) * 100\n",
    "\n",
    "print(f\"Average daily revenue: ${average_revenue:.2f}\")\n",
    "print(f\"Monday to Sunday increase: {percentage_increase:.1f}%\")"
   ]
  },
  {
   "cell_type": "markdown",
   "id": "bdc52c88",
   "metadata": {},
   "source": [
    "## Exercise 5: Stock Portfolio Tracker\n",
    "Track a stock's performance. Starting price: $45.67\n",
    "\n",
    "- Day 1: +2.3% change\n",
    "- Day 2: -1.8% change\n",
    "- Day 3: +0.9% change\n",
    "- Day 4: +3.2% change\n",
    "- Day 5: -2.1% change\n",
    "\n",
    "Calculate the final price and total percentage change over the 5 days."
   ]
  },
  {
   "cell_type": "code",
   "execution_count": 5,
   "id": "12d959f6",
   "metadata": {},
   "outputs": [
    {
     "name": "stdout",
     "output_type": "stream",
     "text": [
      "\n",
      "Exercise 5: Stock Portfolio Tracker\n",
      "46.72041\n",
      "45.87944262\n",
      "46.292357603579994\n",
      "47.77371304689456\n",
      "46.77046507290977\n",
      "Starting price: $45.67\n",
      "Final price: $46.77\n",
      "Total percentage change: 2.41%\n"
     ]
    }
   ],
   "source": [
    "# Exercise 5: Stock Portfolio Tracker\n",
    "print(\"\\nExercise 5: Stock Portfolio Tracker\")\n",
    "starting_price = 45.67\n",
    "changes = [2.3, -1.8, 0.9, 3.2, -2.1]\n",
    "current_price = starting_price\n",
    "\n",
    "for change in changes:\n",
    "    current_price = current_price * (1 + change / 100)\n",
    "    print(current_price)\n",
    "\n",
    "total_percentage_change = ((current_price - starting_price) / starting_price) * 100\n",
    "\n",
    "print(f\"Starting price: ${starting_price:.2f}\")\n",
    "print(f\"Final price: ${current_price:.2f}\")\n",
    "print(f\"Total percentage change: {total_percentage_change:.2f}%\")"
   ]
  },
  {
   "cell_type": "markdown",
   "id": "42c12cf8",
   "metadata": {},
   "source": [
    "## Exercise 6: Recipe Scaling\n",
    "A recipe serves 4 people and requires:\n",
    "\n",
    "- 2.5 cups flour\n",
    "- 1.75 cups milk\n",
    "- 0.5 cups sugar\n",
    "\n",
    "Scale this recipe to serve 15 people. Calculate the new ingredient amounts."
   ]
  },
  {
   "cell_type": "code",
   "execution_count": 9,
   "id": "f09672bb",
   "metadata": {},
   "outputs": [
    {
     "name": "stdout",
     "output_type": "stream",
     "text": [
      "[9.375, 6.5625, 1.875]\n"
     ]
    }
   ],
   "source": [
    "serve_four = [2.5, 1.75, 0.5]\n",
    "serve_one = [x/4 for x in serve_four]\n",
    "serve_x =[x*15 for x in serve_one]\n",
    "print(serve_x)"
   ]
  },
  {
   "cell_type": "code",
   "execution_count": 12,
   "id": "0f2be7a3",
   "metadata": {},
   "outputs": [
    {
     "name": "stdout",
     "output_type": "stream",
     "text": [
      "\n",
      "Exercise 6: Recipe Scaling\n",
      "For 15 people:\n",
      "Flour: 9.38 cups\n",
      "Milk: 6.56 cups\n",
      "Sugar: 1.88 cups\n"
     ]
    }
   ],
   "source": [
    "# Exercise 6: Recipe Scaling\n",
    "print(\"\\nExercise 6: Recipe Scaling\")\n",
    "original_servings = 4\n",
    "new_servings = int(input(\"Enter Number of servings: \"))\n",
    "scale_factor = new_servings / original_servings\n",
    "\n",
    "flour = 2.5 * scale_factor\n",
    "milk = 1.75 * scale_factor\n",
    "sugar = 0.5 * scale_factor\n",
    "\n",
    "print(f\"For {new_servings} people:\")\n",
    "print(f\"Flour: {flour:.2f} cups\")\n",
    "print(f\"Milk: {milk:.2f} cups\")\n",
    "print(f\"Sugar: {sugar:.2f} cups\")"
   ]
  }
 ],
 "metadata": {
  "kernelspec": {
   "display_name": "Python 3",
   "language": "python",
   "name": "python3"
  },
  "language_info": {
   "codemirror_mode": {
    "name": "ipython",
    "version": 3
   },
   "file_extension": ".py",
   "mimetype": "text/x-python",
   "name": "python",
   "nbconvert_exporter": "python",
   "pygments_lexer": "ipython3",
   "version": "3.13.5"
  }
 },
 "nbformat": 4,
 "nbformat_minor": 5
}
