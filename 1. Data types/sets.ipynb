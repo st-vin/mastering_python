{
 "cells": [
  {
   "cell_type": "markdown",
   "id": "2a23574b",
   "metadata": {},
   "source": [
    "# Sets\n",
    "A set is an unordered collection with no duplicate elements. Basic uses include membership testing and eliminating duplicate entries. Set objects also support mathematical operations like union, intersection, difference, and symmetric difference.\n",
    "\n",
    "Curly braces or the set() function can be used to create sets. Note: to create an empty set you have to use set(), not {}; the latter creates an empty dictionary."
   ]
  },
  {
   "cell_type": "code",
   "execution_count": 16,
   "id": "8818d213",
   "metadata": {},
   "outputs": [
    {
     "name": "stdout",
     "output_type": "stream",
     "text": [
      "{'orange', 'apple', 'banana', 'pear'}\n",
      "{'a', 'd', 'r', 'c', 'b'}\n",
      "{'z', 'a', 'm', 'c', 'l'}\n",
      "{'b', 'd', 'r'}\n",
      "{'z', 'a', 'm', 'd', 'r', 'c', 'l', 'b'}\n",
      "{'a', 'c'}\n",
      "{'m', 'd', 'r', 'l', 'b', 'z'}\n"
     ]
    }
   ],
   "source": [
    "fruits = {'apple', 'orange', 'pear', 'orange', 'banana'}\n",
    "print(fruits) # Duplicates are removed\n",
    "'orange' in fruits\n",
    "\n",
    "# Demonstrate set operations on unique letters from two words\n",
    "a = set('abracadabra')\n",
    "b = set('alacazam')\n",
    "print(a) # unique letters in a\n",
    "print(b) # unique letters in b\n",
    "print(a-b) # letters in a but not in b\n",
    "print(a|b) # letters in a or b or both\n",
    "print(a&b) # letters in both a and b\n",
    "print(a^b) # letters in a or b but not both"
   ]
  },
  {
   "cell_type": "code",
   "execution_count": 20,
   "id": "c1e56886",
   "metadata": {},
   "outputs": [
    {
     "name": "stdout",
     "output_type": "stream",
     "text": [
      "{'r', 'd'}\n"
     ]
    }
   ],
   "source": [
    "# set comprehension\n",
    "a = {x for x in 'abracadabra' if x not in 'abc'}\n",
    "print(a)"
   ]
  }
 ],
 "metadata": {
  "kernelspec": {
   "display_name": "Python 3",
   "language": "python",
   "name": "python3"
  },
  "language_info": {
   "codemirror_mode": {
    "name": "ipython",
    "version": 3
   },
   "file_extension": ".py",
   "mimetype": "text/x-python",
   "name": "python",
   "nbconvert_exporter": "python",
   "pygments_lexer": "ipython3",
   "version": "3.13.5"
  }
 },
 "nbformat": 4,
 "nbformat_minor": 5
}
