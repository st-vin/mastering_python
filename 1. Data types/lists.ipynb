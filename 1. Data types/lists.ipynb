{
 "cells": [
  {
   "cell_type": "markdown",
   "id": "36cd742a",
   "metadata": {},
   "source": [
    "Python knows a number of compound data types, used to group together other values. The most versatile is the list, which can be written as a list of comma-separated values (items) between square brackets. Lists might contain items of different types, but usually the items all have the same type.\n",
    "\n",
    "Lists can be indexed and sliced.\n",
    "\n",
    "Lists supports like concatenation.\n",
    "\n",
    "Lists are mutable.\n",
    "\n",
    "Add new items at the end of lists by using the list.append() method"
   ]
  },
  {
   "cell_type": "code",
   "execution_count": 59,
   "id": "b4e7efdf",
   "metadata": {},
   "outputs": [
    {
     "name": "stdout",
     "output_type": "stream",
     "text": [
      "[1, 4, 9, 16, 21]\n",
      "1\n",
      "[16, 21]\n",
      "[1, 4, 9, 16, 21, 36, 49, 64, 81, 100]\n"
     ]
    },
    {
     "data": {
      "text/plain": [
       "[1, 4, 9, 16, 25, 36]"
      ]
     },
     "execution_count": 59,
     "metadata": {},
     "output_type": "execute_result"
    }
   ],
   "source": [
    "squares = [1, 4, 9, 16, 21]\n",
    "print(squares)\n",
    "print(squares [0])\n",
    "print(squares [3:5])\n",
    "\n",
    "print (squares + [36, 49, 64, 81, 100]) #concatenation\n",
    "\n",
    "squares [4] = 25\n",
    "squares\n",
    "\n",
    "squares.append(36)\n",
    "squares\n"
   ]
  },
  {
   "cell_type": "markdown",
   "id": "12dcc6d9",
   "metadata": {},
   "source": [
    "Simple assignment in Python never copies data. When you assign a list to a variable, the variable refers to the existing list. Any changes you make to the list through one variable will be seen through all other variables that refer to it.\n",
    "\n",
    "All slice operations return a new list containing the requested elements. This means that the following slice returns a shallow copy of the list:\n",
    "\n",
    "Assignment to slices is possible.\n",
    "\n",
    "It is possible to nest lists (create lists containing other lists)"
   ]
  },
  {
   "cell_type": "code",
   "execution_count": 60,
   "id": "63c066e4",
   "metadata": {},
   "outputs": [
    {
     "name": "stdout",
     "output_type": "stream",
     "text": [
      "['red', 'green', 'blue']\n",
      "['red', 'green', 'blue']\n",
      "['red', 'green', 'blue', 'amber']\n",
      "['red', 'green', 'blue', 'amber']\n",
      "['red', 'green', 'blue', 'violet'] ['red', 'green', 'blue', 'amber']\n",
      "['red', 'black', 'white', 'violet']\n",
      "['red', 'violet']\n",
      "[]\n",
      "[['red', 'green', 'blue', 'amber'], ['red', 'green', 'blue', 'amber'], []]\n"
     ]
    }
   ],
   "source": [
    "rgb = [\"red\", \"green\", \"blue\"]\n",
    "print(rgb)\n",
    "rgba = rgb\n",
    "print(rgba)\n",
    "id(rgb) == id(rgba)\n",
    "rgba.append(\"amber\")\n",
    "print(rgb)\n",
    "print(rgba)\n",
    "\n",
    "correct_rgba = rgba[:]\n",
    "id(correct_rgba) == id(rgba) # False because of the shallow copy\n",
    "correct_rgba[-1] = \"violet\"\n",
    "print(correct_rgba, rgba)\n",
    "\n",
    "# Assignment to slices\n",
    "correct_rgba[1:3] = [\"black\", \"white\"]\n",
    "print(correct_rgba)\n",
    "correct_rgba[1:3] = []\n",
    "print (correct_rgba)\n",
    "correct_rgba[:] = []\n",
    "print (correct_rgba)\n",
    "len(rgb)\n",
    "\n",
    "#Nesting Lists\n",
    "color = [rgb, rgba, correct_rgba]\n",
    "print(color)"
   ]
  },
  {
   "cell_type": "markdown",
   "id": "88e2fed2",
   "metadata": {},
   "source": [
    "The list data type has some more methods. Here are all of the methods of list objects:\n",
    "\n",
    "list.append(x)\n",
    "Add an item to the end of the list. Similar to a[len(a):] = [x].\n",
    "\n",
    "list.extend(iterable)\n",
    "Extend the list by appending all the items from the iterable. Similar to a[len(a):] = iterable.\n",
    "\n",
    "list.insert(i, x)\n",
    "Insert an item at a given position. The first argument is the index of the element before which to insert, so a.insert(0, x) inserts at the front of the list, and a.insert(len(a), x) is equivalent to a.append(x).\n",
    "\n",
    "list.remove(x)\n",
    "Remove the first item from the list whose value is equal to x. It raises a ValueError if there is no such item.\n",
    "\n",
    "list.pop([i])\n",
    "Remove the item at the given position in the list, and return it. If no index is specified, a.pop() removes and returns the last item in the list. It raises an IndexError if the list is empty or the index is outside the list range.\n",
    "\n",
    "list.clear()\n",
    "Remove all items from the list. Similar to del a[:].\n",
    "\n",
    "list.index(x[, start[, end]])\n",
    "Return zero-based index in the list of the first item whose value is equal to x. Raises a ValueError if there is no such item.\n",
    "\n",
    "The optional arguments start and end are interpreted as in the slice notation and are used to limit the search to a particular subsequence of the list. The returned index is computed relative to the beginning of the full sequence rather than the start argument.\n",
    "\n",
    "list.count(x)\n",
    "Return the number of times x appears in the list.\n",
    "\n",
    "list.sort(*, key=None, reverse=False)\n",
    "Sort the items of the list in place (the arguments can be used for sort customization, see sorted() for their explanation).\n",
    "\n",
    "list.reverse()\n",
    "Reverse the elements of the list in place.\n",
    "\n",
    "list.copy()\n",
    "Return a shallow copy of the list. Similar to a[:]."
   ]
  },
  {
   "cell_type": "code",
   "execution_count": 1,
   "id": "ae03d72f",
   "metadata": {},
   "outputs": [
    {
     "name": "stdout",
     "output_type": "stream",
     "text": [
      "['orange', 'apple', 'pear', 'banana', 'kiwi', 'apple', 'banana']\n",
      "['orange', 'apple', 'pear', 'banana', 'kiwi', 'apple', 'banana', 'grape']\n",
      "1\n",
      "['grape', 'banana', 'apple', 'kiwi', 'banana', 'pear', 'apple', 'orange']\n",
      "['apple', 'apple', 'banana', 'banana', 'grape', 'kiwi', 'orange', 'pear']\n",
      "apple\n",
      "['apple', 'banana', 'banana', 'grape', 'kiwi', 'orange', 'pear']\n",
      "['apple', 'banana', 'banana', 'grape', 'kiwi', 'orange', 'pear', 'pineapple', 'melon']\n",
      "['apple', 'mango', 'banana', 'banana', 'grape', 'kiwi', 'orange', 'pear', 'pineapple', 'melon']\n",
      "2\n",
      "8\n",
      "['apple', 'grape', 'kiwi', 'mango', 'melon', 'orange', 'pear', 'pineapple']\n"
     ]
    }
   ],
   "source": [
    "fruits = ['orange', 'apple', 'pear', 'banana','kiwi', 'apple', 'banana']\n",
    "print(fruits)\n",
    "fruits.append('grape')\n",
    "print(fruits)\n",
    "print (fruits.count('grape'))\n",
    "fruits.index('banana')\n",
    "fruits.index('banana', 4)  # Find next banana starting at position 4\n",
    "fruits.reverse()\n",
    "print(fruits)\n",
    "fruits.sort()\n",
    "print(fruits)\n",
    "print(fruits.pop(0))\n",
    "print(fruits)\n",
    "i = ['pineapple', 'melon']\n",
    "fruits.extend(i)\n",
    "print(fruits)\n",
    "\n",
    "fruits.insert(1, 'mango')\n",
    "print(fruits)\n",
    "\n",
    "len(fruits)\n",
    "print(fruits.count('banana'))\n",
    "fruits.remove('banana')\n",
    "fruits.remove('banana')\n",
    "print (len(fruits))\n",
    "fruits.sort()\n",
    "print(fruits)"
   ]
  },
  {
   "cell_type": "markdown",
   "id": "fc58c700",
   "metadata": {},
   "source": [
    "# Lists as Stacks\n",
    "The list methods make it very easy to use a list as a stack, where the last element added is the first element retrieved (“last-in, first-out”). To add an item to the top of the stack, use append(). To retrieve an item from the top of the stack, use pop() without an explicit index."
   ]
  },
  {
   "cell_type": "code",
   "execution_count": 3,
   "id": "085b6d2c",
   "metadata": {},
   "outputs": [
    {
     "name": "stdout",
     "output_type": "stream",
     "text": [
      "[3, 4, 5, 6, 7]\n",
      "[3, 4, 5, 6]\n",
      "[3, 4]\n"
     ]
    }
   ],
   "source": [
    "stack = [3, 4, 5]\n",
    "stack.append(6)\n",
    "stack.append(7)\n",
    "print(stack)\n",
    "\n",
    "stack.pop()\n",
    "\n",
    "print(stack)\n",
    "\n",
    "stack.pop()\n",
    "\n",
    "stack.pop()\n",
    "\n",
    "print(stack)"
   ]
  },
  {
   "cell_type": "markdown",
   "id": "3b4b7df9",
   "metadata": {},
   "source": [
    "# Lists as Queues\n",
    "It is also possible to use a list as a queue, where the first element added is the first element retrieved (“first-in, first-out”); however, lists are not efficient for this purpose. While appends and pops from the end of list are fast, doing inserts or pops from the beginning of a list is slow (because all of the other elements have to be shifted by one).\n",
    "\n",
    "To implement a queue, use collections.deque which was designed to have fast appends and pops from both ends."
   ]
  },
  {
   "cell_type": "code",
   "execution_count": 4,
   "id": "4169631a",
   "metadata": {},
   "outputs": [
    {
     "name": "stdout",
     "output_type": "stream",
     "text": [
      "deque(['Eric', 'John', 'Michael'])\n",
      "deque(['Eric', 'John', 'Michael', 'Terry', 'Graham'])\n",
      "deque(['Michael', 'Terry', 'Graham'])\n"
     ]
    }
   ],
   "source": [
    "from collections import deque\n",
    "queue = deque([\"Eric\", \"John\", \"Michael\"])\n",
    "print(queue)\n",
    "queue.append(\"Terry\")\n",
    "queue.append(\"Graham\")\n",
    "print(queue)\n",
    "\n",
    "queue.popleft() # The first to arrive now leaves\n",
    "queue.popleft() # The second to arrive now leaves\n",
    "\n",
    "print(queue)"
   ]
  },
  {
   "cell_type": "code",
   "execution_count": 6,
   "id": "0bbd5d0d",
   "metadata": {},
   "outputs": [
    {
     "name": "stdout",
     "output_type": "stream",
     "text": [
      "['Eric', 'John', 'Michael']\n",
      "['Eric', 'John', 'Michael', 'Terry', 'Graham']\n",
      "['Michael', 'Terry', 'Graham']\n"
     ]
    }
   ],
   "source": [
    "queue = ([\"Eric\", \"John\", \"Michael\"])\n",
    "print(queue)\n",
    "queue.append(\"Terry\")\n",
    "queue.append(\"Graham\")\n",
    "print(queue)\n",
    "\n",
    "queue.pop(0) # The first to arrive now leaves\n",
    "queue.pop(0) # The second to arrive now leaves\n",
    "\n",
    "print(queue)"
   ]
  },
  {
   "cell_type": "markdown",
   "id": "f7e12872",
   "metadata": {},
   "source": [
    "# List Comprehension\n",
    "List comprehensions provide a concise way to create lists. Common applications are to make new lists where each element is the result of some operations applied to each member of another sequence or iterable, or to create a subsequence of those elements that satisfy a certain condition."
   ]
  },
  {
   "cell_type": "code",
   "execution_count": 14,
   "id": "ce1fc016",
   "metadata": {},
   "outputs": [
    {
     "data": {
      "text/plain": [
       "[0, 1, 4, 9, 16, 25, 36, 49, 64, 81]"
      ]
     },
     "execution_count": 14,
     "metadata": {},
     "output_type": "execute_result"
    }
   ],
   "source": [
    "squares = []\n",
    "for x in range(10):\n",
    "    squares.append(x**2)\n",
    "\n",
    "squares"
   ]
  },
  {
   "cell_type": "markdown",
   "id": "27b29353",
   "metadata": {},
   "source": [
    "Note that this creates (or overwrites) a variable named x that still exists after the loop completes. We can calculate the list of squares without any side effects using:"
   ]
  },
  {
   "cell_type": "code",
   "execution_count": null,
   "id": "d3c5c5ca",
   "metadata": {},
   "outputs": [
    {
     "name": "stdout",
     "output_type": "stream",
     "text": [
      "[0, 1, 4, 9, 16, 25, 36, 49, 64, 81]\n",
      "[0, 1, 4, 9, 16, 25, 36, 49, 64, 81]\n"
     ]
    }
   ],
   "source": [
    "squares = list(map(lambda x: x**2, range(10)))\n",
    "print(squares)\n",
    "\n",
    "squares = [x**2 for x in range(10)] # more concise and readable.\n",
    "print(squares)\n"
   ]
  },
  {
   "cell_type": "markdown",
   "id": "a7f9530e",
   "metadata": {},
   "source": [
    "A list comprehension consists of brackets containing an expression followed by a for clause, then zero or more for or if clauses. The result will be a new list resulting from evaluating the expression in the context of the for and if clauses which follow it. For example, this listcomp combines the elements of two lists if they are not equal:"
   ]
  },
  {
   "cell_type": "code",
   "execution_count": 24,
   "id": "26205956",
   "metadata": {},
   "outputs": [
    {
     "data": {
      "text/plain": [
       "[(1, 3), (1, 4), (2, 3), (2, 1), (2, 4), (3, 1), (3, 4)]"
      ]
     },
     "execution_count": 24,
     "metadata": {},
     "output_type": "execute_result"
    }
   ],
   "source": [
    "[(x, y) for x in [1,2,3] for y in [3,1,4] if x != y]"
   ]
  },
  {
   "cell_type": "code",
   "execution_count": 25,
   "id": "ba8db6e4",
   "metadata": {},
   "outputs": [
    {
     "data": {
      "text/plain": [
       "[(1, 3), (1, 4), (2, 3), (2, 1), (2, 4), (3, 1), (3, 4)]"
      ]
     },
     "execution_count": 25,
     "metadata": {},
     "output_type": "execute_result"
    }
   ],
   "source": [
    "# Equivalent to\n",
    "# Note how the order of the for and if statements is the same in both these snippets.\n",
    "combs = []\n",
    "for x in [1,2,3]:\n",
    "    for y in [3,1,4]:\n",
    "        if x != y:\n",
    "            combs.append((x, y))\n",
    "\n",
    "combs"
   ]
  },
  {
   "cell_type": "code",
   "execution_count": 35,
   "id": "04f6a436",
   "metadata": {},
   "outputs": [
    {
     "name": "stdout",
     "output_type": "stream",
     "text": [
      "[-4, -2, 0, 2, 4]\n",
      "[-8, -4, 0, 4, 8]\n",
      "[0, 2, 4]\n",
      "[4, 2, 0, 2, 4]\n",
      "['  banana', '  loganberry ', 'passion fruit  ']\n",
      "['banana', 'loganberry', 'passion fruit']\n",
      "[(0, 0), (1, 1), (2, 4), (3, 9), (4, 16), (5, 25)]\n"
     ]
    },
    {
     "data": {
      "text/plain": [
       "[1, 2, 3, 4, 5, 6, 7, 8, 9]"
      ]
     },
     "execution_count": 35,
     "metadata": {},
     "output_type": "execute_result"
    }
   ],
   "source": [
    "# If the expression is a tuple (e.g. the (x, y) in the previous example), it must be parenthesized.\n",
    "vec = [-4, -2, 0, 2, 4]\n",
    "print(vec)\n",
    "\n",
    "# create a new list with the values doubled\n",
    "print([x*2 for x in vec])\n",
    "\n",
    "\n",
    "# filter the list to exclude negative numbers\n",
    "print([x for x in vec if x >= 0])\n",
    "\n",
    "# apply a function to all the elements\n",
    "print([abs(x) for x in vec])\n",
    "\n",
    "# call a method on each element\n",
    "freshfruit = ['  banana', '  loganberry ', 'passion fruit  ']\n",
    "print(freshfruit)\n",
    "print([weapon.strip() for weapon in freshfruit])\n",
    "\n",
    "# create a list of 2-tuples like (number, square)\n",
    "print([(x, x**2) for x in range(6)])\n",
    "\n",
    "# the tuple must be parenthesized, otherwise an error is raised\n",
    "# [x, x**2 for x in range(6)]\n",
    "#   File \"<stdin>\", line 1\n",
    "#     [x, x**2 for x in range(6)]\n",
    "#      ^^^^^^^\n",
    "# SyntaxError: did you forget parentheses around the comprehension target?\n",
    "# flatten a list using a listcomp with two 'for'\n",
    "vec = [[1,2,3], [4,5,6], [7,8,9]]\n",
    "[num for elem in vec for num in elem]"
   ]
  },
  {
   "cell_type": "code",
   "execution_count": 36,
   "id": "432935cc",
   "metadata": {},
   "outputs": [
    {
     "data": {
      "text/plain": [
       "['3.1', '3.14', '3.142', '3.1416', '3.14159']"
      ]
     },
     "execution_count": 36,
     "metadata": {},
     "output_type": "execute_result"
    }
   ],
   "source": [
    "# List comprehensions can contain complex expressions and nested functions:\n",
    "from math import pi\n",
    "[str(round(pi, i)) for i in range(1, 6)]"
   ]
  },
  {
   "cell_type": "code",
   "execution_count": 56,
   "id": "b97cea0c",
   "metadata": {},
   "outputs": [
    {
     "name": "stdout",
     "output_type": "stream",
     "text": [
      "[[1, 5, 9], [2, 6, 10], [3, 7, 11], [4, 8, 12]]\n",
      "[[1, 5, 9], [2, 6, 10], [3, 7, 11], [4, 8, 12]]\n",
      "[[1, 5, 9], [2, 6, 10], [3, 7, 11], [4, 8, 12]]\n",
      "[(1, 5, 9), (2, 6, 10), (3, 7, 11), (4, 8, 12)]\n"
     ]
    }
   ],
   "source": [
    "# Consider the following example of a 3x4 matrix implemented as a list of 3 lists of length 4\n",
    "matrix = [\n",
    "    [1, 2, 3, 4],\n",
    "    [5, 6, 7, 8],\n",
    "    [9, 10, 11, 12],\n",
    "]\n",
    "print([[row[i] for row in matrix] for i in range(4)])\n",
    "\n",
    "# same as:\n",
    "transposed = []\n",
    "for i in range(4):\n",
    "    transposed.append([row[i] for row in matrix])\n",
    "\n",
    "print(transposed)\n",
    "\n",
    "# which in turn is ame as :\n",
    "transposed = []\n",
    "for i in range(4):\n",
    "    # the following 3 lines implement the nested listcomp\n",
    "    transposed_row = []\n",
    "    for row in matrix:\n",
    "        transposed_row.append(row[i])\n",
    "    transposed.append(transposed_row)\n",
    "\n",
    "print(transposed)\n",
    "\n",
    "# In the real world, you should prefer built-in functions to complex flow statements. The zip() function would do a great job for this use case:\n",
    "print(list(zip(*matrix)))\n"
   ]
  },
  {
   "cell_type": "markdown",
   "id": "be40bf4a",
   "metadata": {},
   "source": [
    "# The del statement\n",
    "There is a way to remove an item from a list given its index instead of its value: the del statement. This differs from the pop() method which returns a value. The del statement can also be used to remove slices from a list or clear the entire list (which we did earlier by assignment of an empty list to the slice)."
   ]
  },
  {
   "cell_type": "code",
   "execution_count": 64,
   "id": "34b1e461",
   "metadata": {},
   "outputs": [
    {
     "name": "stdout",
     "output_type": "stream",
     "text": [
      "[1, 66.25, 333, 333, 1234.5]\n",
      "[1, 66.25, 1234.5]\n",
      "[]\n"
     ]
    }
   ],
   "source": [
    "a = [-1, 1, 66.25, 333, 333, 1234.5]\n",
    "del a[0]\n",
    "print(a)\n",
    "\n",
    "del a[2:4]\n",
    "print(a)\n",
    "\n",
    "del a[:]\n",
    "print(a)"
   ]
  },
  {
   "cell_type": "code",
   "execution_count": 67,
   "id": "d3bd1346",
   "metadata": {},
   "outputs": [
    {
     "data": {
      "text/plain": [
       "[0, 1, 4, 9, 16, 25, 36, 49, 64, 81]"
      ]
     },
     "execution_count": 67,
     "metadata": {},
     "output_type": "execute_result"
    }
   ],
   "source": [
    "# Exercise: Create a list of the squares of the numbers from 0 to 9.\n",
    "squares = [x**2 for x in range(10)]\n",
    "squares"
   ]
  },
  {
   "cell_type": "code",
   "execution_count": 69,
   "id": "b4e8a13f",
   "metadata": {},
   "outputs": [
    {
     "data": {
      "text/plain": [
       "[0, 2, 4, 6, 8, 10, 12, 14, 16, 18]"
      ]
     },
     "execution_count": 69,
     "metadata": {},
     "output_type": "execute_result"
    }
   ],
   "source": [
    "# Exercise: Create a list containing the even numbers from 0 to 19.\n",
    "even = [x for x in range(20) if x%2 == 0]\n",
    "even"
   ]
  },
  {
   "cell_type": "code",
   "execution_count": 71,
   "id": "4e329452",
   "metadata": {},
   "outputs": [
    {
     "name": "stdout",
     "output_type": "stream",
     "text": [
      "[1.0, 'Not a square', 'Not a square', 2.0, 'Not a square', 'Not a square', 'Not a square', 'Not a square', 3.0, 'Not a square']\n"
     ]
    }
   ],
   "source": [
    "# Exercise: Create a list of strings where each string is the square root of a perfect square number from 1 to 10 (inclusive). If the number is not a perfect square, include \"Not a square\" in the list.\n",
    "import math\n",
    "results = [math.sqrt(x) if (math.sqrt(x)).is_integer() else \"Not a square\" for x in range(1, 11)]\n",
    "print(results)"
   ]
  },
  {
   "cell_type": "code",
   "execution_count": 82,
   "id": "1d5b590d",
   "metadata": {},
   "outputs": [
    {
     "name": "stdout",
     "output_type": "stream",
     "text": [
      "['Bob', 'Charlie', 'David']\n"
     ]
    }
   ],
   "source": [
    "# Create a list containing the first names of people in a list, but only if their last name ends with \"son\".\n",
    "# Hint: Create a sample list of dictionaries.\n",
    "\n",
    "people = [\n",
    "    {'first': 'Alice', 'last': 'Smith'},\n",
    "    {'first': 'Bob', 'last': 'Johnson'},\n",
    "    {'first': 'Charlie', 'last': 'Huntson'},\n",
    "    {'first': 'David', 'last': 'Kingson'}\n",
    "]\n",
    "result = [person['first'] for person in people if person['last'].endswith('son')]\n",
    "print(result)  # Output: ['Charlie']"
   ]
  },
  {
   "cell_type": "code",
   "execution_count": 84,
   "id": "b9addbe3",
   "metadata": {},
   "outputs": [
    {
     "name": "stdout",
     "output_type": "stream",
     "text": [
      "[4, 8, 12, 16, 20, 8, 16, 24, 32, 40, 12, 24, 36, 48, 60, 16, 32, 48, 64, 80, 20, 40, 60, 80, 100]\n"
     ]
    }
   ],
   "source": [
    "# Create a list of strings, where each string is the product of all the even numbers between 2 and 10 (inclusive).\n",
    "# Hint: Use range() and the modulo operator to generate the even numbers.\n",
    "result = [x * y for x in range(2, 11, 2) for y in range(2, 11, 2)]\n",
    "print(result)"
   ]
  }
 ],
 "metadata": {
  "kernelspec": {
   "display_name": "Python 3",
   "language": "python",
   "name": "python3"
  },
  "language_info": {
   "codemirror_mode": {
    "name": "ipython",
    "version": 3
   },
   "file_extension": ".py",
   "mimetype": "text/x-python",
   "name": "python",
   "nbconvert_exporter": "python",
   "pygments_lexer": "ipython3",
   "version": "3.13.5"
  }
 },
 "nbformat": 4,
 "nbformat_minor": 5
}
