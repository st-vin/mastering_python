{
 "cells": [
  {
   "cell_type": "markdown",
   "id": "4de8baec",
   "metadata": {},
   "source": [
    "# Dictionary\n",
    "\n",
    "Dictionaries are sometimes found in other languages as “associative memories” or “associative arrays”. Unlike sequences, which are indexed by a range of numbers, dictionaries are indexed by keys, which can be any immutable type; strings and numbers can always be keys. Tuples can be used as keys if they contain only strings, numbers, or tuples; if a tuple contains any mutable object either directly or indirectly, it cannot be used as a key. You can’t use lists as keys, since lists can be modified in place using index assignments, slice assignments, or methods like append() and extend().\n",
    "\n",
    "It is best to think of a dictionary as a set of key: value pairs, with the requirement that the keys are unique (within one dictionary). A pair of braces creates an empty dictionary: {}. Placing a comma-separated list of key:value pairs within the braces adds initial key:value pairs to the dictionary; this is also the way dictionaries are written on output.\n",
    "\n",
    "The main operations on a dictionary are storing a value with some key and extracting the value given the key. It is also possible to delete a key:value pair with del. If you store using a key that is already in use, the old value associated with that key is forgotten. It is an error to extract a value using a non-existent key.\n",
    "\n",
    "Performing list(d) on a dictionary returns a list of all the keys used in the dictionary, in insertion order (if you want it sorted, just use sorted(d) instead). To check whether a single key is in the dictionary, use the in keyword."
   ]
  },
  {
   "cell_type": "code",
   "execution_count": 1,
   "id": "764c33c4",
   "metadata": {},
   "outputs": [
    {
     "name": "stdout",
     "output_type": "stream",
     "text": [
      "{'jack': 4908, 'sape': 4139, 'guido': 4127}\n",
      "4908\n",
      "{'jack': 4908, 'sape': 4139, 'guido': 4127, 'jackie': 4908}\n",
      "{'jack': 4908, 'guido': 4127, 'jackie': 4908}\n",
      "{'jack': 4908, 'guido': 4127, 'jackie': 4908, 'irv': 4127}\n",
      "True\n",
      "False\n"
     ]
    }
   ],
   "source": [
    "tel = {'jack': 4908, 'sape': 4139}\n",
    "tel['guido'] = 4127\n",
    "print(tel)\n",
    "tel['jackie'] = 4908\n",
    "print(tel['jack'])\n",
    "print(tel)\n",
    "\n",
    "del tel['sape']\n",
    "print(tel)\n",
    "\n",
    "tel['irv'] = 4127\n",
    "print(tel)\n",
    "\n",
    "list(tel)\n",
    "sorted(tel)\n",
    "\n",
    "print('guido' in tel)\n",
    "print('ronan' in tel)"
   ]
  },
  {
   "cell_type": "markdown",
   "id": "4d22224f",
   "metadata": {},
   "source": [
    "The dict() constructor builds dictionaries directly from sequences of key-value pairs:\n",
    "\n",
    "When the keys are simple strings, it is sometimes easier to specify pairs using keyword arguments:"
   ]
  },
  {
   "cell_type": "code",
   "execution_count": 2,
   "id": "4c7773f4",
   "metadata": {},
   "outputs": [
    {
     "name": "stdout",
     "output_type": "stream",
     "text": [
      "{'sape': 4139, 'guido': 4127, 'jack': 4098}\n",
      "{'sape': 4139, 'guido': 4127, 'jack': 4098}\n"
     ]
    }
   ],
   "source": [
    "print(dict([('sape', 4139), ('guido', 4127), ('jack', 4098)]))\n",
    "\n",
    "# Specifying pairs using keyword arguments\n",
    "print(dict(sape=4139, guido=4127, jack=4098))"
   ]
  },
  {
   "cell_type": "markdown",
   "id": "a5a393fa",
   "metadata": {},
   "source": [
    "dict comprehensions can be used to create dictionaries from arbitrary key and value expressions:"
   ]
  },
  {
   "cell_type": "code",
   "execution_count": 3,
   "id": "e545f28c",
   "metadata": {},
   "outputs": [
    {
     "data": {
      "text/plain": [
       "{2: 4, 4: 16, 6: 36}"
      ]
     },
     "execution_count": 3,
     "metadata": {},
     "output_type": "execute_result"
    }
   ],
   "source": [
    "{x: x**2 for x in (2, 4, 6)}"
   ]
  },
  {
   "cell_type": "markdown",
   "id": "d6153925",
   "metadata": {},
   "source": [
    "write code in python that creates a dictionary comprehension that links a tuple of names as keys to a random 4 digit number"
   ]
  },
  {
   "cell_type": "code",
   "execution_count": 4,
   "id": "dffc01f8",
   "metadata": {},
   "outputs": [
    {
     "name": "stdout",
     "output_type": "stream",
     "text": [
      "<class 'tuple'>\n",
      "{'Alvin': 6726, 'Chumo': 5483, 'Barabasi': 6033}\n"
     ]
    },
    {
     "data": {
      "text/plain": [
       "6726"
      ]
     },
     "execution_count": 4,
     "metadata": {},
     "output_type": "execute_result"
    }
   ],
   "source": [
    "import random\n",
    "\n",
    "user = 'Alvin', 'Chumo', 'Barabasi'\n",
    "print(type(user))\n",
    "\n",
    "user_otp = {x: random.randint(1000, 9999) for x in user}\n",
    "print(user_otp)\n",
    "user_otp['Alvin']"
   ]
  },
  {
   "cell_type": "markdown",
   "id": "3434f6cd",
   "metadata": {},
   "source": [
    "# Looping Techniques\n",
    "\n",
    "When looping through dictionaries, the key and corresponding value can be retrieved at the same time using the items() method."
   ]
  },
  {
   "cell_type": "code",
   "execution_count": 5,
   "id": "636f8e60",
   "metadata": {},
   "outputs": [
    {
     "name": "stdout",
     "output_type": "stream",
     "text": [
      "{'Superman': 'Metropolis', 'Batman': 'Gotham', 'Spiderman': 'Newyork', 'Thor': 'Asgard'}\n",
      "Superman Metropolis\n",
      "Batman Gotham\n",
      "Spiderman Newyork\n",
      "Thor Asgard\n"
     ]
    }
   ],
   "source": [
    "# .items() method\n",
    "Heroes_Cities = {'Superman': 'Metropolis', 'Batman': 'Gotham', 'Spiderman':'Newyork', 'Thor':'Asgard'}\n",
    "print(Heroes_Cities)\n",
    "for x, y in Heroes_Cities.items():\n",
    "    print(x, y)"
   ]
  },
  {
   "cell_type": "markdown",
   "id": "2ec872c1",
   "metadata": {},
   "source": [
    "When looping through a sequence, the position index and corresponding value can be retrieved at the same time using the enumerate() function.\n",
    "\n",
    "To loop over two or more sequences at the same time, the entries can be paired with the zip() function.\n",
    "\n",
    "To loop over a sequence in reverse, first specify the sequence in a forward direction and then call the reversed() function.\n"
   ]
  },
  {
   "cell_type": "code",
   "execution_count": 6,
   "id": "39ef758b",
   "metadata": {},
   "outputs": [
    {
     "name": "stdout",
     "output_type": "stream",
     "text": [
      "0 tic\n",
      "1 tac\n",
      "2 toe\n",
      "0 tic\n",
      "1 tac\n",
      "2 toe\n",
      "What is your name?  It is lancelot.\n",
      "What is your quest?  It is the holy grail.\n",
      "What is your favorite color?  It is blue.\n",
      "9\n",
      "7\n",
      "5\n",
      "3\n",
      "1\n",
      "apple\n",
      "apple\n",
      "banana\n",
      "orange\n",
      "orange\n",
      "pear\n",
      "\n",
      "apple\n",
      "banana\n",
      "orange\n",
      "pear\n"
     ]
    }
   ],
   "source": [
    "for i, v in enumerate(['tic', 'tac', 'toe']):\n",
    "    print(i, v)\n",
    "    \n",
    "for i, v in enumerate(['tic', 'tac', 'toe']):\n",
    "    print(i, v)\n",
    "    \n",
    "questions = ['name', 'quest', 'favorite color']\n",
    "answers = ['lancelot', 'the holy grail', 'blue']\n",
    "for q, a in zip(questions, answers):\n",
    "    print('What is your {0}?  It is {1}.'.format(q, a))\n",
    "    \n",
    "for i in reversed(range(1, 10, 2)):\n",
    "    print(i)\n",
    "    \n",
    "basket = ['apple', 'orange', 'apple', 'pear', 'orange', 'banana']\n",
    "for i in sorted(basket):\n",
    "    print(i)\n",
    "\n",
    "print()\n",
    "basket = ['apple', 'orange', 'apple', 'pear', 'orange', 'banana']\n",
    "for f in sorted(set(basket)):\n",
    "    print(f)"
   ]
  },
  {
   "cell_type": "code",
   "execution_count": 7,
   "id": "4866f187",
   "metadata": {},
   "outputs": [
    {
     "data": {
      "text/plain": [
       "[56.2, 51.7, 55.3, 52.5, 47.8]"
      ]
     },
     "execution_count": 7,
     "metadata": {},
     "output_type": "execute_result"
    }
   ],
   "source": [
    "# It is sometimes tempting to change a list while you are looping over it; however, it is often simpler and safer to create a new list instead.\n",
    "import math\n",
    "raw_data = [56.2, float('NaN'), 51.7, 55.3, 52.5, float('NaN'), 47.8]\n",
    "filtered_data = []\n",
    "for value in raw_data:\n",
    "    if not math.isnan(value):\n",
    "        filtered_data.append(value)\n",
    "\n",
    "filtered_data"
   ]
  }
 ],
 "metadata": {
  "kernelspec": {
   "display_name": "Python 3",
   "language": "python",
   "name": "python3"
  },
  "language_info": {
   "codemirror_mode": {
    "name": "ipython",
    "version": 3
   },
   "file_extension": ".py",
   "mimetype": "text/x-python",
   "name": "python",
   "nbconvert_exporter": "python",
   "pygments_lexer": "ipython3",
   "version": "3.13.5"
  }
 },
 "nbformat": 4,
 "nbformat_minor": 5
}
