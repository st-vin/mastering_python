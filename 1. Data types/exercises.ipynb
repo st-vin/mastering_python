{
 "cells": [
  {
   "cell_type": "markdown",
   "id": "e378cc7d",
   "metadata": {},
   "source": [
    "# 🧪 1. List Exercises"
   ]
  },
  {
   "cell_type": "markdown",
   "id": "964a15d9",
   "metadata": {},
   "source": [
    "## Q1. Clean and Sort Names\n",
    "You're given this list of messy names:\n",
    "\n",
    "```python\n",
    "\n",
    "names = [\" Alice \", \"bob\", \"Charlie \", \"  dave\"]\n",
    "```\n",
    "Write code to:\n",
    "\n",
    "Remove extra spaces\n",
    "\n",
    "Make all names lowercase\n",
    "\n",
    "Sort them alphabetically\n",
    "\n",
    "### Step-by-step:\n",
    " 1. Strip whitespace with `.strip()`\n",
    " 2. Convert to lowercase with `.lower()`\n",
    " 3. Use list comprehension to apply it to all\n",
    " 4. Sort the result using `sorted()`"
   ]
  },
  {
   "cell_type": "code",
   "execution_count": 1,
   "id": "a5b28483",
   "metadata": {},
   "outputs": [
    {
     "name": "stdout",
     "output_type": "stream",
     "text": [
      "[' Alice ', 'bob', 'Charlie ', '  dave'] <class 'list'>\n",
      "['alice', 'bob', 'charlie', 'dave']\n"
     ]
    }
   ],
   "source": [
    "names = [\" Alice \", \"bob\", \"Charlie \", \"  dave\"]\n",
    "print(names, type(names))\n",
    "clean = ([name.strip().lower() for name in names])\n",
    "sorted_names = sorted(clean)\n",
    "print(sorted_names)\n"
   ]
  },
  {
   "cell_type": "markdown",
   "id": "b6208b00",
   "metadata": {},
   "source": [
    "## Q2. Extract Alternate Elements\n",
    "Given:\n",
    "```python\n",
    "scores = [80, 75, 90, 65, 100, 55]\n",
    "```\n",
    "Return a new list with only the scores at even indexes (0, 2, 4...)."
   ]
  },
  {
   "cell_type": "code",
   "execution_count": 2,
   "id": "06011f45",
   "metadata": {},
   "outputs": [
    {
     "name": "stdout",
     "output_type": "stream",
     "text": [
      "[80, 90, 100]\n"
     ]
    }
   ],
   "source": [
    "scores = [80, 75, 90, 65, 100, 55]\n",
    "# Slice with a step of 2 to get elements at even indexes\n",
    "even_index_scores = scores[::2]\n",
    "\n",
    "print(even_index_scores)\n"
   ]
  },
  {
   "cell_type": "markdown",
   "id": "f5a87345",
   "metadata": {},
   "source": [
    "## Q3. Flatten a Nested List\n",
    "```python\n",
    "matrix = [[1, 2], [3, 4], [5, 6]]\n",
    "```\n",
    "Convert it to a single flat list like [1, 2, 3, 4, 5, 6]."
   ]
  },
  {
   "cell_type": "code",
   "execution_count": 3,
   "id": "7148c4b8",
   "metadata": {},
   "outputs": [
    {
     "name": "stdout",
     "output_type": "stream",
     "text": [
      "[1, 2, 3, 4, 5, 6]\n"
     ]
    }
   ],
   "source": [
    "matrix = [[1, 2], [3, 4], [5, 6]]\n",
    "\n",
    "# Use nested list comprehension\n",
    "flattened = [item for sublist in matrix for item in sublist]\n",
    "\n",
    "print(flattened)\n"
   ]
  },
  {
   "cell_type": "markdown",
   "id": "6c75f26d",
   "metadata": {},
   "source": [
    "# 🧪 2. Dictionary Exercises\n",
    "## Q4. Frequency Counter\n",
    "Given:\n",
    "```python\n",
    "words = [\"cat\", \"dog\", \"cat\", \"mouse\", \"dog\", \"dog\"]\n",
    "```\n",
    "Create a dictionary counting how many times each word appears."
   ]
  },
  {
   "cell_type": "code",
   "execution_count": null,
   "id": "ca0e4471",
   "metadata": {},
   "outputs": [
    {
     "name": "stdout",
     "output_type": "stream",
     "text": [
      "{'cat': 2, 'dog': 3, 'mouse': 1}\n"
     ]
    }
   ],
   "source": [
    "words = [\"cat\", \"dog\", \"cat\", \"mouse\", \"dog\", \"dog\"]\n",
    "count_items = {}\n",
    "for item in words:\n",
    "    count_items[item] = count_items.get(item, 0) + 1\n",
    "    \n",
    "print(count_items)\n"
   ]
  },
  {
   "cell_type": "markdown",
   "id": "53b98ddf",
   "metadata": {},
   "source": [
    "## Q5. Invert a Dictionary\n",
    "Given:\n",
    "\n",
    "```python\n",
    "student_grades = {\n",
    "    \"Alice\": \"A\",\n",
    "    \"Bob\": \"B\",\n",
    "    \"Charlie\": \"A\",\n",
    "    \"David\": \"C\"\n",
    "}\n",
    "```\n",
    "Create a new dictionary where keys are grades and values are lists of names with that grade."
   ]
  },
  {
   "cell_type": "code",
   "execution_count": 63,
   "id": "f37e0d25",
   "metadata": {},
   "outputs": [
    {
     "name": "stdout",
     "output_type": "stream",
     "text": [
      "['Alice', 'Bob', 'Charlie', 'David']\n",
      "['A', 'B', 'A', 'C']\n",
      "{'A': 'Charlie', 'B': 'Bob', 'C': 'David'}\n"
     ]
    }
   ],
   "source": [
    "student_grades = {\n",
    "    \"Alice\": \"A\",\n",
    "    \"Bob\": \"B\",\n",
    "    \"Charlie\": \"A\",\n",
    "    \"David\": \"C\"\n",
    "}\n",
    "\n",
    "students = [student for student in student_grades]\n",
    "print(students)\n",
    "\n",
    "grades = [ y for x, y in student_grades.items()]\n",
    "print(grades)\n",
    "# my_dict = {key: value for key, value in zip(keys, values)}\n",
    "\n",
    "grades_student = {key: value for key, value in zip(grades, students)}\n",
    "print(grades_student)\n"
   ]
  },
  {
   "cell_type": "code",
   "execution_count": 66,
   "id": "3ab298a0",
   "metadata": {},
   "outputs": [
    {
     "name": "stdout",
     "output_type": "stream",
     "text": [
      "{'C': ['David'], 'B': ['Bob'], 'A': ['Alice', 'Charlie']}\n"
     ]
    }
   ],
   "source": [
    "student_grades = {\n",
    "    \"Alice\": \"A\",\n",
    "    \"Bob\": \"B\",\n",
    "    \"Charlie\": \"A\",\n",
    "    \"David\": \"C\"\n",
    "}\n",
    "\n",
    "grades_student = {\n",
    "    grade: [student for student, g in student_grades.items() if g == grade]\n",
    "    for grade in set(student_grades.values())  # Iterate through unique grades\n",
    "}\n",
    "\n",
    "print(grades_student)\n",
    "# Output: {'A': ['Alice', 'Charlie'], 'B': ['Bob'], 'C': ['David']}"
   ]
  },
  {
   "cell_type": "code",
   "execution_count": 33,
   "id": "e86d020b",
   "metadata": {},
   "outputs": [
    {
     "name": "stdout",
     "output_type": "stream",
     "text": [
      "{'A': ['Alice', 'Charlie'], 'B': ['Bob'], 'C': ['David']}\n"
     ]
    }
   ],
   "source": [
    "student_grades = {\n",
    "    \"Alice\": \"A\",\n",
    "    \"Bob\": \"B\",\n",
    "    \"Charlie\": \"A\",\n",
    "    \"David\": \"C\"\n",
    "}\n",
    "\n",
    "inverted = {}\n",
    "for student, grade in student_grades.items():\n",
    "    if grade not in inverted:\n",
    "        inverted[grade] = []\n",
    "    inverted[grade].append(student)\n",
    "\n",
    "print(inverted)\n",
    "# Output: {'A': ['Alice', 'Charlie'], 'B': ['Bob'], 'C': ['David']}\n"
   ]
  },
  {
   "cell_type": "markdown",
   "id": "5c3730a4",
   "metadata": {},
   "source": [
    "## Q6. Update with Condition\n",
    "Given:\n",
    "```python\n",
    "products = {\n",
    "    \"apple\": 50,\n",
    "    \"banana\": 30,\n",
    "    \"orange\": 60\n",
    "}\n",
    "```\n",
    "Increase the price of every product by 10 only if the current price is below 50."
   ]
  },
  {
   "cell_type": "code",
   "execution_count": 61,
   "id": "a03e3aab",
   "metadata": {},
   "outputs": [
    {
     "name": "stdout",
     "output_type": "stream",
     "text": [
      "['apple', 'banana', 'orange']\n",
      "[50, 30, 60]\n",
      "[50, 40, 60]\n",
      "{'apple': 50, 'banana': 40, 'orange': 60}\n"
     ]
    }
   ],
   "source": [
    "products = {\n",
    "    \"apple\": 50,\n",
    "    \"banana\": 30,\n",
    "    \"orange\": 60\n",
    "}\n",
    "product = [y for y in products ]\n",
    "print(product)\n",
    "price = [y for x,y in products.items()]\n",
    "print(price)\n",
    "\n",
    "updated = []\n",
    "for x in price:\n",
    "    if x < 50:\n",
    "        x += 10\n",
    "    updated.append((x))\n",
    "    \n",
    "print(updated)\n",
    "# my_dict = {key: value for key, value in zip(keys, values)}\n",
    "updated_products = {key: value for key , value in zip(product, updated)}\n",
    "print(updated_products)\n"
   ]
  },
  {
   "cell_type": "code",
   "execution_count": 62,
   "id": "0d514d58",
   "metadata": {},
   "outputs": [
    {
     "name": "stdout",
     "output_type": "stream",
     "text": [
      "{'apple': 50, 'banana': 40, 'orange': 60}\n"
     ]
    }
   ],
   "source": [
    "products = {\n",
    "    \"apple\": 50,\n",
    "    \"banana\": 30,\n",
    "    \"orange\": 60\n",
    "}\n",
    "\n",
    "for product in products:\n",
    "    if products[product] < 50:\n",
    "        products[product] += 10\n",
    "\n",
    "print(products)\n",
    "# Output: {'apple': 50, 'banana': 40, 'orange': 60}\n",
    "\n",
    "# 🧠 You can’t modify a dict while iterating over products.items() if values are changing, so it’s safer to loop by key."
   ]
  },
  {
   "cell_type": "markdown",
   "id": "5f5e91b1",
   "metadata": {},
   "source": [
    "# 🧪 3. Comprehension Challenges"
   ]
  },
  {
   "cell_type": "markdown",
   "id": "33d4f97c",
   "metadata": {},
   "source": [
    "## Q7. List Comprehension with Filter\n",
    "Given a list of temperatures in Celsius:\n",
    "\n",
    "```python\n",
    "temps = [36.5, 37.2, 38.0, 36.9, 39.1]\n",
    "```\n",
    "Use a list comprehension to create a new list with only the temperatures above 37°C.\n",
    "\n"
   ]
  },
  {
   "cell_type": "code",
   "execution_count": 1,
   "id": "9aedb88e",
   "metadata": {},
   "outputs": [
    {
     "name": "stdout",
     "output_type": "stream",
     "text": [
      "[37.2, 38.0, 39.1]\n"
     ]
    }
   ],
   "source": [
    "temps = [36.5, 37.2, 38.0, 36.9, 39.1]\n",
    "\n",
    "above = [x for x in temps if x > 37]\n",
    "print(above)"
   ]
  },
  {
   "cell_type": "markdown",
   "id": "fa78f931",
   "metadata": {},
   "source": [
    "## Q8. Dict Comprehension with Transformation\n",
    "You’re given this list:\n",
    "\n",
    "```python\n",
    "names = [\"alvin\", \"brenda\", \"carol\"]\n",
    "```\n",
    "Use a dictionary comprehension to create:\n",
    "\n",
    "```python\n",
    "{\"alvin\": 5, \"brenda\": 6, \"carol\": 5}\n",
    "```\n",
    "Where the value is the length of each name."
   ]
  },
  {
   "cell_type": "code",
   "execution_count": 13,
   "id": "62f798e6",
   "metadata": {},
   "outputs": [
    {
     "name": "stdout",
     "output_type": "stream",
     "text": [
      "5\n",
      "6\n",
      "5\n",
      "[5, 6, 5]\n",
      "{'alvin': 5, 'brenda': 6, 'carol': 5}\n"
     ]
    }
   ],
   "source": [
    "names = [\"alvin\", \"brenda\", \"carol\"]\n",
    "length = []\n",
    "for name in names:\n",
    "    print(len(name)) \n",
    "    length.append(len(name))      \n",
    "len(names[0])\n",
    "print(length)\n",
    "# my_dict = {key: value for key, value in zip(keys, values)}\n",
    "name_length = {key: value for key, value in zip(names, length)}\n",
    "print(name_length)"
   ]
  },
  {
   "cell_type": "code",
   "execution_count": 14,
   "id": "56b3d7c9",
   "metadata": {},
   "outputs": [
    {
     "name": "stdout",
     "output_type": "stream",
     "text": [
      "{'alvin': 5, 'brenda': 6, 'carol': 5}\n"
     ]
    }
   ],
   "source": [
    "names = [\"alvin\", \"brenda\", \"carol\"]\n",
    "\n",
    "name_lengths = {name: len(name) for name in names}\n",
    "\n",
    "print(name_lengths)\n",
    "# Output: {'alvin': 5, 'brenda': 6, 'carol': 5}\n",
    "\n",
    "# {key_expr: value_expr for item in iterable}\n"
   ]
  },
  {
   "cell_type": "markdown",
   "id": "29812c08",
   "metadata": {},
   "source": [
    "## Q9. Set Comprehension\n",
    "From a list of tweets:\n",
    "\n",
    "```python\n",
    "\n",
    "tweets = [\"#ai\", \"#data\", \"#ai\", \"#python\", \"#data\", \"#ml\"]\n",
    "```\n",
    "Get a set of unique hashtags using comprehension."
   ]
  },
  {
   "cell_type": "code",
   "execution_count": 17,
   "id": "8ed0aceb",
   "metadata": {},
   "outputs": [
    {
     "name": "stdout",
     "output_type": "stream",
     "text": [
      "{'#ml', '#data', '#python', '#ai'} <class 'set'>\n"
     ]
    }
   ],
   "source": [
    "tweets = [\"#ai\", \"#data\", \"#ai\", \"#python\", \"#data\", \"#ml\"]\n",
    "unique_hashtags = set(tweets)\n",
    "print(unique_hashtags, type(unique_hashtags))"
   ]
  },
  {
   "cell_type": "code",
   "execution_count": 18,
   "id": "a54b57cd",
   "metadata": {},
   "outputs": [
    {
     "name": "stdout",
     "output_type": "stream",
     "text": [
      "{'#ml', '#data', '#python', '#ai'} <class 'set'>\n"
     ]
    }
   ],
   "source": [
    "tweets = [\"#ai\", \"#data\", \"#ai\", \"#python\", \"#data\", \"#ml\"]\n",
    "\n",
    "unique_hashtags = {tag for tag in tweets}\n",
    "\n",
    "print(unique_hashtags, type(unique_hashtags))\n",
    "# Output: {'#ai', '#ml', '#data', '#python'}\n"
   ]
  },
  {
   "cell_type": "markdown",
   "id": "325c842c",
   "metadata": {},
   "source": [
    "## Q10. Nested List Comprehension\n",
    "You have:\n",
    "\n",
    "```python\n",
    "matrix = [[1, 2, 3], [4, 5, 6]]\n",
    "```\n",
    "Use a single comprehension to get a list of all the values squared.\n",
    "\n"
   ]
  },
  {
   "cell_type": "code",
   "execution_count": 24,
   "id": "ea6a7167",
   "metadata": {},
   "outputs": [
    {
     "name": "stdout",
     "output_type": "stream",
     "text": [
      "[[1, 2, 3], [4, 5, 6]]\n",
      "[1, 2, 3, 4, 5, 6]\n",
      "[1, 4, 9, 16, 25, 36]\n"
     ]
    }
   ],
   "source": [
    "matrix = [[1, 2, 3], [4, 5, 6]]\n",
    "print(matrix)\n",
    "# flattened = [item for sublist in matrix for item in sublist]\n",
    "flatten_matrix = [item for sublist in matrix for item in sublist]\n",
    "print(flatten_matrix)\n",
    "matrix_square = [x**2 for x in flatten_matrix]\n",
    "print(matrix_square)"
   ]
  },
  {
   "cell_type": "code",
   "execution_count": 26,
   "id": "b327c0b4",
   "metadata": {},
   "outputs": [
    {
     "name": "stdout",
     "output_type": "stream",
     "text": [
      "[1, 4, 9, 16, 25, 36]\n"
     ]
    }
   ],
   "source": [
    "matrix = [[1, 2, 3], [4, 5, 6]]\n",
    "\n",
    "squares = [x**2 for row in matrix for x in row]\n",
    "\n",
    "print(squares)\n",
    "# Output: [1, 4, 9, 16, 25, 36]\n",
    "# 🧠 Order matters: inner loop (for x in row) is nested inside the outer loop."
   ]
  },
  {
   "cell_type": "code",
   "execution_count": 28,
   "id": "6be3c0af",
   "metadata": {},
   "outputs": [
    {
     "name": "stdout",
     "output_type": "stream",
     "text": [
      "[[1, 2, 3, 4], [5, 6, 7, 8], [9, 10, 11, 12]]\n",
      "[1, 4, 9, 16, 25, 36, 49, 64, 81, 100, 121, 144]\n"
     ]
    }
   ],
   "source": [
    "matrix = [\n",
    "    [1, 2, 3, 4],\n",
    "    [5, 6, 7, 8],\n",
    "    [9, 10, 11, 12],\n",
    "]\n",
    "print(matrix)\n",
    "square = [x**2 for row in matrix for x in row]\n",
    "print(square)"
   ]
  },
  {
   "cell_type": "markdown",
   "id": "da68b7a5",
   "metadata": {},
   "source": [
    "#  🧠4. Final Mixed Real-World Exercises"
   ]
  },
  {
   "cell_type": "markdown",
   "id": "9589b65d",
   "metadata": {},
   "source": [
    "Q11. JSON-like Filtering\n",
    "You have this data:\n",
    "\n",
    "```python\n",
    "people = [\n",
    "    {\"name\": \"Alvin\", \"age\": 21},\n",
    "    {\"name\": \"Brenda\", \"age\": 17},\n",
    "    {\"name\": \"Chris\", \"age\": 19}\n",
    "]\n",
    "```\n",
    "Create a list of names for people 18 and above using a list comprehension."
   ]
  },
  {
   "cell_type": "code",
   "execution_count": 43,
   "id": "2383ea01",
   "metadata": {},
   "outputs": [
    {
     "name": "stdout",
     "output_type": "stream",
     "text": [
      "['Alvin', 'Chris']\n"
     ]
    }
   ],
   "source": [
    "people = [\n",
    "    {\"name\": \"Alvin\", \"age\": 21},\n",
    "    {\"name\": \"Brenda\", \"age\": 17},\n",
    "    {\"name\": \"Chris\", \"age\": 19}\n",
    "]\n",
    "\n",
    "adults = [person[\"name\"] for person in people if person[\"age\"] >= 18]\n",
    "print(adults)\n"
   ]
  },
  {
   "cell_type": "markdown",
   "id": "e9399c50",
   "metadata": {},
   "source": [
    "## Q12. Build a Lookup Table\n",
    "You have:\n",
    "\n",
    "```python\n",
    "items = [\"pen\", \"notebook\", \"eraser\"]\n",
    "prices = [10, 50, 5]\n",
    "```\n",
    "Create a dictionary where keys are items and values are prices — but only include items priced above 10."
   ]
  },
  {
   "cell_type": "code",
   "execution_count": 50,
   "id": "3f7f78de",
   "metadata": {},
   "outputs": [
    {
     "name": "stdout",
     "output_type": "stream",
     "text": [
      "{'notebook': 50}\n"
     ]
    }
   ],
   "source": [
    "items = [\"pen\", \"notebook\", \"eraser\"]\n",
    "prices = [10, 50, 5]\n",
    "# my_dict = {key: value for key, value in zip(keys, values)}\n",
    "lookup = {key: value for key, value in zip(items, prices) if value > 10}\n",
    "# lookup = {item: price for item, price in zip(items, prices) if price > 10}\n",
    "print(lookup)"
   ]
  },
  {
   "cell_type": "markdown",
   "id": "f08e8221",
   "metadata": {},
   "source": [
    "## Q13. Find Duplicates Using Comprehensions Only\n",
    "Given:\n",
    "\n",
    "```python\n",
    "data = [1, 2, 2, 3, 4, 4, 5]\n",
    "```\n",
    "Create a set containing all values that appear more than once using set comprehension and one-liners only."
   ]
  },
  {
   "cell_type": "code",
   "execution_count": null,
   "id": "fa164f90",
   "metadata": {},
   "outputs": [
    {
     "name": "stdout",
     "output_type": "stream",
     "text": [
      "{2, 4}\n"
     ]
    },
    {
     "data": {
      "text/plain": [
       "1"
      ]
     },
     "execution_count": 5,
     "metadata": {},
     "output_type": "execute_result"
    }
   ],
   "source": [
    "data = [1, 2, 2, 3, 4, 4, 5]\n",
    "duplicate = {x for x in data if data.count(x)>1}\n",
    "print(duplicate)"
   ]
  },
  {
   "cell_type": "code",
   "execution_count": null,
   "id": "0a4861a1",
   "metadata": {},
   "outputs": [
    {
     "name": "stdout",
     "output_type": "stream",
     "text": [
      "{2, 4}\n"
     ]
    }
   ],
   "source": [
    "data = [1, 2, 2, 3, 4, 4, 5]\n",
    "seen = set()\n",
    "duplicates = {x for x in data if x in seen or seen.add(x)}\n",
    "print(duplicates)\n",
    "# Output: {2, 4}\n",
    "\n",
    "# set.add() returns None, so the or forces evaluation.\n",
    "\n",
    "# First time x is seen → seen.add(x) runs → returns None → False.\n",
    "\n",
    "# Second time → x in seen is True."
   ]
  }
 ],
 "metadata": {
  "kernelspec": {
   "display_name": "Python 3",
   "language": "python",
   "name": "python3"
  },
  "language_info": {
   "codemirror_mode": {
    "name": "ipython",
    "version": 3
   },
   "file_extension": ".py",
   "mimetype": "text/x-python",
   "name": "python",
   "nbconvert_exporter": "python",
   "pygments_lexer": "ipython3",
   "version": "3.13.5"
  }
 },
 "nbformat": 4,
 "nbformat_minor": 5
}
