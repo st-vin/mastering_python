{
 "cells": [
  {
   "cell_type": "markdown",
   "id": "b7b1aba1",
   "metadata": {},
   "source": [
    "# Tuples\n",
    "It is a standard sequence data type.\n",
    "It consists of a number of values separated by commas."
   ]
  },
  {
   "cell_type": "code",
   "execution_count": 10,
   "id": "bc4a0a97",
   "metadata": {},
   "outputs": [
    {
     "name": "stdout",
     "output_type": "stream",
     "text": [
      "12345\n",
      "(12345, 54321, 'hello!')\n"
     ]
    },
    {
     "data": {
      "text/plain": [
       "((12345, 54321, 'hello!'), (1, 2, 3, 4))"
      ]
     },
     "execution_count": 10,
     "metadata": {},
     "output_type": "execute_result"
    }
   ],
   "source": [
    "Tuple = 12345, 54321, 'hello!'\n",
    "print(Tuple[0])\n",
    "print(Tuple)\n",
    "\n",
    "# Tuples may be nested\n",
    "nest =  Tuple, (1, 2, 3, 4)\n",
    "nest[1]\n",
    "nest\n",
    "\n",
    "# Tuples are immutable\n",
    "# Tuple[0] = 69 TypeError: 'tuple' object does not support item assignment"
   ]
  },
  {
   "cell_type": "markdown",
   "id": "43a23e83",
   "metadata": {},
   "source": [
    "As you see, on output tuples are always enclosed in parentheses, so that nested tuples are interpreted correctly; they may be input with or without surrounding parentheses, although often parentheses are necessary anyway (if the tuple is part of a larger expression). It is not possible to assign to the individual items of a tuple, however it is possible to create tuples which contain mutable objects, such as lists."
   ]
  },
  {
   "cell_type": "code",
   "execution_count": 32,
   "id": "c25f13aa",
   "metadata": {},
   "outputs": [
    {
     "name": "stdout",
     "output_type": "stream",
     "text": [
      "<class 'list'>\n",
      "This is a list.  ['grapes', 'pineapple', 'apple', 'mango', 'tangerine']\n",
      "<class 'tuple'>\n",
      "This is a tuple ('Kenya', 'Tanzania', 'Ghana', 'Rwanda', 254)\n",
      "This is a tuple nesting a list and a tuple <class 'tuple'> (['grapes', 'pineapple', 'apple', 'mango', 'tangerine'], ('Kenya', 'Tanzania', 'Ghana', 'Rwanda', 254))\n",
      "(['guava', 'pineapple', 'apple', 'mango', 'tangerine'], ('Kenya', 'Tanzania', 'Ghana', 'Rwanda', 254))\n"
     ]
    }
   ],
   "source": [
    "fruit = [\"grapes\", \"pineapple\", \"apple\", \"mango\", \"tangerine\"]\n",
    "print(type(fruit))\n",
    "print(\"This is a list. \", fruit)\n",
    "countries = ('Kenya', 'Tanzania', 'Ghana', 'Rwanda', 254)\n",
    "print(type(countries))\n",
    "print('This is a tuple' ,countries)\n",
    "nest = fruit, countries\n",
    "print('This is a tuple nesting a list and a tuple', type(nest), nest)\n",
    "fruit[0] = \"guava\" #Lists are mutable\n",
    "print(nest)"
   ]
  },
  {
   "cell_type": "markdown",
   "id": "64e10f44",
   "metadata": {},
   "source": [
    "Though tuples may seem similar to lists, they are often used in different situations and for different purposes. Tuples are immutable, and usually contain a heterogeneous sequence of elements that are accessed via unpacking (see later in this section) or indexing (or even by attribute in the case of namedtuples). Lists are mutable, and their elements are usually homogeneous and are accessed by iterating over the list."
   ]
  },
  {
   "cell_type": "code",
   "execution_count": 34,
   "id": "5740a136",
   "metadata": {},
   "outputs": [
    {
     "name": "stdout",
     "output_type": "stream",
     "text": [
      "0\n",
      "1\n",
      "('hello',)\n"
     ]
    }
   ],
   "source": [
    "# A special problem is the construction of tuples containing 0 or 1 items: the syntax has some extra quirks to accommodate these. Empty tuples are constructed by an empty pair of parentheses; a tuple with one item is constructed by following a value with a comma (it is not sufficient to enclose a single value in parentheses). Ugly, but effective.\n",
    "empty = ()\n",
    "singleton = 'hello',    # <-- note trailing comma\n",
    "print(len(empty))\n",
    "\n",
    "print(len(singleton))\n",
    "\n",
    "print(singleton)"
   ]
  },
  {
   "cell_type": "code",
   "execution_count": null,
   "id": "1254342f",
   "metadata": {},
   "outputs": [
    {
     "name": "stdout",
     "output_type": "stream",
     "text": [
      "(12345, 54321, 'hello!')\n"
     ]
    }
   ],
   "source": [
    "# The statement t = 12345, 54321, 'hello!' is an example of tuple packing: the values 12345, 54321 and 'hello!' are packed together in a tuple. The reverse operation is also possible:\n",
    "# This is called, appropriately enough, sequence unpacking and works for any sequence on the right-hand side. Sequence unpacking requires that there are as many variables on the left side of the equals sign as there are elements in the sequence. Note that multiple assignment is really just a combination of tuple packing and sequence unpacking.\n",
    "t = 12345, 54321, 'hello!'\n",
    "x, y, z = t\n",
    "print(t)\n",
    "\n"
   ]
  },
  {
   "cell_type": "markdown",
   "id": "4c749e0f",
   "metadata": {},
   "source": [
    "## What is Tuple Packing in Python?\n",
    "Tuple packing is the process of grouping multiple values into a single tuple without explicitly using parentheses.\n",
    "In Python, assignment with multiple values on the right-hand side implicitly packs those values into a tuple.\n",
    "Even though there are no parentheses, Python recognizes this as a tuple. This is tuple packing."
   ]
  },
  {
   "cell_type": "code",
   "execution_count": 70,
   "id": "bc6f64e7",
   "metadata": {},
   "outputs": [
    {
     "name": "stdout",
     "output_type": "stream",
     "text": [
      "(1, 2, 3)\n",
      "1\n",
      "2\n",
      "3\n",
      "<class 'int'>\n",
      "<class 'tuple'>\n",
      "('Alvin', 25, 'Kenya')\n",
      "Alvin is 25 years old and lives in Kenya\n",
      "(12.5, 7.8)\n",
      "Name: Alvin\n",
      "Attributes: ('curious', 'honest', 'technical')\n",
      "<class 'tuple'>\n"
     ]
    }
   ],
   "source": [
    "packed = 1, 2, 3\n",
    "print(packed)  # Output: (1, 2, 3)\n",
    "\n",
    "# Tuple Unpacking\n",
    "a, b,c = packed\n",
    "print(a)\n",
    "print(b)\n",
    "print(c)\n",
    "print(type(a))\n",
    "print(type(packed))\n",
    "\n",
    "# Packing three values into a tuple\n",
    "person = \"Alvin\", 25, \"Kenya\"\n",
    "name, age, country = person\n",
    "print(person)\n",
    "print (name, \"is\", age, \"years old and lives in\",country)\n",
    "# Output: ('Alvin', 25, 'Kenya')\n",
    "\n",
    "#  Packing in a Function Return\n",
    "def get_coordinates():\n",
    "    x = 12.5\n",
    "    y = 7.8\n",
    "    return x, y  # This returns a packed tuple (12.5, 7.8)\n",
    "\n",
    "coords = get_coordinates()\n",
    "print(coords)    # Output: (12.5, 7.8)\n",
    "\n",
    "# Mixed Use in Functions\n",
    "def describe(name, *attributes):\n",
    "    print(\"Name:\", name)\n",
    "    print(\"Attributes:\", attributes)  # `attributes` is a packed tuple\n",
    "\n",
    "describe(\"Alvin\", \"curious\", \"honest\", \"technical\")\n",
    "# Output:\n",
    "# Name: Alvin\n",
    "# Attributes: ('curious', 'honest', 'technical')\n",
    "\n",
    "x = \"Kenya\", 254\n",
    "print(type(x))"
   ]
  }
 ],
 "metadata": {
  "kernelspec": {
   "display_name": "Python 3",
   "language": "python",
   "name": "python3"
  },
  "language_info": {
   "codemirror_mode": {
    "name": "ipython",
    "version": 3
   },
   "file_extension": ".py",
   "mimetype": "text/x-python",
   "name": "python",
   "nbconvert_exporter": "python",
   "pygments_lexer": "ipython3",
   "version": "3.13.5"
  }
 },
 "nbformat": 4,
 "nbformat_minor": 5
}
