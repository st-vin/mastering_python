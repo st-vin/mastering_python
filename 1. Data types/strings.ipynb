{
 "cells": [
  {
   "cell_type": "code",
   "execution_count": 16,
   "id": "d8778bee",
   "metadata": {},
   "outputs": [
    {
     "name": "stdout",
     "output_type": "stream",
     "text": [
      "ython\n",
      "yth\n"
     ]
    },
    {
     "data": {
      "text/plain": [
       "6"
      ]
     },
     "execution_count": 16,
     "metadata": {},
     "output_type": "execute_result"
    }
   ],
   "source": [
    "word = \"Python\"\n",
    "print (word [1:] )\n",
    "print (word [1:4]) # characters from position 1 (included) to 4\n",
    "\n",
    "#The built-in function len() returns the length of a string:\n",
    "len(word)"
   ]
  },
  {
   "cell_type": "markdown",
   "id": "8400b72b",
   "metadata": {},
   "source": [
    "One way to remember how slices work is to think of the indices as pointing between characters, with the left edge of the first character numbered 0. Then the right edge of the last character of a string of n characters has index n, for example:\n",
    "\n",
    " +---+---+---+---+---+---+\n",
    " | P | y | t | h | o | n |\n",
    " +---+---+---+---+---+---+\n",
    " 0   1   2   3   4   5   6\n",
    "-6  -5  -4  -3  -2  -1\n",
    "\n",
    "Python strings cannot be changed — they are immutable. Therefore, assigning to an indexed position in the string results in an error:"
   ]
  },
  {
   "cell_type": "markdown",
   "id": "fc5b8403",
   "metadata": {},
   "source": [
    "See also\n",
    "Text Sequence Type — str\n",
    "Strings are examples of sequence types, and support the common operations supported by such types.\n",
    "\n",
    "String Methods\n",
    "Strings support a large number of methods for basic transformations and searching.\n",
    "\n",
    "f-strings\n",
    "String literals that have embedded expressions.\n",
    "\n",
    "Format String Syntax\n",
    "Information about string formatting with str.format().\n",
    "\n",
    "printf-style String Formatting\n",
    "The old formatting operations invoked when strings are the left operand of the % operator are described in more detail here."
   ]
  }
 ],
 "metadata": {
  "kernelspec": {
   "display_name": "Python 3",
   "language": "python",
   "name": "python3"
  },
  "language_info": {
   "codemirror_mode": {
    "name": "ipython",
    "version": 3
   },
   "file_extension": ".py",
   "mimetype": "text/x-python",
   "name": "python",
   "nbconvert_exporter": "python",
   "pygments_lexer": "ipython3",
   "version": "3.13.5"
  }
 },
 "nbformat": 4,
 "nbformat_minor": 5
}
